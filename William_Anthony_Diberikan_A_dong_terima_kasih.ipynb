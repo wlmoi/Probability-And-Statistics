{
  "nbformat": 4,
  "nbformat_minor": 0,
  "metadata": {
    "colab": {
      "provenance": [],
      "collapsed_sections": [
        "sZ946T1aVCVF",
        "l2_wMSd7XMnl",
        "1fN_h1NEaWh7",
        "U-eXxqu6CPTZ",
        "XHVJS385RmUr",
        "43urx_ZVYv9m",
        "WYsDI-YqsJ-e",
        "MRs8L7xntcqJ",
        "ZI-jyQDw0oAU",
        "l46QOqFV1DyF",
        "PQ7LE1pp2g42",
        "8dP4oFW8-RM6",
        "wPcBPFs3Ouqb"
      ]
    },
    "kernelspec": {
      "name": "python3",
      "display_name": "Python 3"
    },
    "language_info": {
      "name": "python"
    }
  },
  "cells": [
    {
      "cell_type": "markdown",
      "source": [
        "# **TOOLS UJIAN PROBSTAT (UAS)**"
      ],
      "metadata": {
        "id": "iyrky2icU7Gf"
      }
    },
    {
      "cell_type": "markdown",
      "source": [
        "**READ ME :)**     \n",
        "Punya Angelina khekhek\n",
        "1. Ini tu byk tools yg sama krn dipake berulang\" ke soal (sesuain sama subjudul di table of contents aje)\n",
        "2. var known sama sigma known itu sbrnny sm, karena sigma^2 = varian. Kalo var dik, sigm dik, vice versa!\n",
        "3. Makin kebawah makin penting, jd liat latihan\" yg ada mksh\n",
        "4. yh bye"
      ],
      "metadata": {
        "id": "1_1by6ovUgdH"
      }
    },
    {
      "cell_type": "markdown",
      "source": [
        "## **LIBRARY**"
      ],
      "metadata": {
        "id": "-ZxJkqaeXmwD"
      }
    },
    {
      "cell_type": "code",
      "source": [
        "# LIBRARY\n",
        "# PS. Ini library yang dipakai untuk keperluan tools\n",
        "import pandas as pd\n",
        "import numpy as np\n",
        "from tabulate import tabulate\n",
        "from math import sqrt\n",
        "import matplotlib.pyplot as plt\n",
        "import seaborn as sns\n",
        "from statsmodels.graphics.mosaicplot import mosaic\n",
        "from wordcloud import WordCloud\n",
        "import plotly.express as px\n",
        "import scipy.stats as st\n",
        "from scipy.stats import chi2"
      ],
      "metadata": {
        "id": "9FbFCUYgXi20"
      },
      "execution_count": 4,
      "outputs": []
    },
    {
      "cell_type": "markdown",
      "source": [
        "## **REGRESI LINEAR**"
      ],
      "metadata": {
        "id": "sZ946T1aVCVF"
      }
    },
    {
      "cell_type": "markdown",
      "source": [
        "Daya Listrik Data Centre"
      ],
      "metadata": {
        "id": "yZztVGkGREeC"
      }
    },
    {
      "cell_type": "code",
      "execution_count": null,
      "metadata": {
        "colab": {
          "base_uri": "https://localhost:8080/"
        },
        "id": "WUct1LMVs2gB",
        "outputId": "b67c9bb0-2135-4c9e-d3fc-ad66bf0bf6c9"
      },
      "outputs": [
        {
          "output_type": "stream",
          "name": "stdout",
          "text": [
            "Jawaban Hasil regresi:\n",
            "a. Sxx: 26950.0\n",
            "b. Sxy: 122999.99999999999\n",
            "c. Syy: 653333.3333333334\n",
            "d. Slope (B1): 4.5640\n",
            "e. Intercept (B0): 76.6852\n",
            "f. Persamaan regresi: y = 76.69 + 4.56x\n",
            "g. SSE: 91960.4205\n",
            "h. MSE atau s^2: 22990.1051\n",
            "i. R-squared: 0.8592\n",
            "j. Korelasi Linear Sampel (r) : 0.9270\n"
          ]
        }
      ],
      "source": [
        "import numpy as np\n",
        "# No1. Daya Listrik Data Center (Contoh Soal)\n",
        "\n",
        "# Masukkan data yang ingin di regresi linear\n",
        "x = np.array([300, 200, 170, 250, 90, 160])  # Variabel independen\n",
        "y = np.array([1500, 1100, 1000, 1000, 400, 800])  # Variabel dependen\n",
        "\n",
        "# Jumlah data\n",
        "n = len(x)\n",
        "\n",
        "# Menghitung rata-rata\n",
        "x_mean = np.mean(x)\n",
        "y_mean = np.mean(y)\n",
        "\n",
        "# Menghitung Sxx, Syy, dan Sxy # Sum Kuadrat Selisih Meannya\n",
        "Sxx = np.sum((x - x_mean)**2)\n",
        "Syy = np.sum((y - y_mean)**2)\n",
        "Sxy = np.sum((x - x_mean) * (y - y_mean))\n",
        "\n",
        "# Menghitung kemiringan (B1) dan intersep (B0)\n",
        "B1 = Sxy / Sxx\n",
        "B0 = y_mean - B1 * x_mean\n",
        "\n",
        "# Fungsi prediksi\n",
        "def predict(x_values):\n",
        "    return B0 + B1 * x_values\n",
        "\n",
        "# Hasil regresi\n",
        "y_pred = predict(x)\n",
        "\n",
        "# Menghitung R-squared\n",
        "ss_total = Syy  # Total sum of squares\n",
        "sse = np.sum((y - y_pred)**2)  # Residual sum of squares\n",
        "r_squared = 1 - (sse / ss_total)\n",
        "s2 = (sse/(n-2)) # MSE atau s^2\n",
        "r = Sxy / np.sqrt(Sxx * Syy)\n",
        "# Evaluasi model\n",
        "\n",
        "\n",
        "# Menampilkan hasil\n",
        "print(\"Jawaban Hasil regresi:\")\n",
        "print(f\"a. Sxx: {Sxx}\")\n",
        "print(f\"b. Sxy: {Sxy}\")\n",
        "print(f\"c. Syy: {Syy}\")\n",
        "print(f\"d. Slope (B1): {B1:.4f}\")\n",
        "print(f\"e. Intercept (B0): {B0:.4f}\")\n",
        "# Menampilkan persamaan regresi\n",
        "print(f\"f. Persamaan regresi: y = {B0:.4f} + {B1:.4f}x\")\n",
        "print(f\"g. SSE: {sse:.4f}\")\n",
        "print(f\"h. MSE atau s^2: {s2:.4f}\")\n",
        "print(f\"i. R-squared: {r_squared:.4f}\")\n",
        "print(f\"j. Korelasi Linear Sampel (r) : {r:.4f}\")"
      ]
    },
    {
      "cell_type": "code",
      "source": [
        "# Buatlah ini jadi data frame \"Lokasi Data Center rak_aktif Kebutuhan luas ruang Data Center yang disewa (meter persegi) Batam 31 90 Pekanbaru 20 50 Jakarta 19 55 Surabaya 21 66 Balikpapan 9 25 Makassar 16 45\" buatlah menjadi \"\n",
        "# # Masukkan data yang ingin di regresi linear\n",
        "# x = np.array([300, 200, 170, 250, 90, 160])  # Variabel independen\n",
        "# y = np.array([1500, 1100, 1000, 1000, 400, 800])  # Variabel dependen\n",
        "# \" begitu\n",
        "\n",
        "import pandas as pd\n",
        "import numpy as np\n",
        "\n",
        "# Data\n",
        "data = {'Lokasi': ['Batam', 'Pekanbaru', 'Jakarta', 'Surabaya', 'Balikpapan', 'Makassar'],\n",
        "        'rak_aktif': [31, 20, 19, 21, 9, 16],\n",
        "        'Kebutuhan luas ruang Data Center yang disewa (meter persegi)': [90, 50, 55, 66, 25, 45]}\n",
        "\n",
        "df = pd.DataFrame(data)\n",
        "\n",
        "# Variabel independen dan dependen\n",
        "x = df['rak_aktif'].values\n",
        "y = df['Kebutuhan luas ruang Data Center yang disewa (meter persegi)'].values\n",
        "\n",
        "\n",
        "# Jumlah data\n",
        "n = len(x)\n",
        "\n",
        "# Menghitung rata-rata\n",
        "x_mean = np.mean(x)\n",
        "y_mean = np.mean(y)\n",
        "\n",
        "# Menghitung Sxx, Syy, dan Sxy # Sum Kuadrat Selisih Meannya\n",
        "Sxx = np.sum((x - x_mean)**2)\n",
        "Syy = np.sum((y - y_mean)**2)\n",
        "Sxy = np.sum((x - x_mean) * (y - y_mean))\n",
        "\n",
        "# Menghitung kemiringan (B1) dan intersep (B0)\n",
        "B1 = Sxy / Sxx\n",
        "B0 = y_mean - B1 * x_mean\n",
        "\n",
        "# Fungsi prediksi\n",
        "def predict(x_values):\n",
        "    return B0 + B1 * x_values\n",
        "\n",
        "# Hasil regresi\n",
        "y_pred = predict(x)\n",
        "\n",
        "# Menghitung R-squared\n",
        "ss_total = Syy  # Total sum of squares\n",
        "sse = np.sum((y - y_pred)**2)  # Residual sum of squares\n",
        "r_squared = 1 - (sse / ss_total)\n",
        "s2 = (sse/(n-2)) # MSE atau s^2\n",
        "r = Sxy / np.sqrt(Sxx * Syy)\n",
        "\n",
        "# Menampilkan hasil\n",
        "print(\"Jawaban Hasil regresi:\")\n",
        "print(f\"a. Sxx: {Sxx}\")\n",
        "print(f\"b. Sxy: {Sxy}\")\n",
        "print(f\"c. Syy: {Syy}\")\n",
        "print(f\"d. Slope (B1): {B1:.4f}\")\n",
        "print(f\"e. Intercept (B0): {B0:.4f}\")\n",
        "# Menampilkan persamaan regresi\n",
        "print(f\"f. Persamaan regresi: y = {B0:.4f} + {B1:.4f}x\")\n",
        "print(f\"g. SSE: {sse:.4f}\")\n",
        "print(f\"h. MSE atau s^2: {s2:.4f}\")\n",
        "print(f\"i. R-squared: {r_squared:.4f}\")\n",
        "print(f\"j. Korelasi Linear Sampel (r) : {r:.4f}\")\n",
        "\n",
        "print(\"\\nDataFrame:\")\n",
        "df"
      ],
      "metadata": {
        "colab": {
          "base_uri": "https://localhost:8080/",
          "height": 487
        },
        "id": "HKZmRCzUCnCl",
        "outputId": "9d6c9077-f5b2-4ccb-e3e0-1c4950b05516"
      },
      "execution_count": 3,
      "outputs": [
        {
          "output_type": "stream",
          "name": "stdout",
          "text": [
            "Jawaban Hasil regresi:\n",
            "a. Sxx: 257.3333333333333\n",
            "b. Sxy: 766.6666666666667\n",
            "c. Syy: 2370.833333333333\n",
            "d. Slope (B1): 2.9793\n",
            "e. Intercept (B0): -2.4326\n",
            "f. Persamaan regresi: y = -2.4326 + 2.9793x\n",
            "g. SSE: 86.7228\n",
            "h. MSE atau s^2: 21.6807\n",
            "i. R-squared: 0.9634\n",
            "j. Korelasi Linear Sampel (r) : 0.9815\n",
            "\n",
            "DataFrame:\n"
          ]
        },
        {
          "output_type": "execute_result",
          "data": {
            "text/plain": [
              "       Lokasi  rak_aktif  \\\n",
              "0       Batam         31   \n",
              "1   Pekanbaru         20   \n",
              "2     Jakarta         19   \n",
              "3    Surabaya         21   \n",
              "4  Balikpapan          9   \n",
              "5    Makassar         16   \n",
              "\n",
              "   Kebutuhan luas ruang Data Center yang disewa (meter persegi)  \n",
              "0                                                 90             \n",
              "1                                                 50             \n",
              "2                                                 55             \n",
              "3                                                 66             \n",
              "4                                                 25             \n",
              "5                                                 45             "
            ],
            "text/html": [
              "\n",
              "  <div id=\"df-52eced07-4633-41df-afd1-b333bdd144da\" class=\"colab-df-container\">\n",
              "    <div>\n",
              "<style scoped>\n",
              "    .dataframe tbody tr th:only-of-type {\n",
              "        vertical-align: middle;\n",
              "    }\n",
              "\n",
              "    .dataframe tbody tr th {\n",
              "        vertical-align: top;\n",
              "    }\n",
              "\n",
              "    .dataframe thead th {\n",
              "        text-align: right;\n",
              "    }\n",
              "</style>\n",
              "<table border=\"1\" class=\"dataframe\">\n",
              "  <thead>\n",
              "    <tr style=\"text-align: right;\">\n",
              "      <th></th>\n",
              "      <th>Lokasi</th>\n",
              "      <th>rak_aktif</th>\n",
              "      <th>Kebutuhan luas ruang Data Center yang disewa (meter persegi)</th>\n",
              "    </tr>\n",
              "  </thead>\n",
              "  <tbody>\n",
              "    <tr>\n",
              "      <th>0</th>\n",
              "      <td>Batam</td>\n",
              "      <td>31</td>\n",
              "      <td>90</td>\n",
              "    </tr>\n",
              "    <tr>\n",
              "      <th>1</th>\n",
              "      <td>Pekanbaru</td>\n",
              "      <td>20</td>\n",
              "      <td>50</td>\n",
              "    </tr>\n",
              "    <tr>\n",
              "      <th>2</th>\n",
              "      <td>Jakarta</td>\n",
              "      <td>19</td>\n",
              "      <td>55</td>\n",
              "    </tr>\n",
              "    <tr>\n",
              "      <th>3</th>\n",
              "      <td>Surabaya</td>\n",
              "      <td>21</td>\n",
              "      <td>66</td>\n",
              "    </tr>\n",
              "    <tr>\n",
              "      <th>4</th>\n",
              "      <td>Balikpapan</td>\n",
              "      <td>9</td>\n",
              "      <td>25</td>\n",
              "    </tr>\n",
              "    <tr>\n",
              "      <th>5</th>\n",
              "      <td>Makassar</td>\n",
              "      <td>16</td>\n",
              "      <td>45</td>\n",
              "    </tr>\n",
              "  </tbody>\n",
              "</table>\n",
              "</div>\n",
              "    <div class=\"colab-df-buttons\">\n",
              "\n",
              "  <div class=\"colab-df-container\">\n",
              "    <button class=\"colab-df-convert\" onclick=\"convertToInteractive('df-52eced07-4633-41df-afd1-b333bdd144da')\"\n",
              "            title=\"Convert this dataframe to an interactive table.\"\n",
              "            style=\"display:none;\">\n",
              "\n",
              "  <svg xmlns=\"http://www.w3.org/2000/svg\" height=\"24px\" viewBox=\"0 -960 960 960\">\n",
              "    <path d=\"M120-120v-720h720v720H120Zm60-500h600v-160H180v160Zm220 220h160v-160H400v160Zm0 220h160v-160H400v160ZM180-400h160v-160H180v160Zm440 0h160v-160H620v160ZM180-180h160v-160H180v160Zm440 0h160v-160H620v160Z\"/>\n",
              "  </svg>\n",
              "    </button>\n",
              "\n",
              "  <style>\n",
              "    .colab-df-container {\n",
              "      display:flex;\n",
              "      gap: 12px;\n",
              "    }\n",
              "\n",
              "    .colab-df-convert {\n",
              "      background-color: #E8F0FE;\n",
              "      border: none;\n",
              "      border-radius: 50%;\n",
              "      cursor: pointer;\n",
              "      display: none;\n",
              "      fill: #1967D2;\n",
              "      height: 32px;\n",
              "      padding: 0 0 0 0;\n",
              "      width: 32px;\n",
              "    }\n",
              "\n",
              "    .colab-df-convert:hover {\n",
              "      background-color: #E2EBFA;\n",
              "      box-shadow: 0px 1px 2px rgba(60, 64, 67, 0.3), 0px 1px 3px 1px rgba(60, 64, 67, 0.15);\n",
              "      fill: #174EA6;\n",
              "    }\n",
              "\n",
              "    .colab-df-buttons div {\n",
              "      margin-bottom: 4px;\n",
              "    }\n",
              "\n",
              "    [theme=dark] .colab-df-convert {\n",
              "      background-color: #3B4455;\n",
              "      fill: #D2E3FC;\n",
              "    }\n",
              "\n",
              "    [theme=dark] .colab-df-convert:hover {\n",
              "      background-color: #434B5C;\n",
              "      box-shadow: 0px 1px 3px 1px rgba(0, 0, 0, 0.15);\n",
              "      filter: drop-shadow(0px 1px 2px rgba(0, 0, 0, 0.3));\n",
              "      fill: #FFFFFF;\n",
              "    }\n",
              "  </style>\n",
              "\n",
              "    <script>\n",
              "      const buttonEl =\n",
              "        document.querySelector('#df-52eced07-4633-41df-afd1-b333bdd144da button.colab-df-convert');\n",
              "      buttonEl.style.display =\n",
              "        google.colab.kernel.accessAllowed ? 'block' : 'none';\n",
              "\n",
              "      async function convertToInteractive(key) {\n",
              "        const element = document.querySelector('#df-52eced07-4633-41df-afd1-b333bdd144da');\n",
              "        const dataTable =\n",
              "          await google.colab.kernel.invokeFunction('convertToInteractive',\n",
              "                                                    [key], {});\n",
              "        if (!dataTable) return;\n",
              "\n",
              "        const docLinkHtml = 'Like what you see? Visit the ' +\n",
              "          '<a target=\"_blank\" href=https://colab.research.google.com/notebooks/data_table.ipynb>data table notebook</a>'\n",
              "          + ' to learn more about interactive tables.';\n",
              "        element.innerHTML = '';\n",
              "        dataTable['output_type'] = 'display_data';\n",
              "        await google.colab.output.renderOutput(dataTable, element);\n",
              "        const docLink = document.createElement('div');\n",
              "        docLink.innerHTML = docLinkHtml;\n",
              "        element.appendChild(docLink);\n",
              "      }\n",
              "    </script>\n",
              "  </div>\n",
              "\n",
              "\n",
              "<div id=\"df-c58fbba1-d060-47de-a142-b037a3b02a58\">\n",
              "  <button class=\"colab-df-quickchart\" onclick=\"quickchart('df-c58fbba1-d060-47de-a142-b037a3b02a58')\"\n",
              "            title=\"Suggest charts\"\n",
              "            style=\"display:none;\">\n",
              "\n",
              "<svg xmlns=\"http://www.w3.org/2000/svg\" height=\"24px\"viewBox=\"0 0 24 24\"\n",
              "     width=\"24px\">\n",
              "    <g>\n",
              "        <path d=\"M19 3H5c-1.1 0-2 .9-2 2v14c0 1.1.9 2 2 2h14c1.1 0 2-.9 2-2V5c0-1.1-.9-2-2-2zM9 17H7v-7h2v7zm4 0h-2V7h2v10zm4 0h-2v-4h2v4z\"/>\n",
              "    </g>\n",
              "</svg>\n",
              "  </button>\n",
              "\n",
              "<style>\n",
              "  .colab-df-quickchart {\n",
              "      --bg-color: #E8F0FE;\n",
              "      --fill-color: #1967D2;\n",
              "      --hover-bg-color: #E2EBFA;\n",
              "      --hover-fill-color: #174EA6;\n",
              "      --disabled-fill-color: #AAA;\n",
              "      --disabled-bg-color: #DDD;\n",
              "  }\n",
              "\n",
              "  [theme=dark] .colab-df-quickchart {\n",
              "      --bg-color: #3B4455;\n",
              "      --fill-color: #D2E3FC;\n",
              "      --hover-bg-color: #434B5C;\n",
              "      --hover-fill-color: #FFFFFF;\n",
              "      --disabled-bg-color: #3B4455;\n",
              "      --disabled-fill-color: #666;\n",
              "  }\n",
              "\n",
              "  .colab-df-quickchart {\n",
              "    background-color: var(--bg-color);\n",
              "    border: none;\n",
              "    border-radius: 50%;\n",
              "    cursor: pointer;\n",
              "    display: none;\n",
              "    fill: var(--fill-color);\n",
              "    height: 32px;\n",
              "    padding: 0;\n",
              "    width: 32px;\n",
              "  }\n",
              "\n",
              "  .colab-df-quickchart:hover {\n",
              "    background-color: var(--hover-bg-color);\n",
              "    box-shadow: 0 1px 2px rgba(60, 64, 67, 0.3), 0 1px 3px 1px rgba(60, 64, 67, 0.15);\n",
              "    fill: var(--button-hover-fill-color);\n",
              "  }\n",
              "\n",
              "  .colab-df-quickchart-complete:disabled,\n",
              "  .colab-df-quickchart-complete:disabled:hover {\n",
              "    background-color: var(--disabled-bg-color);\n",
              "    fill: var(--disabled-fill-color);\n",
              "    box-shadow: none;\n",
              "  }\n",
              "\n",
              "  .colab-df-spinner {\n",
              "    border: 2px solid var(--fill-color);\n",
              "    border-color: transparent;\n",
              "    border-bottom-color: var(--fill-color);\n",
              "    animation:\n",
              "      spin 1s steps(1) infinite;\n",
              "  }\n",
              "\n",
              "  @keyframes spin {\n",
              "    0% {\n",
              "      border-color: transparent;\n",
              "      border-bottom-color: var(--fill-color);\n",
              "      border-left-color: var(--fill-color);\n",
              "    }\n",
              "    20% {\n",
              "      border-color: transparent;\n",
              "      border-left-color: var(--fill-color);\n",
              "      border-top-color: var(--fill-color);\n",
              "    }\n",
              "    30% {\n",
              "      border-color: transparent;\n",
              "      border-left-color: var(--fill-color);\n",
              "      border-top-color: var(--fill-color);\n",
              "      border-right-color: var(--fill-color);\n",
              "    }\n",
              "    40% {\n",
              "      border-color: transparent;\n",
              "      border-right-color: var(--fill-color);\n",
              "      border-top-color: var(--fill-color);\n",
              "    }\n",
              "    60% {\n",
              "      border-color: transparent;\n",
              "      border-right-color: var(--fill-color);\n",
              "    }\n",
              "    80% {\n",
              "      border-color: transparent;\n",
              "      border-right-color: var(--fill-color);\n",
              "      border-bottom-color: var(--fill-color);\n",
              "    }\n",
              "    90% {\n",
              "      border-color: transparent;\n",
              "      border-bottom-color: var(--fill-color);\n",
              "    }\n",
              "  }\n",
              "</style>\n",
              "\n",
              "  <script>\n",
              "    async function quickchart(key) {\n",
              "      const quickchartButtonEl =\n",
              "        document.querySelector('#' + key + ' button');\n",
              "      quickchartButtonEl.disabled = true;  // To prevent multiple clicks.\n",
              "      quickchartButtonEl.classList.add('colab-df-spinner');\n",
              "      try {\n",
              "        const charts = await google.colab.kernel.invokeFunction(\n",
              "            'suggestCharts', [key], {});\n",
              "      } catch (error) {\n",
              "        console.error('Error during call to suggestCharts:', error);\n",
              "      }\n",
              "      quickchartButtonEl.classList.remove('colab-df-spinner');\n",
              "      quickchartButtonEl.classList.add('colab-df-quickchart-complete');\n",
              "    }\n",
              "    (() => {\n",
              "      let quickchartButtonEl =\n",
              "        document.querySelector('#df-c58fbba1-d060-47de-a142-b037a3b02a58 button');\n",
              "      quickchartButtonEl.style.display =\n",
              "        google.colab.kernel.accessAllowed ? 'block' : 'none';\n",
              "    })();\n",
              "  </script>\n",
              "</div>\n",
              "\n",
              "  <div id=\"id_f5be9847-44ca-46f5-bac0-32033043e13d\">\n",
              "    <style>\n",
              "      .colab-df-generate {\n",
              "        background-color: #E8F0FE;\n",
              "        border: none;\n",
              "        border-radius: 50%;\n",
              "        cursor: pointer;\n",
              "        display: none;\n",
              "        fill: #1967D2;\n",
              "        height: 32px;\n",
              "        padding: 0 0 0 0;\n",
              "        width: 32px;\n",
              "      }\n",
              "\n",
              "      .colab-df-generate:hover {\n",
              "        background-color: #E2EBFA;\n",
              "        box-shadow: 0px 1px 2px rgba(60, 64, 67, 0.3), 0px 1px 3px 1px rgba(60, 64, 67, 0.15);\n",
              "        fill: #174EA6;\n",
              "      }\n",
              "\n",
              "      [theme=dark] .colab-df-generate {\n",
              "        background-color: #3B4455;\n",
              "        fill: #D2E3FC;\n",
              "      }\n",
              "\n",
              "      [theme=dark] .colab-df-generate:hover {\n",
              "        background-color: #434B5C;\n",
              "        box-shadow: 0px 1px 3px 1px rgba(0, 0, 0, 0.15);\n",
              "        filter: drop-shadow(0px 1px 2px rgba(0, 0, 0, 0.3));\n",
              "        fill: #FFFFFF;\n",
              "      }\n",
              "    </style>\n",
              "    <button class=\"colab-df-generate\" onclick=\"generateWithVariable('df')\"\n",
              "            title=\"Generate code using this dataframe.\"\n",
              "            style=\"display:none;\">\n",
              "\n",
              "  <svg xmlns=\"http://www.w3.org/2000/svg\" height=\"24px\"viewBox=\"0 0 24 24\"\n",
              "       width=\"24px\">\n",
              "    <path d=\"M7,19H8.4L18.45,9,17,7.55,7,17.6ZM5,21V16.75L18.45,3.32a2,2,0,0,1,2.83,0l1.4,1.43a1.91,1.91,0,0,1,.58,1.4,1.91,1.91,0,0,1-.58,1.4L9.25,21ZM18.45,9,17,7.55Zm-12,3A5.31,5.31,0,0,0,4.9,8.1,5.31,5.31,0,0,0,1,6.5,5.31,5.31,0,0,0,4.9,4.9,5.31,5.31,0,0,0,6.5,1,5.31,5.31,0,0,0,8.1,4.9,5.31,5.31,0,0,0,12,6.5,5.46,5.46,0,0,0,6.5,12Z\"/>\n",
              "  </svg>\n",
              "    </button>\n",
              "    <script>\n",
              "      (() => {\n",
              "      const buttonEl =\n",
              "        document.querySelector('#id_f5be9847-44ca-46f5-bac0-32033043e13d button.colab-df-generate');\n",
              "      buttonEl.style.display =\n",
              "        google.colab.kernel.accessAllowed ? 'block' : 'none';\n",
              "\n",
              "      buttonEl.onclick = () => {\n",
              "        google.colab.notebook.generateWithVariable('df');\n",
              "      }\n",
              "      })();\n",
              "    </script>\n",
              "  </div>\n",
              "\n",
              "    </div>\n",
              "  </div>\n"
            ],
            "application/vnd.google.colaboratory.intrinsic+json": {
              "type": "dataframe",
              "variable_name": "df",
              "summary": "{\n  \"name\": \"df\",\n  \"rows\": 6,\n  \"fields\": [\n    {\n      \"column\": \"Lokasi\",\n      \"properties\": {\n        \"dtype\": \"string\",\n        \"num_unique_values\": 6,\n        \"samples\": [\n          \"Batam\",\n          \"Pekanbaru\",\n          \"Makassar\"\n        ],\n        \"semantic_type\": \"\",\n        \"description\": \"\"\n      }\n    },\n    {\n      \"column\": \"rak_aktif\",\n      \"properties\": {\n        \"dtype\": \"number\",\n        \"std\": 7,\n        \"min\": 9,\n        \"max\": 31,\n        \"num_unique_values\": 6,\n        \"samples\": [\n          31,\n          20,\n          16\n        ],\n        \"semantic_type\": \"\",\n        \"description\": \"\"\n      }\n    },\n    {\n      \"column\": \"Kebutuhan luas ruang Data Center yang disewa (meter persegi)\",\n      \"properties\": {\n        \"dtype\": \"number\",\n        \"std\": 21,\n        \"min\": 25,\n        \"max\": 90,\n        \"num_unique_values\": 6,\n        \"samples\": [\n          90,\n          50,\n          45\n        ],\n        \"semantic_type\": \"\",\n        \"description\": \"\"\n      }\n    }\n  ]\n}"
            }
          },
          "metadata": {},
          "execution_count": 3
        }
      ]
    },
    {
      "cell_type": "markdown",
      "source": [
        "## **CONFIDENCE INTERVAL**"
      ],
      "metadata": {
        "id": "l2_wMSd7XMnl"
      }
    },
    {
      "cell_type": "markdown",
      "source": [
        "### **TWO SAMPEL PROPORSI DIFF**"
      ],
      "metadata": {
        "id": "HyqgBY4_-Txy"
      }
    },
    {
      "cell_type": "code",
      "source": [
        "# ------------------------------------------------------------------------------------------------------------\n",
        "# Confidence Interval TWO SAMPLE TOOLS (NO2) (KALAU YG DITNY SAMA COPY AJA LGSG CELL INI YH MKSH)\n",
        "# ------------------------------------------------------------------------------------------------------------\n",
        "\n",
        "# Data (Ini Masukkan Persentase yang ingin dimasukkan)\n",
        "xa = (76.8)*(891/100) # INI SAMPEL YANG PERTAMA # 76.8 itu persentase Okeh\n",
        "xb = (47)*(891/100) # INII SAMPEL YANG KEDUA. Yang kita bandingkan adalah\n",
        "n1 = n2 = 891  # BANYAK DATA\n",
        "# Fungsi untuk Two Sample Confidence Interval\n",
        "def two_sample_ci(x1, x2, n1, n2):\n",
        "    p1 = x1 / n1  # proporsi sampel A\n",
        "    p2 = x2 / n2  # proporsi sampel B\n",
        "    cl = 0.99 # GANT SESUAI SOAL*******\n",
        "    a = 1 - cl\n",
        "    z = st.norm.ppf(1 - a / 2)\n",
        "    # Margin error\n",
        "    margin = z * sqrt(p1 * (1 - p1) / n1 + p2 * (1 - p2) / n2)\n",
        "    # Confidence Interval FORMAT PROPORSI SAMPEL 1 - SAMPEL 2\n",
        "    lb = p1 - p2 - margin\n",
        "    ub = p1 - p2 + margin\n",
        "    lb_percent = lb * 100\n",
        "    ub_percent = ub * 100\n",
        "    print(z)\n",
        "    return lb_percent, ub_percent\n",
        "# Pemanggilan Fungsi\n",
        "lb_percent, ub_percent = two_sample_ci(xa, xb, n1, n2)\n",
        "# Output\n",
        "print(f'CI nya adalah: {lb_percent:.2f}% < p1-p2 < {ub_percent:.2f}%')\n"
      ],
      "metadata": {
        "colab": {
          "base_uri": "https://localhost:8080/"
        },
        "id": "a0FiA35QVQul",
        "outputId": "3df76ea7-c040-4d05-97ac-1891bcfae803"
      },
      "execution_count": null,
      "outputs": [
        {
          "output_type": "stream",
          "name": "stdout",
          "text": [
            "2.5758293035489004\n",
            "CI nya adalah: 24.16% < p1-p2 < 35.44%\n"
          ]
        }
      ]
    },
    {
      "cell_type": "code",
      "source": [
        "\n",
        "import scipy.stats as st\n",
        "from math import sqrt\n",
        "\n",
        "def two_sample_ci(x1, x2, n1, n2, confidence_level=0.98):\n",
        "    p1 = x1 / n1  # proporsi sampel A\n",
        "    p2 = x2 / n2  # proporsi sampel B\n",
        "    alpha = 1 - confidence_level\n",
        "    z = st.norm.ppf(1 - alpha / 2)\n",
        "    # Margin error\n",
        "    margin = z * sqrt(p1 * (1 - p1) / n1 + p2 * (1 - p2) / n2)\n",
        "    # Confidence Interval FORMAT PROPORSI SAMPEL 1 - SAMPEL 2\n",
        "    lb = p1 - p2 - margin\n",
        "    ub = p1 - p2 + margin\n",
        "    lb_percent = lb * 100\n",
        "    ub_percent = ub * 100\n",
        "    return lb_percent, ub_percent, z\n",
        "\n",
        "\n",
        "# Data for GoPay and OVO\n",
        "gopay_users = 6559\n",
        "ovo_users = 4070\n",
        "total_users = 9357\n",
        "\n",
        "# Calculate confidence interval\n",
        "lb_percent, ub_percent, z_score = two_sample_ci(gopay_users, ovo_users, total_users, total_users)\n",
        "\n",
        "# Output\n",
        "print(f'The 98% Confidence Interval for the difference in proportions (GoPay - OVO) is: {lb_percent:.2f}% < p1-p2 < {ub_percent:.2f}%')\n",
        "print(f\"z-score: {z_score}\")"
      ],
      "metadata": {
        "colab": {
          "base_uri": "https://localhost:8080/"
        },
        "id": "3NBE2Uq7Edb7",
        "outputId": "1bfabb30-93cc-40a4-8d97-f5132b3d91d8"
      },
      "execution_count": 5,
      "outputs": [
        {
          "output_type": "stream",
          "name": "stdout",
          "text": [
            "The 98% Confidence Interval for the difference in proportions (GoPay - OVO) is: 24.98% < p1-p2 < 28.22%\n",
            "z-score: 2.3263478740408408\n"
          ]
        }
      ]
    },
    {
      "cell_type": "code",
      "source": [
        "# Terapkan dengan data \"eMoney ukuran sampel sampel pengguna GoPay 9357 6559 ShopeePay 9357 4379 OVO 9357 4070 Dana 9357 2732 eMoney Mandiri 9357 1871 Flazz BCA 9357 1273 LinkAja 9357 571 Brizzi 9357 430 JakCard 9357 37 iSaku 9357 28 Lainnya 9357 84\"\n",
        "# Visualisasi tersebut menunjukkan proporsi penggunaan eMoney menurut penelitian yang dilakukan pada tahun 2023. Ukuran sampel pengguna eMoney: n = 9357.\n",
        "# Berdasarkan data tersebut, tentukan (98) % confidence interval untuk soal a-d:\n",
        "# Proporsi pengguna GoPay: (a)... <Pgopay <(b)...\n",
        "# Proporsi pengguna OVO: (c)... < Povo < (d)...\n",
        "# Lakukan uji hipotesis:\n",
        "# HO: Proporsi pengguna gopay = 70%. H1: Proporsi pengguna gopay * 70%. Tingkat signifikansi = α = (9)%\n",
        "# e. Tentukan statistik uji (nilai z)!\n",
        "# f. Tentukan kesimpulan dari uji hipotesis! (apabila HO gagal ditolak jawab 0, apabila HO ditolak jawab 1)\n",
        "# g. Tentukan p-value!\n",
        "# Lakukan uji hipotesis:\n",
        "# HO: Proporsi pengguna ovo = 50%. H1: Proporsi pengguna ovo < 50%. Tingkat signifikansi = a = (9)%\n",
        "# h. Tentukan statistik uji (nilai z)!\n",
        "# i. Tentukan kesimpulan dari uji hipotesis! (apabila HO gagal ditolak jawab 0, apabila HO\n",
        "# ditolak jawab 1)\n",
        "# j. Tentukan p-value!\n",
        "\n",
        "import scipy.stats as st\n",
        "from math import sqrt\n",
        "\n",
        "# Data\n",
        "total_users = 9357\n",
        "gopay_users = 6559\n",
        "ovo_users = 4070\n",
        "\n",
        "# Calculate proportions\n",
        "p_gopay = gopay_users / total_users\n",
        "p_ovo = ovo_users / total_users\n",
        "\n",
        "# Confidence interval for GoPay\n",
        "alpha = 0.02  # 1 - 0.98\n",
        "z = st.norm.ppf(1 - alpha / 2)\n",
        "margin_gopay = z * sqrt(p_gopay * (1 - p_gopay) / total_users)\n",
        "lb_gopay = p_gopay - margin_gopay\n",
        "ub_gopay = p_gopay + margin_gopay\n",
        "print(f\"Proporsi pengguna GoPay: ({lb_gopay*100:.2f})% < Pgopay < ({ub_gopay*100:.2f})%\")\n",
        "\n",
        "# Confidence interval for OVO\n",
        "margin_ovo = z * sqrt(p_ovo * (1 - p_ovo) / total_users)\n",
        "lb_ovo = p_ovo - margin_ovo\n",
        "ub_ovo = p_ovo + margin_ovo\n",
        "print(f\"Proporsi pengguna OVO: ({lb_ovo*100:.2f})% < Povo < ({ub_ovo*100:.2f})%\")\n",
        "\n",
        "\n",
        "# Hypothesis testing for GoPay\n",
        "p_gopay_hyp = 0.70\n",
        "alpha_gopay = 0.09\n",
        "\n",
        "z_gopay_stat = (p_gopay - p_gopay_hyp) / sqrt(p_gopay_hyp * (1 - p_gopay_hyp) / total_users)\n",
        "p_value_gopay = 2 * (1 - st.norm.cdf(abs(z_gopay_stat))) # two-tailed test\n",
        "\n",
        "conclusion_gopay = 1 if p_value_gopay < alpha_gopay else 0\n",
        "\n",
        "print(f\"e. Statistik uji (nilai z) untuk GoPay: {z_gopay_stat:.4f}\")\n",
        "print(f\"f. Kesimpulan uji hipotesis untuk GoPay: {conclusion_gopay}\") #1 tolak H0, 0 gagal tolak H0\n",
        "print(f\"g. P-value untuk GoPay: {p_value_gopay:.4f}\")\n",
        "\n",
        "#Hypothesis testing for OVO\n",
        "p_ovo_hyp = 0.50\n",
        "alpha_ovo = 0.09\n",
        "\n",
        "z_ovo_stat = (p_ovo - p_ovo_hyp) / sqrt(p_ovo_hyp * (1 - p_ovo_hyp) / total_users)\n",
        "p_value_ovo = st.norm.cdf(z_ovo_stat) #one-tailed test\n",
        "\n",
        "conclusion_ovo = 1 if p_value_ovo < alpha_ovo else 0\n",
        "\n",
        "print(f\"h. Statistik uji (nilai z) untuk OVO: {z_ovo_stat:.4f}\")\n",
        "print(f\"i. Kesimpulan uji hipotesis untuk OVO: {conclusion_ovo}\") #1 tolak H0, 0 gagal tolak H0\n",
        "print(f\"j. P-value untuk OVO: {p_value_ovo:.4f}\")"
      ],
      "metadata": {
        "colab": {
          "base_uri": "https://localhost:8080/"
        },
        "id": "yTUiknldRkZv",
        "outputId": "c70d5363-ee6f-4cd4-a83a-fb9ccd600afe"
      },
      "execution_count": 28,
      "outputs": [
        {
          "output_type": "stream",
          "name": "stdout",
          "text": [
            "Proporsi pengguna GoPay: (69.00)% < Pgopay < (71.20)%\n",
            "Proporsi pengguna OVO: (42.30)% < Povo < (44.69)%\n",
            "e. Statistik uji (nilai z) untuk GoPay: 0.2053\n",
            "f. Kesimpulan uji hipotesis untuk GoPay: 0\n",
            "g. P-value untuk GoPay: 0.8373\n",
            "h. Statistik uji (nilai z) untuk OVO: -12.5812\n",
            "i. Kesimpulan uji hipotesis untuk OVO: 1\n",
            "j. P-value untuk OVO: 0.0000\n"
          ]
        }
      ]
    },
    {
      "cell_type": "code",
      "source": [
        "# ------------------------------------------------------------------------------------------------------------\n",
        "# Confidence Interval TWO SAMPLE TOOLS (NO2) (KALAU YG DITNY SAMA COPY AJA LGSG CELL INI YH MKSH)\n",
        "# ------------------------------------------------------------------------------------------------------------\n",
        "\n",
        "# Data (Ini Masukkan Persentase yang ingin dimasukkan)\n",
        "xa = (47)*(891/100) # INI SAMPEL YANG PERTAMA\n",
        "xb = (15.3)*(891/100) # INII SAMPEL YANG KEDUA\n",
        "n1 = n2 = 891  # BANYAK DATA\n",
        "# Fungsi untuk Two Sample Confidence Interval\n",
        "def two_sample_ci(x1, x2, n1, n2):\n",
        "    p1 = x1 / n1  # proporsi sampel A\n",
        "    p2 = x2 / n2  # proporsi sampel B\n",
        "    cl = 0.99 # GANTI ALPHA SESUAI SOAL*******\n",
        "    a = 1 - cl\n",
        "    z = st.norm.ppf(1 - a / 2)\n",
        "    # Margin error\n",
        "    margin = z * sqrt(p1 * (1 - p1) / n1 + p2 * (1 - p2) / n2)\n",
        "    # Confidence Interval FORMAT PROPORSI SAMPEL 1 - SAMPEL 2\n",
        "    lb = p1 - p2 - margin\n",
        "    ub = p1 - p2 + margin\n",
        "    lb_percent = lb * 100\n",
        "    ub_percent = ub * 100\n",
        "    return lb_percent, ub_percent\n",
        "# Pemanggilan Fungsi\n",
        "lb_percent, ub_percent = two_sample_ci(xa, xb, n1, n2)\n",
        "# Output\n",
        "print(f'CI nya adalah: {lb_percent:.2f}% < p1-p2 < {ub_percent:.2f}%')\n"
      ],
      "metadata": {
        "colab": {
          "base_uri": "https://localhost:8080/"
        },
        "outputId": "e5b1aa67-5a27-4548-dee3-e7e19ab043a1",
        "id": "yjbFc5ZVZiPd"
      },
      "execution_count": null,
      "outputs": [
        {
          "output_type": "stream",
          "name": "stdout",
          "text": [
            "CI nya adalah: 26.39% < p1-p2 < 37.01%\n"
          ]
        }
      ]
    },
    {
      "cell_type": "markdown",
      "source": [
        "### **ONE SAMPEL PROPORSI**"
      ],
      "metadata": {
        "id": "Y_tloGxA-YyB"
      }
    },
    {
      "cell_type": "code",
      "source": [
        "# -------------------------------------------------------\n",
        "# Confidence Interval Proporsi One Sample\n",
        "# -------------------------------------------------------\n",
        "\n",
        "n = 9357  # Ukuran sampel\n",
        "x1 = 70.1*(9357/100) #Yang mau dicari proporsi 95% confidence intervalnya\n",
        "# FUNGSI (khusus mencari confidence interval dari satu sampel)\n",
        "def confidence_interval_one_sample(x, n):\n",
        "    p = x / n  # Proporsi sampel\n",
        "    cl = 0.98  # Confidence level\n",
        "    alpha = 1 - cl  # alpha --> P(error)\n",
        "    Z = st.norm.ppf(1 - alpha / 2)\n",
        "    # Margin of error\n",
        "    margin_error = Z * np.sqrt((p * (1 - p)) / n)\n",
        "    # Interval kepercayaan\n",
        "    batas_bawah = p - margin_error\n",
        "    batas_atas = p + margin_error\n",
        "    return batas_bawah, batas_atas\n",
        "# Panggil Fungsi\n",
        "batas_bawah, batas_atas = confidence_interval_one_sample(x1, n)\n",
        "# OUTPUT\n",
        "print(f\"98% confidence interval adalah : ({batas_bawah:.4f}, {batas_atas:.4f})\")\n",
        "lb_percent = batas_bawah*100\n",
        "ub_percent = batas_atas*100\n",
        "print(f'CI nya adalah: {lb_percent:.2f}% < p < {ub_percent:.2f}%')"
      ],
      "metadata": {
        "id": "eOMQ-w48-cJR",
        "colab": {
          "base_uri": "https://localhost:8080/"
        },
        "outputId": "c557dbf9-47f0-4638-ef56-0cc0b7d189a7"
      },
      "execution_count": 8,
      "outputs": [
        {
          "output_type": "stream",
          "name": "stdout",
          "text": [
            "98% confidence interval adalah : (0.6900, 0.7120)\n",
            "CI nya adalah: 69.00% < p < 71.20%\n"
          ]
        }
      ]
    },
    {
      "cell_type": "code",
      "source": [
        "# -------------------------------------------------------\n",
        "# Confidence Interval Proporsi One Sample\n",
        "# -------------------------------------------------------\n",
        "\n",
        "n = 9357  # Ukuran sampel\n",
        "x1 = 43.5*(9357/100) #Yang mau dicari proporsi 95% confidence intervalnya\n",
        "# FUNGSI (khusus mencari confidence interval dari satu sampel)\n",
        "def confidence_interval_one_sample(x, n):\n",
        "    p = x / n  # Proporsi sampel\n",
        "    cl = 0.98  # Confidence level\n",
        "    alpha = 1 - cl  # alpha --> P(error)\n",
        "    Z = st.norm.ppf(1 - alpha / 2)\n",
        "    # Margin of error\n",
        "    margin_error = Z * np.sqrt((p * (1 - p)) / n)\n",
        "    # Interval kepercayaan\n",
        "    batas_bawah = p - margin_error\n",
        "    batas_atas = p + margin_error\n",
        "    return batas_bawah, batas_atas\n",
        "# Panggil Fungsi\n",
        "batas_bawah, batas_atas = confidence_interval_one_sample(x1, n)\n",
        "# OUTPUT\n",
        "print(f\"98% confidence interval adalah : ({batas_bawah:.4f}, {batas_atas:.4f})\")\n",
        "lb_percent = batas_bawah*100\n",
        "ub_percent = batas_atas*100\n",
        "print(f'CI nya adalah: {lb_percent:.2f}% < p < {ub_percent:.2f}%')"
      ],
      "metadata": {
        "colab": {
          "base_uri": "https://localhost:8080/"
        },
        "id": "IOb1bxZrFEHI",
        "outputId": "6da57d34-521f-45b6-9ec4-299f14f1f75a"
      },
      "execution_count": 9,
      "outputs": [
        {
          "output_type": "stream",
          "name": "stdout",
          "text": [
            "98% confidence interval adalah : (0.4231, 0.4469)\n",
            "CI nya adalah: 42.31% < p < 44.69%\n"
          ]
        }
      ]
    },
    {
      "cell_type": "code",
      "source": [
        "# -------------------------------------------------------\n",
        "# Confidence Interval Proporsi One Sample\n",
        "# -------------------------------------------------------\n",
        "\n",
        "n = 1000  # Ukuran sampel\n",
        "x1 = 56.98*(1000/100) #Yang mau dicari proporsi 95% confidence intervalnya\n",
        "# FUNGSI (khusus mencari confidence interval dari satu sampel)\n",
        "def confidence_interval_one_sample(x, n):\n",
        "    p = x / n  # Proporsi sampel\n",
        "    cl = 0.95  # Confidence level\n",
        "    alpha = 1 - cl  # alpha --> P(error)\n",
        "    Z = st.norm.ppf(1 - alpha / 2)\n",
        "    # Margin of error\n",
        "    margin_error = Z * np.sqrt((p * (1 - p)) / n)\n",
        "    # Interval kepercayaan\n",
        "    batas_bawah = p - margin_error\n",
        "    batas_atas = p + margin_error\n",
        "    return batas_bawah, batas_atas\n",
        "# Panggil Fungsi\n",
        "batas_bawah, batas_atas = confidence_interval_one_sample(x1, n)\n",
        "# OUTPUT\n",
        "print(f\"95% confidence interval adalah : ({batas_bawah:.4f}, {batas_atas:.4f})\")\n",
        "lb_percent = batas_bawah*100\n",
        "ub_percent = batas_atas*100\n",
        "print(f'CI nya adalah: {lb_percent:.2f}% < p < {ub_percent:.2f}%')"
      ],
      "metadata": {
        "id": "8Uee9WV6_m2R",
        "colab": {
          "base_uri": "https://localhost:8080/"
        },
        "outputId": "b08d94ad-0cad-4399-939a-b8ce85b13a15"
      },
      "execution_count": null,
      "outputs": [
        {
          "output_type": "stream",
          "name": "stdout",
          "text": [
            "95% confidence interval adalah : (0.5391, 0.6005)\n",
            "CI nya adalah: 53.91% < p < 60.05%\n"
          ]
        }
      ]
    },
    {
      "cell_type": "code",
      "source": [
        "# -------------------------------------------------------\n",
        "# Confidence Interval Proporsi One Sample\n",
        "# -------------------------------------------------------\n",
        "\n",
        "n = 1000  # Ukuran sampel\n",
        "x1 = 16.03*(1000/100) #Yang mau dicari proporsi 95% confidence intervalnya\n",
        "# FUNGSI (khusus mencari confidence interval dari satu sampel)\n",
        "def confidence_interval_one_sample(x, n):\n",
        "    p = x / n  # Proporsi sampel\n",
        "    cl = 0.95  # Confidence level\n",
        "    alpha = 1 - cl  # alpha --> P(error)\n",
        "    Z = st.norm.ppf(1 - alpha / 2)\n",
        "    # Margin of error\n",
        "    margin_error = Z * np.sqrt((p * (1 - p)) / n)\n",
        "    # Interval kepercayaan\n",
        "    batas_bawah = p - margin_error\n",
        "    batas_atas = p + margin_error\n",
        "    return batas_bawah, batas_atas\n",
        "# Panggil Fungsi\n",
        "batas_bawah, batas_atas = confidence_interval_one_sample(x1, n)\n",
        "# OUTPUT\n",
        "print(f\"95% confidence interval adalah : ({batas_bawah:.4f}, {batas_atas:.4f})\")\n",
        "lb_percent = batas_bawah*100\n",
        "ub_percent = batas_atas*100\n",
        "print(f'CI nya adalah: {lb_percent:.2f}% < p < {ub_percent:.2f}%')"
      ],
      "metadata": {
        "id": "YepaX72VEb4z",
        "colab": {
          "base_uri": "https://localhost:8080/"
        },
        "outputId": "4905c3f9-b4f6-4426-9de7-81aaee14e0ba"
      },
      "execution_count": null,
      "outputs": [
        {
          "output_type": "stream",
          "name": "stdout",
          "text": [
            "95% confidence interval adalah : (0.1376, 0.1830)\n",
            "CI nya adalah: 13.76% < p < 18.30%\n"
          ]
        }
      ]
    },
    {
      "cell_type": "markdown",
      "source": [
        "### **CI FOR MEAN DATA (SIGMA UNKNOWN)**"
      ],
      "metadata": {
        "id": "8vPGZloJNnQ0"
      }
    },
    {
      "cell_type": "code",
      "source": [
        "import numpy as np\n",
        "import scipy.stats as st\n",
        "\n",
        "####\n",
        "data = [19.93, 18.98, 16.7, 17.15, 15.4, 18.51, 19.43, 18.41, 17.31, 18.67, 19.35]\n",
        "\n",
        "# Menghitung statistik dasar\n",
        "xbar = np.mean(data)  # Rata-rata sampel\n",
        "n = len(data)         # Ukuran sampel\n",
        "s = np.std(data, ddof=1)  # Simpangan baku (sample standard deviation)\n",
        "\n",
        "# Confidence level dan alpha\n",
        "cl = 0.95 #95% CI\n",
        "alpha = 1 - cl\n",
        "\n",
        "# Nilai t_alpha/2 dari distribusi t\n",
        "t = st.t.ppf(1 - alpha/2, df=n-1)  # Degree of freedom = n-1\n",
        "print(t)\n",
        "# Menghitung margin of error\n",
        "margin_of_error = t * s / np.sqrt(n)\n",
        "\n",
        "# Menghitung batas bawah dan atas confidence interval\n",
        "lb = xbar - margin_of_error\n",
        "ub = xbar + margin_of_error\n",
        "\n",
        "# Menampilkan hasil\n",
        "print(f'Rata-rata sampel: {xbar:.4f}')\n",
        "print(f'95% confidence interval untuk rata-rata adalah: {lb:.2f} < mean < {ub:.2f}')\n"
      ],
      "metadata": {
        "id": "kIiHQqPFPniz",
        "colab": {
          "base_uri": "https://localhost:8080/"
        },
        "outputId": "6e9f0444-8064-4736-e2e2-b8641ce2c984"
      },
      "execution_count": null,
      "outputs": [
        {
          "output_type": "stream",
          "name": "stdout",
          "text": [
            "2.2281388519649385\n",
            "Rata-rata sampel: 18.1673\n",
            "95% confidence interval untuk rata-rata adalah: 17.25 < mean < 19.09\n"
          ]
        }
      ]
    },
    {
      "cell_type": "markdown",
      "source": [
        "### **CI FOR VARIANCE**"
      ],
      "metadata": {
        "id": "Uaikg-CAoM2l"
      }
    },
    {
      "cell_type": "code",
      "source": [
        "import numpy as np\n",
        "import scipy.stats as st\n",
        "\n",
        "# Data sampel\n",
        "series = [19.93, 18.98, 16.7, 17.15, 15.4, 18.51, 19.43, 18.41, 17.31, 18.67, 19.35]\n",
        "\n",
        "# Statistik dasar\n",
        "n = len(series)                  # Ukuran sampel\n",
        "s = np.std(series, ddof=1)       # Standard deviation (ddof=1 untuk sample std. dev.)\n",
        "cl = 0.95                        # Confidence level 95%\n",
        "alpha = 1 - cl                   # Signifikansi\n",
        "\n",
        "# Hitung nilai chi-square kritis\n",
        "chi2_a = st.chi2.ppf(1 - alpha/2, df=n-1)  # Nilai chi-square untuk batas atas\n",
        "chi2_b = st.chi2.ppf(alpha/2, df=n-1)      # Nilai chi-square untuk batas bawah\n",
        "print(chi2_a)\n",
        "print(chi2_b)\n",
        "# Confidence interval untuk variance\n",
        "lb = (n - 1) * s**2 / chi2_a  # Batas bawah\n",
        "ub = (n - 1) * s**2 / chi2_b  # Batas atas\n",
        "\n",
        "# Output hasil\n",
        "print(f\"Variance sampel: {s**2:.4f}\")\n",
        "print(f\"95% confidence interval untuk variance adalah: {lb:.4f} < variance < {ub:.4f}\")\n"
      ],
      "metadata": {
        "id": "GV5NtcLuoLBx",
        "colab": {
          "base_uri": "https://localhost:8080/"
        },
        "outputId": "91a91304-aa9d-4047-a902-4c72aabe9738"
      },
      "execution_count": null,
      "outputs": [
        {
          "output_type": "stream",
          "name": "stdout",
          "text": [
            "20.483177350807388\n",
            "3.246972780236842\n",
            "Variance sampel: 1.8771\n",
            "95% confidence interval untuk variance adalah: 0.9164 < variance < 5.7810\n"
          ]
        }
      ]
    },
    {
      "cell_type": "markdown",
      "source": [
        "### **CI FOR MEAN DIFFERENCE (SIGMA UNKNOWN)**"
      ],
      "metadata": {
        "id": "WtgrA7dfuGag"
      }
    },
    {
      "cell_type": "code",
      "source": [
        "import numpy as np\n",
        "import scipy.stats as st\n",
        "\n",
        "# Dua set data\n",
        "data1 = np.array([19.93, 18.98, 16.7, 17.15, 15.4, 18.51, 19.43, 18.41, 17.31, 18.67, 19.35])\n",
        "data2 = np.array([29.93, 28.98, 26.7, 27.15, 25.4, 28.51, 29.43, 28.41, 27.31, 28.67, 29.35])\n",
        "\n",
        "# Statistik dasar\n",
        "xbar1 = np.mean(data1)  # Rata-rata data1\n",
        "n1 = len(data1)         # Ukuran sampel data1\n",
        "s1 = np.std(data1, ddof=1)  # Simpangan baku data1 (sample std. dev.)\n",
        "\n",
        "xbar2 = np.mean(data2)  # Rata-rata data2\n",
        "n2 = len(data2)         # Ukuran sampel data2\n",
        "s2 = np.std(data2, ddof=1)  # Simpangan baku data2 (sample std. dev.)\n",
        "\n",
        "# Confidence level\n",
        "cl = 0.95\n",
        "alpha = 1 - cl\n",
        "\n",
        "# Hitung derajat kebebasan menggunakan Welch's formula\n",
        "term1 = s1 ** 2 / n1\n",
        "term2 = s2 ** 2 / n2\n",
        "v = (term1 + term2) ** 2 / ((term1 ** 2) / (n1 - 1) + (term2 ** 2) / (n2 - 1))\n",
        "\n",
        "# Hitung nilai t kritis\n",
        "t = st.t.ppf(1 - alpha / 2, df=v)\n",
        "\n",
        "# Hitung margin of error\n",
        "margin = t * np.sqrt(term1 + term2)\n",
        "\n",
        "# Confidence interval\n",
        "lb = (xbar1 - xbar2) - margin\n",
        "ub = (xbar1 - xbar2) + margin\n",
        "\n",
        "# Output hasil\n",
        "print(f\"95% confidence interval mean difference between data1 and data2: ({lb:.4f} < Mean data 1 - Mean data 2 < {ub:.4f})\")\n"
      ],
      "metadata": {
        "id": "zKWUTPNmr05_",
        "colab": {
          "base_uri": "https://localhost:8080/"
        },
        "outputId": "2be1a1ad-fa92-4242-bc52-4f287c23a413"
      },
      "execution_count": null,
      "outputs": [
        {
          "output_type": "stream",
          "name": "stdout",
          "text": [
            "95% confidence interval mean difference between data1 and data2: (-11.2186 < Mean data 1 - Mean data 2 < -8.7814)\n"
          ]
        }
      ]
    },
    {
      "cell_type": "markdown",
      "source": [
        "### **CI FOR VARIANCE RATIO**"
      ],
      "metadata": {
        "id": "3F2f3HjZzXkA"
      }
    },
    {
      "cell_type": "code",
      "source": [
        "import numpy as np\n",
        "import scipy.stats as st\n",
        "\n",
        "# Data sampel\n",
        "sample1 = np.array([19.93, 18.98, 16.7, 17.15, 15.4, 18.51, 19.43, 18.41, 17.31, 18.67, 19.35])\n",
        "sample2 = np.array([29.93, 28.98, 26.7, 27.15, 25.4, 28.51, 29.43, 28.41, 27.31, 28.67, 29.35])\n",
        "\n",
        "# Hitung varians dan derajat kebebasan\n",
        "var1 = np.var(sample1, ddof=1)  # Varians sampel 1\n",
        "df1 = len(sample1) - 1          # Degree of freedom untuk sampel 1\n",
        "\n",
        "var2 = np.var(sample2, ddof=1)  # Varians sampel 2\n",
        "df2 = len(sample2) - 1          # Degree of freedom untuk sampel 2\n",
        "\n",
        "# Hitung nilai F alpha/2 dan 1 - alpha/2\n",
        "alpha = 0.05\n",
        "f_alpha_2 = st.f.ppf(1 - alpha / 2, df1, df2)  # F alpha/2\n",
        "f_1_minus_alpha_2 = st.f.ppf(alpha / 2, df1, df2)  # F 1-alpha/2\n",
        "print(f_alpha_2)\n",
        "print(f_1_minus_alpha_2)\n",
        "# Confidence interval untuk rasio varians\n",
        "lb = var1 / var2 / f_alpha_2\n",
        "ub = var1 / var2 * (1 / f_1_minus_alpha_2)\n",
        "\n",
        "# Output hasil\n",
        "print(f\"95% confidence interval for the variance ratio (sample1 / sample2): ({lb:.2f} / {ub:.2f})\")\n"
      ],
      "metadata": {
        "id": "j8T53MsUzexh",
        "colab": {
          "base_uri": "https://localhost:8080/"
        },
        "outputId": "20d0f748-224d-4d24-c07c-aa3c7568ac1e"
      },
      "execution_count": null,
      "outputs": [
        {
          "output_type": "stream",
          "name": "stdout",
          "text": [
            "3.7167918645973654\n",
            "0.26904923289491983\n",
            "95% confidence interval for the variance ratio (sample1 / sample2): (0.27 / 3.72)\n"
          ]
        }
      ]
    },
    {
      "cell_type": "markdown",
      "source": [
        "## **HIPOTESIS TESTING**"
      ],
      "metadata": {
        "id": "1fN_h1NEaWh7"
      }
    },
    {
      "cell_type": "markdown",
      "source": [
        "### **Two Sample Proportion (Khusus H0 : P1 = P2) | POOLED d = 0**"
      ],
      "metadata": {
        "id": "k_p9ozfbEm5A"
      }
    },
    {
      "cell_type": "markdown",
      "source": [
        "H1 : P1 > P2"
      ],
      "metadata": {
        "id": "vKiTP6Uw4rxk"
      }
    },
    {
      "cell_type": "code",
      "source": [
        "import numpy as np\n",
        "from scipy import stats\n",
        "import matplotlib.pyplot as plt\n",
        "\n",
        "# Data sampel\n",
        "p1 = (76.8)/100  # Proporsi dana\n",
        "p2 = (47)/100   # Proporsi OVO\n",
        "n1 = 891  # Ukuran sampel dana\n",
        "n2 = 891    # Ukuran sampel OVO\n",
        "\n",
        "# Hitung x (jumlah keberhasilan)\n",
        "x1 = p1 * n1\n",
        "x2 = p2 * n2\n",
        "\n",
        "# Hitung proporsi gabungan\n",
        "p = (x1 + x2) / (n1 + n2)\n",
        "\n",
        "# Hitung nilai Z\n",
        "Z = (p1 - p2) / np.sqrt(p * (1 - p) * (1/n1 + 1/n2))\n",
        "print(f\"Nilai Z     : {Z:.4f}\")\n",
        "# Tentukan nilai kritis untuk uji dua arah pada alpha = 0.05\n",
        "alpha = 0.01 # GANTI ALPHA SESUAI SOAL**********\n",
        "print(\"H0 : Proporsi Kedua Sampel Sama\")\n",
        "z_alpha = st.norm.ppf(1 - alpha)\n",
        "print(f'Crit region : z > {z_alpha:.2f}')\n",
        "if Z > z_alpha :\n",
        "    decision = \"Di dalam daerah kritis. Tolak H0.\"\n",
        "else:\n",
        "    decision = \"Di luar daerah kritis. Gagal menolak H0.\"\n",
        "print(f\"Keputusan : {decision}\")"
      ],
      "metadata": {
        "colab": {
          "base_uri": "https://localhost:8080/"
        },
        "id": "flBwPdsivvTp",
        "outputId": "d98b0a8d-3ff2-4bc5-fee9-748863226a8e"
      },
      "execution_count": null,
      "outputs": [
        {
          "output_type": "stream",
          "name": "stdout",
          "text": [
            "Nilai Z     : 12.9519\n",
            "H0 : Proporsi Kedua Sampel Sama\n",
            "Crit region : z > 2.33\n",
            "Keputusan : Di dalam daerah kritis. Tolak H0.\n"
          ]
        }
      ]
    },
    {
      "cell_type": "markdown",
      "source": [
        "H1 : P1 != P2"
      ],
      "metadata": {
        "id": "8Bp49nyx4vUE"
      }
    },
    {
      "cell_type": "code",
      "source": [
        "import numpy as np\n",
        "from scipy import stats\n",
        "import matplotlib.pyplot as plt\n",
        "\n",
        "# Data sampel\n",
        "p1 = (85)/100  # Proporsi dana\n",
        "p2 = (21)/100   # Proporsi OVO\n",
        "n1 = 891  # Ukuran sampel dana\n",
        "n2 = 891    # Ukuran sampel OVO\n",
        "\n",
        "# Hitung x (jumlah keberhasilan)\n",
        "x1 = p1 * n1\n",
        "x2 = p2 * n2\n",
        "\n",
        "# Hitung proporsi gabungan\n",
        "p = (x1 + x2) / (n1 + n2)\n",
        "\n",
        "# Hitung nilai Z\n",
        "Z = (p1 - p2) / np.sqrt(p * (1 - p) * (1/n1 + 1/n2))\n",
        "print(f\"Nilai Z     : {Z:.4f}\")\n",
        "# Tentukan nilai kritis untuk uji dua arah pada alpha = 0.05\n",
        "alpha = 0.02 # GANTI ALPHA SESUAI SOAL**********\n",
        "print(\"H0 : Proporsi Kedua Sampel Sama\")\n",
        "z_alpha_per_2 = st.norm.ppf(1 - alpha / 2)\n",
        "print(f'Crit region : z < - {z_alpha_per_2:.2f}, z > {z_alpha_per_2:.2f}')\n",
        "if Z < -z_alpha_per_2 or Z > z_alpha_per_2 :\n",
        "    decision = \"Di dalam daerah kritis. Tolak H0.\"\n",
        "else:\n",
        "    decision = \"Di luar daerah kritis. Gagal menolak H0.\"\n",
        "# Menentukan keputusan\n",
        "print(f\"Keputusan : {decision}\")"
      ],
      "metadata": {
        "colab": {
          "base_uri": "https://localhost:8080/"
        },
        "id": "zqXa64Br3K_G",
        "outputId": "987668ba-9224-41da-c7c4-b39267350897"
      },
      "execution_count": null,
      "outputs": [
        {
          "output_type": "stream",
          "name": "stdout",
          "text": [
            "Nilai Z     : 27.0656\n",
            "H0 : Proporsi Kedua Sampel Sama\n",
            "Crit region : z < - 2.33, z > 2.33\n",
            "Keputusan : Di dalam daerah kritis. Tolak H0.\n"
          ]
        }
      ]
    },
    {
      "cell_type": "markdown",
      "source": [
        "H1 : P1 < P2"
      ],
      "metadata": {
        "id": "iHJWEE-J4xoW"
      }
    },
    {
      "cell_type": "code",
      "source": [
        "import numpy as np\n",
        "from scipy import stats\n",
        "\n",
        "# Data sampel\n",
        "p1 = (47) / 100  # Proporsi dana\n",
        "p2 = (15.3) / 100    # Proporsi OVO\n",
        "n1 = 891           # Ukuran sampel dana\n",
        "n2 = 891           # Ukuran sampel OVO\n",
        "\n",
        "# Hitung x (jumlah keberhasilan)\n",
        "x1 = p1 * n1\n",
        "x2 = p2 * n2\n",
        "\n",
        "# Hitung proporsi gabungan\n",
        "p = (x1 + x2) / (n1 + n2)\n",
        "\n",
        "# Hitung nilai Z\n",
        "Z = (p1 - p2) / np.sqrt(p * (1 - p) * (1/n1 + 1/n2))\n",
        "print(f\"Nilai Z     : {Z:.4f}\")\n",
        "\n",
        "# Tentukan nilai kritis untuk uji satu arah pada alpha = 0.01\n",
        "alpha = 0.03\n",
        "print(\"H0 : Proporsi Kedua Sampel Sama\")\n",
        "z_alpha = stats.norm.ppf(alpha)  # Menggunakan ppf(alpha) untuk uji satu arah\n",
        "print(f'Critical region : z < {z_alpha:.2f}')  # Menggunakan 'z <' untuk H1: P1 < P2\n",
        "\n",
        "if Z < z_alpha:\n",
        "    decision = \"Di dalam daerah kritis. Tolak H0.\"\n",
        "else:\n",
        "    decision = \"Di luar daerah kritis. Gagal menolak H0.\"\n",
        "\n",
        "print(f\"Keputusan : {decision}\")\n"
      ],
      "metadata": {
        "colab": {
          "base_uri": "https://localhost:8080/"
        },
        "id": "TADFtA-i6sTU",
        "outputId": "063258d0-7f8e-4946-c767-fc07147ec7f0"
      },
      "execution_count": null,
      "outputs": [
        {
          "output_type": "stream",
          "name": "stdout",
          "text": [
            "Nilai Z     : 14.4478\n",
            "H0 : Proporsi Kedua Sampel Sama\n",
            "Critical region : z < -1.88\n",
            "Keputusan : Di luar daerah kritis. Gagal menolak H0.\n"
          ]
        }
      ]
    },
    {
      "cell_type": "markdown",
      "source": [
        "### **One Sample, H0 = P0**"
      ],
      "metadata": {
        "id": "5S3F3chVEvQ3"
      }
    },
    {
      "cell_type": "markdown",
      "source": [
        "H1 : P1 > p0 (a)"
      ],
      "metadata": {
        "id": "sclJrjEMLh2N"
      }
    },
    {
      "cell_type": "code",
      "source": [
        "# -----------------------------------------------------------------------------------------------\n",
        "# Hipothesys Testing Untuk Banyak (Proporsi) Satu Sampel NOMOR 3D\n",
        "# -----------------------------------------------------------------------------------------------\n",
        "\n",
        "# Deklarasi kategori/variabel\n",
        "x = (78.71)*(1000/100)\n",
        "n = 1000\n",
        "p0 = 0.5\n",
        "# FUNGSI melakukan tes hipotesis terhadap 1 sampel.\n",
        "def one_sample_z_test_hypo(x, n, p0):\n",
        "    p_hat = x / n  # Proporsi sampel\n",
        "    z = (n * p_hat - n * p0) / sqrt(n * p0 * (1 - p0))\n",
        "    alpha = 0.01\n",
        "    z_alpha = st.norm.ppf(1 - alpha)\n",
        "    pval = 1 - st.norm.cdf(z)  # Untuk uji arah kanan (right-tailed)\n",
        "    print(f\"Nilai p0 ditentukan sebesar {p0}\")\n",
        "    print(f\"Nilai H0 adalah sama dengan p0. H0 = {p0}\")\n",
        "    print(f\"Nilai H1 tidak sama dengan p0. H1 != {p0}\")\n",
        "    print('\\nANALISIS')\n",
        "    print(f\"Nilai x adalah : {x:.2f}\" )\n",
        "    print(f\"Nilai z adalah : {z:.2f}\")\n",
        "    print(f'Crit region    : z > {z_alpha:.2f}')\n",
        "    # Periksa apakah z berada dalam daerah kritis\n",
        "    if z > z_alpha:\n",
        "        print('Kesimpulan     : z berada di dalam daerah crit region (daerah kritis), sehingga DAPAT menolak/reject H0. Kesimpulan H1.')\n",
        "    else:\n",
        "        print('Kesimpulan     : z berada di luar daerah crit region (daerah kritis), sehingga TIDAK menolak/reject H0')\n",
        "    print(f\"Nilai p-value  : {pval:.4f}\")\n",
        "# Pemanggilan fungsi\n",
        "one_sample_z_test_hypo (x,n,p0)"
      ],
      "metadata": {
        "colab": {
          "base_uri": "https://localhost:8080/"
        },
        "id": "N8bO5CylGOLn",
        "outputId": "c7bc751e-9130-436c-a7a6-5610263d42df"
      },
      "execution_count": null,
      "outputs": [
        {
          "output_type": "stream",
          "name": "stdout",
          "text": [
            "Nilai p0 ditentukan sebesar 0.5\n",
            "Nilai H0 adalah sama dengan p0. H0 = 0.5\n",
            "Nilai H1 tidak sama dengan p0. H1 != 0.5\n",
            "\n",
            "ANALISIS\n",
            "Nilai x adalah : 787.10\n",
            "Nilai z adalah : 18.16\n",
            "Crit region    : z > 2.33\n",
            "Kesimpulan     : z berada di dalam daerah crit region (daerah kritis), sehingga DAPAT menolak/reject H0. Kesimpulan H1.\n",
            "Nilai p-value  : 0.0000\n"
          ]
        }
      ]
    },
    {
      "cell_type": "code",
      "source": [
        "# Lakukan uji hipotesis:\n",
        "# HO: Mean tekanan darah sistolik pada sampel dengan riwayat hipertensi = 140.\n",
        "# H1: Mean tekanan darah sistolik pada sampel dengan riwayat hipertensi > 140.\n",
        "# Tingkat signifikansi = α = (9)%\n",
        "# Gunakan kolom \"sysBP\" untuk tekanan darah sistolik dan filter kolom \"prevalentHyp\" = 1 untuk sampel dengan riwayat hipertensi.\n",
        "# Asumsikan variansi populasi untuk variabel tersebut adalah 4 untuk soal a-c.\n",
        "# a. Tentukan nilai statistik uji (nilai z)!\n",
        "# b. Tentukan kesimpulan dari uji hipotesis! (apabila HO gagal ditolak jawab 0, apabila HO ditolak jawab 1)\n",
        "# c. Tentukan p-value!\n",
        "\n",
        "import pandas as pd\n",
        "from scipy import stats\n",
        "from google.colab import drive\n",
        "\n",
        "# Load the data\n",
        "df = pd.read_excel('Dataset-b.xlsx', sheet_name='heart')\n",
        "\n",
        "# Filter data for prevalent hypertension\n",
        "hypertension_data = df[df['prevalentHyp'] == 1]['sysBP']\n",
        "\n",
        "# Hypothesis testing\n",
        "mu_0 = 140\n",
        "alpha = 0.09\n",
        "sigma = 2  # Population variance is assumed to be 4\n",
        "\n",
        "# Calculate the z-statistic\n",
        "z_statistic = (hypertension_data.mean() - mu_0) / (sigma / (len(hypertension_data)**0.5))\n",
        "\n",
        "# Calculate the p-value\n",
        "p_value = 1 - stats.norm.cdf(z_statistic)\n",
        "\n",
        "\n",
        "# Determine the conclusion\n",
        "if p_value > alpha:\n",
        "    conclusion = 0  # Fail to reject H0\n",
        "else:\n",
        "    conclusion = 1  # Reject H0\n",
        "\n",
        "print(f\"a. Nilai statistik uji (nilai z): {z_statistic:.4f}\")\n",
        "print(f\"b. Kesimpulan dari uji hipotesis: {conclusion}\")\n",
        "print(f\"c. P-value: {p_value:.4f}\")"
      ],
      "metadata": {
        "colab": {
          "base_uri": "https://localhost:8080/"
        },
        "id": "6H--sBfOK2IB",
        "outputId": "676dc041-9ebf-4ede-9d29-f302097c30eb"
      },
      "execution_count": 37,
      "outputs": [
        {
          "output_type": "stream",
          "name": "stdout",
          "text": [
            "a. Nilai statistik uji (nilai z): 135.6278\n",
            "b. Kesimpulan dari uji hipotesis: 1\n",
            "c. P-value: 0.0000\n"
          ]
        }
      ]
    },
    {
      "cell_type": "code",
      "source": [
        "# -----------------------------------------------------------------------------------------------\n",
        "# Hipothesys Testing Untuk Banyak (Proporsi) Satu Sampel NOMOR 3E\n",
        "# -----------------------------------------------------------------------------------------------\n",
        "\n",
        "# Deklarasi kategori/variabel\n",
        "x = (56.98)*(1000/100)\n",
        "n = 1000\n",
        "p0 = 0.5\n",
        "# FUNGSI melakukan tes hipotesis terhadap 1 sampel.\n",
        "def one_sample_z_test_hypo(x, n, p0):\n",
        "    p_hat = x / n  # Proporsi sampel\n",
        "    z = (n * p_hat - n * p0) / sqrt(n * p0 * (1 - p0))\n",
        "    alpha = 0.01\n",
        "    z_alpha = st.norm.ppf(1 - alpha)\n",
        "    pval = 1 - st.norm.cdf(z)\n",
        "    print(f\"Nilai p0 ditentukan sebesar {p0}\")\n",
        "    print(f\"Nilai H0 adalah sama dengan p0. H0 = {p0}\")\n",
        "    print(f\"Nilai H1 tidak sama dengan p0. H1 != {p0}\")\n",
        "    print('\\nANALISIS')\n",
        "    print(f\"Nilai x adalah : {x:.2f}\" )\n",
        "    print(f\"Nilai z adalah : {z:.2f}\")\n",
        "    print(f'Crit region    : z > {z_alpha:.2f}')\n",
        "    # Periksa apakah z berada dalam daerah kritis\n",
        "    if z > z_alpha:\n",
        "        print('Kesimpulan     : z berada di dalam daerah crit region (daerah kritis), sehingga DAPAT menolak/reject H0. Kesimpulan H1.')\n",
        "    else:\n",
        "        print('Kesimpulan     : z berada di luar daerah crit region (daerah kritis), sehingga TIDAK menolak/reject H0')\n",
        "    print(f\"Nilai p-value  : {pval:.4f}\")\n",
        "# Pemanggilan fungsi\n",
        "one_sample_z_test_hypo (x,n,p0)"
      ],
      "metadata": {
        "id": "BIVonc6xLrNE",
        "colab": {
          "base_uri": "https://localhost:8080/"
        },
        "outputId": "05ebf23a-75e3-49e2-d2ba-8edf1fcfdfd2"
      },
      "execution_count": null,
      "outputs": [
        {
          "output_type": "stream",
          "name": "stdout",
          "text": [
            "Nilai p0 ditentukan sebesar 0.5\n",
            "Nilai H0 adalah sama dengan p0. H0 = 0.5\n",
            "Nilai H1 tidak sama dengan p0. H1 != 0.5\n",
            "\n",
            "ANALISIS\n",
            "Nilai x adalah : 569.80\n",
            "Nilai z adalah : 4.41\n",
            "Crit region    : z > 2.33\n",
            "Kesimpulan     : z berada di dalam daerah crit region (daerah kritis), sehingga DAPAT menolak/reject H0. Kesimpulan H1.\n",
            "Nilai p-value  : 0.0000\n"
          ]
        }
      ]
    },
    {
      "cell_type": "code",
      "source": [
        "# Lakukan uji hipotesis:\n",
        "# HO: Selisih mean konsentrasi gula darah pada sampel dengan riwayat diabetes dan tanpa riwayat diabetes = 10.\n",
        "# H1: Selisih mean konsentrasi gula darah pada sampel dengan riwayat diabetes dan tanpa riwayat diabetes # 10.\n",
        "# Tingkat signifikansi = α = (9)%\n",
        "# Gunakan kolom \"glucose\" untuk konsentrasi gula darah, filter kolom \"diabetes\" = 1 untuk sampel dengan riwayat diabetes, dan filter kolom \"diabetes\" = 0 untuk sampel tanpa riwayat diabetes.\n",
        "# Selisih mean: diabetic-glucose non-diabetic-glucose\n",
        "# Asumsikan variansi populasi untuk variabel tersebut tidak diketahui untuk soal d-f.\n",
        "# Gunakan rumus derajat kebebasan berikut untuk t-test:\n",
        "# # ------ WAY 1\n",
        "# import numpy as np\n",
        "# import scipy.stats as st\n",
        "# # Dua set data\n",
        "# data1 = passed[\"Age\"]\n",
        "# data2 = not_passed[\"Age\"]\n",
        "# # Statistik dasar\n",
        "# xbar1 = np.mean(data1)  # Rata-rata data1\n",
        "# n1 = len(data1)         # Ukuran sampel data1\n",
        "# s1 = np.std(data1, ddof=1)  # Simpangan baku data1 (sample std. dev.)\n",
        "# xbar2 = np.mean(data2)  # Rata-rata data2\n",
        "# n2 = len(data2)         # Ukuran sampel data2\n",
        "# s2 = np.std(data2, ddof=1)  # Simpangan baku data2 (sample std. dev.)\n",
        "# # Confidence level\n",
        "# cl = 0.95\n",
        "# alpha = 1 - cl\n",
        "# # Hitung derajat kebebasan menggunakan Welch's formula\n",
        "# term1 = s1 ** 2 / n1\n",
        "# term2 = s2 ** 2 / n2\n",
        "# v = (term1 + term2) ** 2 / ((term1 ** 2) / (n1 - 1) + (term2 ** 2) / (n2 - 1))\n",
        "# # Hitung nilai t kritis\n",
        "# t = st.t.ppf(1 - alpha / 2, df=v)\n",
        "# # Hitung margin of error\n",
        "# margin = t * np.sqrt(term1 + term2)\n",
        "# # Confidence interval\n",
        "# lb = (xbar1 - xbar2) - margin\n",
        "# ub = (xbar1 - xbar2) + margin\n",
        "# # Output hasil\n",
        "# print(f\"95% confidence interval mean difference between data1 and data2: ({lb:.4f} < Mean data 1 - Mean data 2 < {ub:.4f})\")\n",
        "# d. Tentukan statistik uji (nilai t)!\n",
        "# e. Tentukan kesimpulan dari uji hipotesis! (apabila HO gagal ditolak jawab 0, apabila HO ditolak jawab 1)\n",
        "# f. Tentukan p-value!\n",
        "\n",
        "import pandas as pd\n",
        "import scipy.stats as st\n",
        "import numpy as np\n",
        "\n",
        "# Load the dataset (replace 'your_file.csv' with the actual file name)\n",
        "# Assuming the dataset is named 'Dataset-b.xlsx' and the sheet name is 'heart' as in the provided code.\n",
        "try:\n",
        "    df = pd.read_excel('Dataset-b.xlsx', sheet_name='heart')\n",
        "except FileNotFoundError:\n",
        "    print(\"Error: 'Dataset-b.xlsx' not found. Please upload the file or provide the correct path.\")\n",
        "    exit()\n",
        "\n",
        "\n",
        "# Filter data based on diabetes status\n",
        "diabetic_glucose = df[df['diabetes'] == 1]['glucose']\n",
        "non_diabetic_glucose = df[df['diabetes'] == 0]['glucose']\n",
        "\n",
        "# Calculate the mean difference\n",
        "mean_diff = np.mean(diabetic_glucose) - np.mean(non_diabetic_glucose)\n",
        "\n",
        "# Perform the two-sample t-test with unequal variances (Welch's t-test)\n",
        "t_statistic, p_value = st.ttest_ind(diabetic_glucose, non_diabetic_glucose, equal_var=False)\n",
        "\n",
        "\n",
        "# Hypothesis testing parameters\n",
        "mu_0 = 10  # Hypothesized mean difference\n",
        "alpha = 0.09 # Significance level\n",
        "\n",
        "# Calculate degrees of freedom using Welch's formula (as suggested)\n",
        "n1 = len(diabetic_glucose)\n",
        "n2 = len(non_diabetic_glucose)\n",
        "s1 = np.std(diabetic_glucose, ddof=1)\n",
        "s2 = np.std(non_diabetic_glucose, ddof=1)\n",
        "term1 = s1**2 / n1\n",
        "term2 = s2**2 / n2\n",
        "df = (term1 + term2)**2 / ((term1**2) / (n1 - 1) + (term2**2) / (n2 - 1))\n",
        "\n",
        "# Determine the conclusion (reject or fail to reject H0)\n",
        "if p_value > alpha:\n",
        "    conclusion = 0  # Fail to reject H0\n",
        "else:\n",
        "    conclusion = 1  # Reject H0\n",
        "\n",
        "print(f\"d. Nilai statistik uji (nilai t): {t_statistic:.4f}\")\n",
        "print(f\"e. Kesimpulan dari uji hipotesis (0=gagal tolak H0, 1=tolak H0): {conclusion}\")\n",
        "print(f\"f. P-value: {p_value:.4f}\")"
      ],
      "metadata": {
        "colab": {
          "base_uri": "https://localhost:8080/"
        },
        "id": "8fjD0MxnLj5J",
        "outputId": "89890929-e894-41bd-c8d4-cc58d595cc65"
      },
      "execution_count": 36,
      "outputs": [
        {
          "output_type": "stream",
          "name": "stdout",
          "text": [
            "d. Nilai statistik uji (nilai t): 6.0920\n",
            "e. Kesimpulan dari uji hipotesis (0=gagal tolak H0, 1=tolak H0): 1\n",
            "f. P-value: 0.0000\n"
          ]
        }
      ]
    },
    {
      "cell_type": "markdown",
      "source": [
        "H1 : P1 < P0 (a)"
      ],
      "metadata": {
        "id": "Xrp_IQZmMwvd"
      }
    },
    {
      "cell_type": "code",
      "source": [
        "# -----------------------------------------------------------------------------------------------\n",
        "# Hipothesys Testing Untuk Banyak (Proporsi) Satu Sampel 3F\n",
        "# -----------------------------------------------------------------------------------------------\n",
        "\n",
        "# Deklarasi kategori/variabel\n",
        "x = (16.03)*(1000/100)\n",
        "n = 1000\n",
        "p0 = 0.5\n",
        "# FUNGSI melakukan tes hipotesis terhadap 1 sampel.\n",
        "def one_sample_z_test_hypo(x, n, p0):\n",
        "    p_hat = x / n  # Proporsi sampel\n",
        "    z = (n * p_hat - n * p0) / sqrt(n * p0 * (1 - p0))\n",
        "    alpha = 0.01\n",
        "    z_alpha = st.norm.ppf(alpha)\n",
        "    pval = st.norm.cdf(z) # Arah kiri\n",
        "    print(f\"Nilai p0 ditentukan sebesar {p0}\")\n",
        "    print(f\"Nilai H0 adalah sama dengan p0. H0 = {p0}\")\n",
        "    print(f\"Nilai H1 tidak sama dengan p0. H1 != {p0}\")\n",
        "    print('\\nANALISIS')\n",
        "    print(f\"Nilai x adalah : {x:.2f}\" )\n",
        "    print(f\"Nilai z adalah : {z:.2f}\")\n",
        "    print(f'Crit region    : z < {z_alpha:.2f}')\n",
        "    # Periksa apakah z berada dalam daerah kritis\n",
        "    if z < z_alpha:\n",
        "        print('Kesimpulan     : z berada di dalam daerah crit region (daerah kritis), sehingga DAPAT menolak/reject H0. Kesimpulan H1.')\n",
        "    else:\n",
        "        print('Kesimpulan     : z berada di luar daerah crit region (daerah kritis), sehingga TIDAK menolak/reject H0')\n",
        "    print(f\"Nilai p-value  : {pval:.4f}\")\n",
        "# Pemanggilan fungsi\n",
        "one_sample_z_test_hypo (x,n,p0)"
      ],
      "metadata": {
        "id": "bUaII2KOM-pL",
        "colab": {
          "base_uri": "https://localhost:8080/"
        },
        "outputId": "9a152ebf-7ab3-4ab8-8d6c-907e62caefd5"
      },
      "execution_count": null,
      "outputs": [
        {
          "output_type": "stream",
          "name": "stdout",
          "text": [
            "Nilai p0 ditentukan sebesar 0.5\n",
            "Nilai H0 adalah sama dengan p0. H0 = 0.5\n",
            "Nilai H1 tidak sama dengan p0. H1 != 0.5\n",
            "\n",
            "ANALISIS\n",
            "Nilai x adalah : 160.30\n",
            "Nilai z adalah : -21.48\n",
            "Crit region    : z < -2.33\n",
            "Kesimpulan     : z berada di dalam daerah crit region (daerah kritis), sehingga DAPAT menolak/reject H0. Kesimpulan H1.\n",
            "Nilai p-value  : 0.0000\n"
          ]
        }
      ]
    },
    {
      "cell_type": "markdown",
      "source": [
        "## **ANOVA (Analysis Of Variance)**"
      ],
      "metadata": {
        "id": "U-eXxqu6CPTZ"
      }
    },
    {
      "cell_type": "markdown",
      "source": [
        "### **SATU ARAH**"
      ],
      "metadata": {
        "id": "wmV9teq3UQ_9"
      }
    },
    {
      "cell_type": "code",
      "source": [
        "import numpy as np\n",
        "import scipy.stats as st\n",
        "\n",
        "# Data per kelompok\n",
        "group1 = [0.02236467, 0.0071036, 0.04652311, 0.03377461, 0.01774775, 0.0027611, 0.0102806, 0.00474952, 0.02538968, 0.01335206]\n",
        "group2 = [0.006083537, 0.021815908, 0.027913722, 0.016383759, 0.022856707, 0.012489619, 0.012223376, 0.018514022, 0.014073154, 0.014511122]\n",
        "group3 = [0.01891512, 0.03309882, 0.03520949, 0.00901352, 0.02657334, 0.0144663, 0.0175473, 0.02299788, 0.03404982, 0.03717797]\n",
        "\n",
        "# Semua data\n",
        "all_data = group1 + group2 + group3\n",
        "\n",
        "# Ukuran sampel per kelompok\n",
        "n1, n2, n3 = len(group1), len(group2), len(group3)\n",
        "k = 3  # Jumlah kelompok\n",
        "N = n1 + n2 + n3  # Total jumlah sampel\n",
        "\n",
        "# Rata-rata per kelompok dan keseluruhan\n",
        "mean1, mean2, mean3 = np.mean(group1), np.mean(group2), np.mean(group3)\n",
        "grand_mean = np.mean(all_data)\n",
        "\n",
        "# SSB (Sum of Squares Between)\n",
        "SSB = n1 * (mean1 - grand_mean)**2 + n2 * (mean2 - grand_mean)**2 + n3 * (mean3 - grand_mean)**2\n",
        "\n",
        "# SSW (Sum of Squares Within)\n",
        "SSW = sum((x - mean1)**2 for x in group1) + sum((x - mean2)**2 for x in group2) + sum((x - mean3)**2 for x in group3)\n",
        "\n",
        "# SST (Sum of Squares Total)\n",
        "SST = SSB + SSW\n",
        "\n",
        "# Derajat kebebasan\n",
        "df_between = k - 1\n",
        "df_within = N - k\n",
        "df_total = N - 1\n",
        "\n",
        "# MSB dan MSW\n",
        "MSB = SSB / df_between\n",
        "MSW = SSW / df_within\n",
        "\n",
        "# F-statistik dan p-value\n",
        "F = MSB / MSW\n",
        "p_value = 1 - st.f.cdf(F, df_between, df_within)\n",
        "\n",
        "# Nilai kritis F\n",
        "alpha = 0.05 # ****alpha 5%\n",
        "F_critical = st.f.ppf(1-alpha, df_between, df_within)\n",
        "\n",
        "# Keputusan berdasarkan p-value dan nilai kritis\n",
        "if F > F_critical :\n",
        "    decision = \"Tolak H0: Terdapat perbedaan signifikan antara rata-rata kelompok.\"\n",
        "else:\n",
        "    decision = \"Gagal tolak H0: Tidak ada bukti cukup untuk menyatakan perbedaan signifikan.\"\n",
        "\n",
        "# Output\n",
        "print(\"ANOVA Summary:\")\n",
        "print(f\"a. SS Between (Perlakuan): {SSB:.6f}\")\n",
        "print(f\"b. SS Within (Galat): {SSW:.4f}\")\n",
        "print(f\"c. SS Total: {SST:.4f}\")\n",
        "print(f\"d. df Between: {df_between}\")\n",
        "print(f\"e. df Within: {df_within}\")\n",
        "print(f\"f. df Total: {df_total}\")\n",
        "print(f\"g. MS Between: {MSB:.4f}\")\n",
        "print(f\"h. MS Within: {MSW:.4f}\")\n",
        "print(f\"i. F-statistik: {F:.4f}\")\n",
        "print(f\"j. p-value: {p_value:.2f}\")\n",
        "print(f\"k. F-crit (Area Kritis): f > {F_critical:.4f}\")\n",
        "print(\"l. Keputusan:\", decision)\n",
        "\n",
        "# Tidak mungkin ada daerah kritis di mana F<... (negatif), karena nilai F tidak bisa negatif. Distribusi F selalu positif atau nol, dan kita hanya mempertimbangkan nilai positif dalam pengujian ANOVA."
      ],
      "metadata": {
        "colab": {
          "base_uri": "https://localhost:8080/"
        },
        "id": "o7xPAt1VDkFg",
        "outputId": "93f49bf1-d0df-43a3-a8bf-cd4345e830fe"
      },
      "execution_count": null,
      "outputs": [
        {
          "output_type": "stream",
          "name": "stdout",
          "text": [
            "ANOVA Summary:\n",
            "a. SS Between (Perlakuan): 0.000376\n",
            "b. SS Within (Galat): 0.0030\n",
            "c. SS Total: 0.0033\n",
            "d. df Between: 2\n",
            "e. df Within: 27\n",
            "f. df Total: 29\n",
            "g. MS Between: 0.0002\n",
            "h. MS Within: 0.0001\n",
            "i. F-statistik: 1.7123\n",
            "j. p-value: 0.20\n",
            "k. F-crit (Area Kritis): f > 3.3541\n",
            "l. Keputusan: Gagal tolak H0: Tidak ada bukti cukup untuk menyatakan perbedaan signifikan.\n"
          ]
        }
      ]
    },
    {
      "cell_type": "markdown",
      "source": [
        "**Interpretasi ANOVA**\n",
        "\n",
        "a. Sum of Squares (SS)\n",
        "SS Between (0.000376): Variasi yang disebabkan oleh perbedaan antara rata-rata kelompok. Ini menunjukkan seberapa jauh rata-rata masing-masing kelompok dari rata-rata keseluruhan (grand mean).\n",
        "SS Within (0.0030): Variasi yang disebabkan oleh perbedaan dalam data individu di dalam kelompok (error atau galat).\n",
        "SS Total (0.0033): Total variasi dalam data, yang merupakan penjumlahan dari SS Between dan SS Within.\n",
        "𝑆\n",
        "𝑆\n",
        "Total\n",
        "=\n",
        "𝑆\n",
        "𝑆\n",
        "Between\n",
        "+\n",
        "𝑆\n",
        "𝑆\n",
        "Within\n",
        "SS\n",
        "Total\n",
        "​\n",
        " =SS\n",
        "Between\n",
        "​\n",
        " +SS\n",
        "Within\n",
        "​\n",
        "\n",
        "b. Degrees of Freedom (df)\n",
        "df Between (2): Jumlah kelompok - 1 (3 - 1).\n",
        "df Within (27): Total data - jumlah kelompok (30 - 3).\n",
        "df Total (29): Total data - 1.\n",
        "\n",
        "c. Mean Squares (MS)\n",
        "MS Between (0.0002): Rata-rata variasi antar kelompok, dihitung dengan\n",
        "𝑀\n",
        "𝑆\n",
        "Between\n",
        "=\n",
        "𝑆\n",
        "𝑆\n",
        "Between\n",
        "𝑑\n",
        "𝑓\n",
        "Between\n",
        "MS\n",
        "Between= df Between\n",
        "​\n",
        "\n",
        "SS\n",
        "Between\n",
        "​\n",
        "\n",
        "​\n",
        "MS Within (0.0001): Rata-rata variasi dalam kelompok, dihitung dengan\n",
        "𝑀\n",
        "𝑆\n",
        "Within\n",
        "=\n",
        "𝑆\n",
        "𝑆\n",
        "Within\n",
        "𝑑\n",
        "𝑓\n",
        "Within\n",
        "MS\n",
        "Within\n",
        "​\n",
        " =\n",
        "df\n",
        "Within\n",
        "​\n",
        "\n",
        "SS\n",
        "Within\n",
        "​\n",
        "\n",
        "\n",
        "d. F-Statistik\n",
        "F (1.7123): Statistik uji, dihitung dengan\n",
        "𝐹\n",
        "=\n",
        "𝑀\n",
        "𝑆\n",
        "Between\n",
        "𝑀\n",
        "𝑆\n",
        "Within\n",
        "F=\n",
        "MS\n",
        "Within\n",
        "​\n",
        "\n",
        "MS\n",
        "Between. Nilai F ini digunakan untuk menentukan apakah variasi antar kelompok lebih besar dari variasi dalam kelompok.\n",
        "\n",
        "e. p-value (0.20)\n",
        "p-value menunjukkan probabilitas mendapatkan hasil ini (atau yang lebih ekstrem) jika hipotesis nol benar.\n",
        "Dengan p-value = 0.20, yang lebih besar dari tingkat signifikansi\n",
        "𝛼\n",
        "=\n",
        "0.05\n",
        "α=0.05, kita gagal menolak\n",
        "𝐻\n",
        "0\n",
        "H\n",
        "0\n",
        "​\n",
        " ."
      ],
      "metadata": {
        "id": "w0X04pyYJM9E"
      }
    },
    {
      "cell_type": "markdown",
      "source": [
        "# **KUIS PROBSTAT K02**"
      ],
      "metadata": {
        "id": "XHVJS385RmUr"
      }
    },
    {
      "cell_type": "markdown",
      "source": [
        "### **PERSAMAAN REGRESI**"
      ],
      "metadata": {
        "id": "VR6p6VhX1R5G"
      }
    },
    {
      "cell_type": "code",
      "source": [
        "import numpy as np\n",
        "# No1. Daya Listrik Data Center (Contoh Soal)\n",
        "\n",
        "# Masukkan data yang ingin di regresi linear\n",
        "x = np.array([624, 512, 398, 512, 184, 324])  # Variabel independen\n",
        "y = np.array([4890, 3240, 3020, 3000, 1380, 2416])  # Variabel dependen\n",
        "\n",
        "# Jumlah data\n",
        "n = len(x)\n",
        "\n",
        "# Menghitung rata-rata\n",
        "x_mean = np.mean(x)\n",
        "y_mean = np.mean(y)\n",
        "\n",
        "# Menghitung Sxx, Syy, dan Sxy\n",
        "Sxx = np.sum((x - x_mean)**2)\n",
        "Syy = np.sum((y - y_mean)**2)\n",
        "Sxy = np.sum((x - x_mean) * (y - y_mean))\n",
        "\n",
        "# Menghitung kemiringan (B1) dan intersep (B0)\n",
        "B1 = Sxy / Sxx\n",
        "B0 = y_mean - B1 * x_mean\n",
        "\n",
        "# Fungsi prediksi\n",
        "def predict(x_values):\n",
        "    return B0 + B1 * x_values\n",
        "\n",
        "# Hasil regresi\n",
        "y_pred = predict(x)\n",
        "\n",
        "# Menghitung R-squared\n",
        "ss_total = Syy  # Total sum of squares\n",
        "sse = np.sum((y - y_pred)**2)  # Residual sum of squares\n",
        "r_squared = 1 - (sse / ss_total)\n",
        "s2 = (sse/(n-2)) # MSE atau s^2\n",
        "r = Sxy / np.sqrt(Sxx * Syy)\n",
        "# Evaluasi model\n",
        "\n",
        "\n",
        "# Menampilkan hasil\n",
        "print(\"Jawaban Hasil regresi:\")\n",
        "print(f\"a. Sxx: {Sxx}\")\n",
        "print(f\"b. Sxy: {Sxy}\")\n",
        "print(f\"c. Syy: {Syy}\")\n",
        "print(f\"d. Slope (B1): {B1:.4f}\")\n",
        "print(f\"e. Intercept (B0): {B0:.4f}\")\n",
        "# Menampilkan persamaan regresi\n",
        "print(f\"f. Persamaan regresi: y = {B0:.2f} + {B1:.2f}x\")\n",
        "print(f\"g. SSE: {sse:.4f}\")\n",
        "print(f\"h. MSE atau s^2: {s2:.4f}\")\n",
        "print(f\"i. R-squared: {r_squared:.4f}\")\n",
        "print(f\"j. Korelasi Linear Sampel (r) : {r:.4f}\")"
      ],
      "metadata": {
        "colab": {
          "base_uri": "https://localhost:8080/"
        },
        "id": "0QNAuuXZRtLB",
        "outputId": "f7f93505-db92-44d5-baa7-d966248ac3e9"
      },
      "execution_count": null,
      "outputs": [
        {
          "output_type": "stream",
          "name": "stdout",
          "text": [
            "Jawaban Hasil regresi:\n",
            "a. Sxx: 123747.33333333333\n",
            "b. Sxy: 845890.0000000001\n",
            "c. Syy: 6595070.0\n",
            "d. Slope (B1): 6.8356\n",
            "e. Intercept (B0): 81.3035\n",
            "f. Persamaan regresi: y = 81.30 + 6.84x\n",
            "g. SSE: 812885.6666\n",
            "h. MSE atau s^2: 203221.4167\n",
            "i. R-squared: 0.8767\n",
            "j. Korelasi Linear Sampel (r) : 0.9363\n"
          ]
        }
      ]
    },
    {
      "cell_type": "markdown",
      "source": [
        "### **HIPOTESIS TESTING FOR REGRESI, H0 : GRADIEN = 0, H1 != 0**"
      ],
      "metadata": {
        "id": "f4Qlfh161W69"
      }
    },
    {
      "cell_type": "code",
      "source": [
        "import numpy as np\n",
        "import scipy.stats as st\n",
        "\n",
        "# Data\n",
        "# Masukkan data yang ingin di regresi linear\n",
        "x = np.array([624, 512, 398, 512, 184, 324])  # Variabel independen\n",
        "y = np.array([4890, 3240, 3020, 3000, 1380, 2416])  # Variabel dependen\n",
        "n = len(x)\n",
        "\n",
        "# Statistik dasar\n",
        "x_mean = np.mean(x)\n",
        "y_mean = np.mean(y)\n",
        "\n",
        "# Hitung Sxx dan Sxy\n",
        "Sxx = np.sum((x - x_mean)**2)\n",
        "Sxy = np.sum((x - x_mean) * (y - y_mean))\n",
        "\n",
        "# Koefisien regresi\n",
        "B1 = Sxy / Sxx  # Gradien (slope)\n",
        "B0 = y_mean - B1 * x_mean  # Intercept\n",
        "\n",
        "# Standard Error (SE) untuk gradien\n",
        "y_pred = B0 + B1 * x\n",
        "residuals = y - y_pred\n",
        "SE_B1 = np.sqrt(np.sum(residuals**2) / (n - 2)) / np.sqrt(Sxx)\n",
        "\n",
        "# t-statistik\n",
        "t_stat = B1 / SE_B1\n",
        "\n",
        "# Nilai kritis dan p-value\n",
        "alpha_5 = 0.05\n",
        "alpha_1 = 0.01\n",
        "df = n - 2  # Degree of freedom\n",
        "t_crit_5 = st.t.ppf(1 - alpha_5 / 2, df)  # Nilai kritis untuk 5%\n",
        "t_crit_1 = st.t.ppf(1 - alpha_1 / 2, df)  # Nilai kritis untuk 1%\n",
        "p_value = 2 * (1 - st.t.cdf(abs(t_stat), df))  # p-value\n",
        "\n",
        "# Hasil\n",
        "print(\"HIPOTESIS 0 MENYATAKAN = 0. H1 MENYATAKAN != 0, SEHINGGA KITA MEMAKAI TESTING 2 ARAH.\")\n",
        "print(f\"Gradien (B1): {B1:.4f}\")\n",
        "print(f\"Standard Error (SE_B1): {SE_B1:.4f}\")\n",
        "print(f\"t-statistik: {t_stat:.4f}\")\n",
        "print(f\"Nilai kritis (5%): ±{t_crit_5:.4f}\")\n",
        "print(f\"Nilai kritis (1%): ±{t_crit_1:.4f}\")\n",
        "print(f\"p-value: {p_value:.4f}\")\n",
        "\n",
        "# Uji dua arah\n",
        "print(\"=== Uji Dua Arah ===\")\n",
        "print(f\"Nilai kritis (5%): t < {-t_crit_5:.4f} atau t > {t_crit_5:.4f}\")\n",
        "print(f\"Nilai kritis (1%): t < {-t_crit_1:.4f} atau t > {t_crit_1:.4f}\")\n",
        "if abs(t_stat) > t_crit_5:\n",
        "    print(f\"Hasil signifikan pada tingkat signifikansi 5% (tolak H0). t = {t_stat:.4f}\")\n",
        "else:\n",
        "    print(f\"Hasil tidak signifikan pada tingkat signifikansi 5% (gagal tolak H0). t = {t_stat:.4f}\")\n",
        "\n",
        "if abs(t_stat) > t_crit_1:\n",
        "    print(f\"Hasil signifikan pada tingkat signifikansi 1% (tolak H0). t = {t_stat:.4f}\")\n",
        "else:\n",
        "    print(f\"Hasil tidak signifikan pada tingkat signifikansi 1% (gagal tolak H0). t = {t_stat:.4f}\")\n",
        "\n",
        "# Uji satu arah (positif)\n",
        "t_crit_one_tail_5 = st.t.ppf(1 - alpha_5, df)  # Nilai kritis untuk 5% satu arah\n",
        "t_crit_one_tail_1 = st.t.ppf(1 - alpha_1, df)  # Nilai kritis untuk 1% satu arah\n",
        "\n",
        "print(\"\\n=== Uji Satu Arah (positif) ===\")\n",
        "print(f\"Nilai kritis (5%): t > {t_crit_one_tail_5:.4f}\")\n",
        "print(f\"Nilai kritis (1%): t > {t_crit_one_tail_1:.4f}\")\n",
        "if t_stat > t_crit_one_tail_5:\n",
        "    print(f\"Hasil signifikan pada tingkat signifikansi 5% (tolak H0). t = {t_stat:.4f}\")\n",
        "else:\n",
        "    print(f\"Hasil tidak signifikan pada tingkat signifikansi 5% (gagal tolak H0). t = {t_stat:.4f}\")\n",
        "\n",
        "if t_stat > t_crit_one_tail_1:\n",
        "    print(f\"Hasil signifikan pada tingkat signifikansi 1% (tolak H0). t = {t_stat:.4f}\")\n",
        "else:\n",
        "    print(f\"Hasil tidak signifikan pada tingkat signifikansi 1% (gagal tolak H0). t = {t_stat:.4f}\")\n"
      ],
      "metadata": {
        "colab": {
          "base_uri": "https://localhost:8080/"
        },
        "id": "ONvv8q4SURmq",
        "outputId": "7a42a8da-6c2c-447c-e8f7-63911b9147dd"
      },
      "execution_count": null,
      "outputs": [
        {
          "output_type": "stream",
          "name": "stdout",
          "text": [
            "HIPOTESIS 0 MENYATAKAN = 0. H1 MENYATAKAN != 0, SEHINGGA KITA MEMAKAI TESTING 2 ARAH.\n",
            "Gradien (B1): 6.8356\n",
            "Standard Error (SE_B1): 1.2815\n",
            "t-statistik: 5.3341\n",
            "Nilai kritis (5%): ±2.7764\n",
            "Nilai kritis (1%): ±4.6041\n",
            "p-value: 0.0059\n",
            "=== Uji Dua Arah ===\n",
            "Nilai kritis (5%): t < -2.7764 atau t > 2.7764\n",
            "Nilai kritis (1%): t < -4.6041 atau t > 4.6041\n",
            "Hasil signifikan pada tingkat signifikansi 5% (tolak H0). t = 5.3341\n",
            "Hasil signifikan pada tingkat signifikansi 1% (tolak H0). t = 5.3341\n",
            "\n",
            "=== Uji Satu Arah (positif) ===\n",
            "Nilai kritis (5%): t > 2.1318\n",
            "Nilai kritis (1%): t > 3.7469\n",
            "Hasil signifikan pada tingkat signifikansi 5% (tolak H0). t = 5.3341\n",
            "Hasil signifikan pada tingkat signifikansi 1% (tolak H0). t = 5.3341\n"
          ]
        }
      ]
    },
    {
      "cell_type": "markdown",
      "source": [
        "### **Mencari y_prediksi suatu x**"
      ],
      "metadata": {
        "id": "nEERRKj31jB8"
      }
    },
    {
      "cell_type": "code",
      "source": [
        "x = 150\n",
        "y = 81.30 + 6.84*x\n",
        "print(y)"
      ],
      "metadata": {
        "colab": {
          "base_uri": "https://localhost:8080/"
        },
        "id": "GqtOY6ivWhWa",
        "outputId": "c489f78d-7a69-4a63-d0a5-44ae4a342fee"
      },
      "execution_count": null,
      "outputs": [
        {
          "output_type": "stream",
          "name": "stdout",
          "text": [
            "1107.3\n"
          ]
        }
      ]
    },
    {
      "cell_type": "markdown",
      "source": [
        "# **LATIHAN KELAS SEBELAH (PENTING)**"
      ],
      "metadata": {
        "id": "43urx_ZVYv9m"
      }
    },
    {
      "cell_type": "code",
      "source": [
        "# Updated Python dictionary with intuitive class sections\n",
        "data = {\n",
        "    \"Student_ID\": list(range(1, 16)),\n",
        "    \"Age\": [18, 19, 18, 20, 21, 22, 19, 20, 18, 21, 19, 20, 21, 21, 18],\n",
        "    \"Gender\": [\"Male\", \"Female\", \"Female\", \"Male\", \"Male\", \"Female\", \"Male\", \"Female\", \"Male\", \"Female\", \"Male\", \"Female\", \"Male\", \"Female\", \"Male\"],\n",
        "    \"Hours_Studied\": [5, 8, 6, 7, 10, 4, 9, 5, 6, 8, 7, 5, 4, 9, 6],\n",
        "    \"Math_Score\": [78, 85, 72, 80, 95, 60, 88, 75, 70, 90, 85, 74, 65, 92, 80],\n",
        "    \"English_Score\": [82, 88, 78, 84, 92, 65, 86, 79, 72, 91, 87, 76, 68, 93, 83],\n",
        "    \"Passed_Math\": [1, 1, 1, 1, 1, 0, 1, 1, 1, 1, 1, 1, 0, 1, 1],  # 1 for Pass, 0 for Fail\n",
        "    \"Passed_English\": [1, 1, 1, 1, 1, 0, 1, 1, 1, 1, 1, 1, 0, 1, 1],  # 1 for Pass, 0 for Fail\n",
        "    \"Attendance_Rate\": [90, 95, 85, 80, 100, 70, 88, 84, 92, 96, 89, 86, 75, 97, 91],\n",
        "    \"Class_Section\": [\"Class A\", \"Class B\", \"Class C\", \"Class A\", \"Class B\", \"Class C\",\n",
        "                      \"Class A\", \"Class B\", \"Class C\", \"Class A\", \"Class B\", \"Class C\",\n",
        "                      \"Class A\", \"Class B\", \"Class C\"]\n",
        "}\n",
        "\n",
        "# Convert dictionary to pandas DataFrame\n",
        "import pandas as pd\n",
        "\n",
        "df = pd.DataFrame(data)\n",
        "\n",
        "# Display the DataFrame\n",
        "print(df)"
      ],
      "metadata": {
        "colab": {
          "base_uri": "https://localhost:8080/"
        },
        "id": "XfcV0I5OZGEO",
        "outputId": "33f5a4ef-2397-4f08-9470-b1233fa6685e"
      },
      "execution_count": null,
      "outputs": [
        {
          "output_type": "stream",
          "name": "stdout",
          "text": [
            "    Student_ID  Age  Gender  Hours_Studied  Math_Score  English_Score  \\\n",
            "0            1   18    Male              5          78             82   \n",
            "1            2   19  Female              8          85             88   \n",
            "2            3   18  Female              6          72             78   \n",
            "3            4   20    Male              7          80             84   \n",
            "4            5   21    Male             10          95             92   \n",
            "5            6   22  Female              4          60             65   \n",
            "6            7   19    Male              9          88             86   \n",
            "7            8   20  Female              5          75             79   \n",
            "8            9   18    Male              6          70             72   \n",
            "9           10   21  Female              8          90             91   \n",
            "10          11   19    Male              7          85             87   \n",
            "11          12   20  Female              5          74             76   \n",
            "12          13   21    Male              4          65             68   \n",
            "13          14   21  Female              9          92             93   \n",
            "14          15   18    Male              6          80             83   \n",
            "\n",
            "    Passed_Math  Passed_English  Attendance_Rate Class_Section  \n",
            "0             1               1               90       Class A  \n",
            "1             1               1               95       Class B  \n",
            "2             1               1               85       Class C  \n",
            "3             1               1               80       Class A  \n",
            "4             1               1              100       Class B  \n",
            "5             0               0               70       Class C  \n",
            "6             1               1               88       Class A  \n",
            "7             1               1               84       Class B  \n",
            "8             1               1               92       Class C  \n",
            "9             1               1               96       Class A  \n",
            "10            1               1               89       Class B  \n",
            "11            1               1               86       Class C  \n",
            "12            0               0               75       Class A  \n",
            "13            1               1               97       Class B  \n",
            "14            1               1               91       Class C  \n"
          ]
        }
      ]
    },
    {
      "cell_type": "markdown",
      "source": [
        "## **DESCRIPTIVE STATISTIC (INI YANG SKEW + KURTOSISNYA VALID)**"
      ],
      "metadata": {
        "id": "TIA1_ahlaML0"
      }
    },
    {
      "cell_type": "code",
      "source": [
        "import pandas as pd\n",
        "import numpy as np\n",
        "from scipy.stats import skew, kurtosis\n",
        "\n",
        "# Mean\n",
        "mean = df['Math_Score'].mean()\n",
        "\n",
        "# Quartiles\n",
        "q1 = df['Math_Score'].quantile(0.25)\n",
        "q2 = df['Math_Score'].median()\n",
        "q3 = df['Math_Score'].quantile(0.75)\n",
        "\n",
        "# Percentiles\n",
        "p1 = np.percentile(df['Math_Score'], 1)\n",
        "p5 = np.percentile(df['Math_Score'], 5)\n",
        "p95 = np.percentile(df['Math_Score'], 95)\n",
        "p99 = np.percentile(df['Math_Score'], 99)\n",
        "\n",
        "# Skewness and Kurtosis\n",
        "math_skew = skew(df['Math_Score'])\n",
        "math_kurtosis = kurtosis(df['Math_Score'], fisher = False)\n",
        "\n",
        "struct = [\n",
        "    ['mean', mean],\n",
        "    ['q1', q1],\n",
        "    ['q2', q2],\n",
        "    ['q3', q3],\n",
        "    ['p1', p1],\n",
        "    ['p5', p5],\n",
        "    ['p95', p95],\n",
        "    ['p99', p99],\n",
        "    ['skew', math_skew],\n",
        "    ['kurtosis', math_kurtosis]\n",
        "]\n",
        "\n",
        "pd.DataFrame(struct, columns = ['statistic', 'value'])"
      ],
      "metadata": {
        "colab": {
          "base_uri": "https://localhost:8080/",
          "height": 363
        },
        "id": "tMKGrEZQZIqO",
        "outputId": "3ded8216-3a46-4854-af1c-447191eeca34"
      },
      "execution_count": null,
      "outputs": [
        {
          "output_type": "execute_result",
          "data": {
            "text/plain": [
              "  statistic      value\n",
              "0      mean  79.266667\n",
              "1        q1  73.000000\n",
              "2        q2  80.000000\n",
              "3        q3  86.500000\n",
              "4        p1  60.700000\n",
              "5        p5  63.500000\n",
              "6       p95  92.900000\n",
              "7       p99  94.580000\n",
              "8      skew  -0.230981\n",
              "9  kurtosis   2.198744"
            ],
            "text/html": [
              "\n",
              "  <div id=\"df-6ed50159-f263-4e7d-a2fa-5266f8a8b7e6\" class=\"colab-df-container\">\n",
              "    <div>\n",
              "<style scoped>\n",
              "    .dataframe tbody tr th:only-of-type {\n",
              "        vertical-align: middle;\n",
              "    }\n",
              "\n",
              "    .dataframe tbody tr th {\n",
              "        vertical-align: top;\n",
              "    }\n",
              "\n",
              "    .dataframe thead th {\n",
              "        text-align: right;\n",
              "    }\n",
              "</style>\n",
              "<table border=\"1\" class=\"dataframe\">\n",
              "  <thead>\n",
              "    <tr style=\"text-align: right;\">\n",
              "      <th></th>\n",
              "      <th>statistic</th>\n",
              "      <th>value</th>\n",
              "    </tr>\n",
              "  </thead>\n",
              "  <tbody>\n",
              "    <tr>\n",
              "      <th>0</th>\n",
              "      <td>mean</td>\n",
              "      <td>79.266667</td>\n",
              "    </tr>\n",
              "    <tr>\n",
              "      <th>1</th>\n",
              "      <td>q1</td>\n",
              "      <td>73.000000</td>\n",
              "    </tr>\n",
              "    <tr>\n",
              "      <th>2</th>\n",
              "      <td>q2</td>\n",
              "      <td>80.000000</td>\n",
              "    </tr>\n",
              "    <tr>\n",
              "      <th>3</th>\n",
              "      <td>q3</td>\n",
              "      <td>86.500000</td>\n",
              "    </tr>\n",
              "    <tr>\n",
              "      <th>4</th>\n",
              "      <td>p1</td>\n",
              "      <td>60.700000</td>\n",
              "    </tr>\n",
              "    <tr>\n",
              "      <th>5</th>\n",
              "      <td>p5</td>\n",
              "      <td>63.500000</td>\n",
              "    </tr>\n",
              "    <tr>\n",
              "      <th>6</th>\n",
              "      <td>p95</td>\n",
              "      <td>92.900000</td>\n",
              "    </tr>\n",
              "    <tr>\n",
              "      <th>7</th>\n",
              "      <td>p99</td>\n",
              "      <td>94.580000</td>\n",
              "    </tr>\n",
              "    <tr>\n",
              "      <th>8</th>\n",
              "      <td>skew</td>\n",
              "      <td>-0.230981</td>\n",
              "    </tr>\n",
              "    <tr>\n",
              "      <th>9</th>\n",
              "      <td>kurtosis</td>\n",
              "      <td>2.198744</td>\n",
              "    </tr>\n",
              "  </tbody>\n",
              "</table>\n",
              "</div>\n",
              "    <div class=\"colab-df-buttons\">\n",
              "\n",
              "  <div class=\"colab-df-container\">\n",
              "    <button class=\"colab-df-convert\" onclick=\"convertToInteractive('df-6ed50159-f263-4e7d-a2fa-5266f8a8b7e6')\"\n",
              "            title=\"Convert this dataframe to an interactive table.\"\n",
              "            style=\"display:none;\">\n",
              "\n",
              "  <svg xmlns=\"http://www.w3.org/2000/svg\" height=\"24px\" viewBox=\"0 -960 960 960\">\n",
              "    <path d=\"M120-120v-720h720v720H120Zm60-500h600v-160H180v160Zm220 220h160v-160H400v160Zm0 220h160v-160H400v160ZM180-400h160v-160H180v160Zm440 0h160v-160H620v160ZM180-180h160v-160H180v160Zm440 0h160v-160H620v160Z\"/>\n",
              "  </svg>\n",
              "    </button>\n",
              "\n",
              "  <style>\n",
              "    .colab-df-container {\n",
              "      display:flex;\n",
              "      gap: 12px;\n",
              "    }\n",
              "\n",
              "    .colab-df-convert {\n",
              "      background-color: #E8F0FE;\n",
              "      border: none;\n",
              "      border-radius: 50%;\n",
              "      cursor: pointer;\n",
              "      display: none;\n",
              "      fill: #1967D2;\n",
              "      height: 32px;\n",
              "      padding: 0 0 0 0;\n",
              "      width: 32px;\n",
              "    }\n",
              "\n",
              "    .colab-df-convert:hover {\n",
              "      background-color: #E2EBFA;\n",
              "      box-shadow: 0px 1px 2px rgba(60, 64, 67, 0.3), 0px 1px 3px 1px rgba(60, 64, 67, 0.15);\n",
              "      fill: #174EA6;\n",
              "    }\n",
              "\n",
              "    .colab-df-buttons div {\n",
              "      margin-bottom: 4px;\n",
              "    }\n",
              "\n",
              "    [theme=dark] .colab-df-convert {\n",
              "      background-color: #3B4455;\n",
              "      fill: #D2E3FC;\n",
              "    }\n",
              "\n",
              "    [theme=dark] .colab-df-convert:hover {\n",
              "      background-color: #434B5C;\n",
              "      box-shadow: 0px 1px 3px 1px rgba(0, 0, 0, 0.15);\n",
              "      filter: drop-shadow(0px 1px 2px rgba(0, 0, 0, 0.3));\n",
              "      fill: #FFFFFF;\n",
              "    }\n",
              "  </style>\n",
              "\n",
              "    <script>\n",
              "      const buttonEl =\n",
              "        document.querySelector('#df-6ed50159-f263-4e7d-a2fa-5266f8a8b7e6 button.colab-df-convert');\n",
              "      buttonEl.style.display =\n",
              "        google.colab.kernel.accessAllowed ? 'block' : 'none';\n",
              "\n",
              "      async function convertToInteractive(key) {\n",
              "        const element = document.querySelector('#df-6ed50159-f263-4e7d-a2fa-5266f8a8b7e6');\n",
              "        const dataTable =\n",
              "          await google.colab.kernel.invokeFunction('convertToInteractive',\n",
              "                                                    [key], {});\n",
              "        if (!dataTable) return;\n",
              "\n",
              "        const docLinkHtml = 'Like what you see? Visit the ' +\n",
              "          '<a target=\"_blank\" href=https://colab.research.google.com/notebooks/data_table.ipynb>data table notebook</a>'\n",
              "          + ' to learn more about interactive tables.';\n",
              "        element.innerHTML = '';\n",
              "        dataTable['output_type'] = 'display_data';\n",
              "        await google.colab.output.renderOutput(dataTable, element);\n",
              "        const docLink = document.createElement('div');\n",
              "        docLink.innerHTML = docLinkHtml;\n",
              "        element.appendChild(docLink);\n",
              "      }\n",
              "    </script>\n",
              "  </div>\n",
              "\n",
              "\n",
              "<div id=\"df-a429e575-c7da-456f-b22f-670fd8171323\">\n",
              "  <button class=\"colab-df-quickchart\" onclick=\"quickchart('df-a429e575-c7da-456f-b22f-670fd8171323')\"\n",
              "            title=\"Suggest charts\"\n",
              "            style=\"display:none;\">\n",
              "\n",
              "<svg xmlns=\"http://www.w3.org/2000/svg\" height=\"24px\"viewBox=\"0 0 24 24\"\n",
              "     width=\"24px\">\n",
              "    <g>\n",
              "        <path d=\"M19 3H5c-1.1 0-2 .9-2 2v14c0 1.1.9 2 2 2h14c1.1 0 2-.9 2-2V5c0-1.1-.9-2-2-2zM9 17H7v-7h2v7zm4 0h-2V7h2v10zm4 0h-2v-4h2v4z\"/>\n",
              "    </g>\n",
              "</svg>\n",
              "  </button>\n",
              "\n",
              "<style>\n",
              "  .colab-df-quickchart {\n",
              "      --bg-color: #E8F0FE;\n",
              "      --fill-color: #1967D2;\n",
              "      --hover-bg-color: #E2EBFA;\n",
              "      --hover-fill-color: #174EA6;\n",
              "      --disabled-fill-color: #AAA;\n",
              "      --disabled-bg-color: #DDD;\n",
              "  }\n",
              "\n",
              "  [theme=dark] .colab-df-quickchart {\n",
              "      --bg-color: #3B4455;\n",
              "      --fill-color: #D2E3FC;\n",
              "      --hover-bg-color: #434B5C;\n",
              "      --hover-fill-color: #FFFFFF;\n",
              "      --disabled-bg-color: #3B4455;\n",
              "      --disabled-fill-color: #666;\n",
              "  }\n",
              "\n",
              "  .colab-df-quickchart {\n",
              "    background-color: var(--bg-color);\n",
              "    border: none;\n",
              "    border-radius: 50%;\n",
              "    cursor: pointer;\n",
              "    display: none;\n",
              "    fill: var(--fill-color);\n",
              "    height: 32px;\n",
              "    padding: 0;\n",
              "    width: 32px;\n",
              "  }\n",
              "\n",
              "  .colab-df-quickchart:hover {\n",
              "    background-color: var(--hover-bg-color);\n",
              "    box-shadow: 0 1px 2px rgba(60, 64, 67, 0.3), 0 1px 3px 1px rgba(60, 64, 67, 0.15);\n",
              "    fill: var(--button-hover-fill-color);\n",
              "  }\n",
              "\n",
              "  .colab-df-quickchart-complete:disabled,\n",
              "  .colab-df-quickchart-complete:disabled:hover {\n",
              "    background-color: var(--disabled-bg-color);\n",
              "    fill: var(--disabled-fill-color);\n",
              "    box-shadow: none;\n",
              "  }\n",
              "\n",
              "  .colab-df-spinner {\n",
              "    border: 2px solid var(--fill-color);\n",
              "    border-color: transparent;\n",
              "    border-bottom-color: var(--fill-color);\n",
              "    animation:\n",
              "      spin 1s steps(1) infinite;\n",
              "  }\n",
              "\n",
              "  @keyframes spin {\n",
              "    0% {\n",
              "      border-color: transparent;\n",
              "      border-bottom-color: var(--fill-color);\n",
              "      border-left-color: var(--fill-color);\n",
              "    }\n",
              "    20% {\n",
              "      border-color: transparent;\n",
              "      border-left-color: var(--fill-color);\n",
              "      border-top-color: var(--fill-color);\n",
              "    }\n",
              "    30% {\n",
              "      border-color: transparent;\n",
              "      border-left-color: var(--fill-color);\n",
              "      border-top-color: var(--fill-color);\n",
              "      border-right-color: var(--fill-color);\n",
              "    }\n",
              "    40% {\n",
              "      border-color: transparent;\n",
              "      border-right-color: var(--fill-color);\n",
              "      border-top-color: var(--fill-color);\n",
              "    }\n",
              "    60% {\n",
              "      border-color: transparent;\n",
              "      border-right-color: var(--fill-color);\n",
              "    }\n",
              "    80% {\n",
              "      border-color: transparent;\n",
              "      border-right-color: var(--fill-color);\n",
              "      border-bottom-color: var(--fill-color);\n",
              "    }\n",
              "    90% {\n",
              "      border-color: transparent;\n",
              "      border-bottom-color: var(--fill-color);\n",
              "    }\n",
              "  }\n",
              "</style>\n",
              "\n",
              "  <script>\n",
              "    async function quickchart(key) {\n",
              "      const quickchartButtonEl =\n",
              "        document.querySelector('#' + key + ' button');\n",
              "      quickchartButtonEl.disabled = true;  // To prevent multiple clicks.\n",
              "      quickchartButtonEl.classList.add('colab-df-spinner');\n",
              "      try {\n",
              "        const charts = await google.colab.kernel.invokeFunction(\n",
              "            'suggestCharts', [key], {});\n",
              "      } catch (error) {\n",
              "        console.error('Error during call to suggestCharts:', error);\n",
              "      }\n",
              "      quickchartButtonEl.classList.remove('colab-df-spinner');\n",
              "      quickchartButtonEl.classList.add('colab-df-quickchart-complete');\n",
              "    }\n",
              "    (() => {\n",
              "      let quickchartButtonEl =\n",
              "        document.querySelector('#df-a429e575-c7da-456f-b22f-670fd8171323 button');\n",
              "      quickchartButtonEl.style.display =\n",
              "        google.colab.kernel.accessAllowed ? 'block' : 'none';\n",
              "    })();\n",
              "  </script>\n",
              "</div>\n",
              "\n",
              "    </div>\n",
              "  </div>\n"
            ],
            "application/vnd.google.colaboratory.intrinsic+json": {
              "type": "dataframe",
              "summary": "{\n  \"name\": \"pd\",\n  \"rows\": 10,\n  \"fields\": [\n    {\n      \"column\": \"statistic\",\n      \"properties\": {\n        \"dtype\": \"string\",\n        \"num_unique_values\": 10,\n        \"samples\": [\n          \"skew\",\n          \"q1\",\n          \"p5\"\n        ],\n        \"semantic_type\": \"\",\n        \"description\": \"\"\n      }\n    },\n    {\n      \"column\": \"value\",\n      \"properties\": {\n        \"dtype\": \"number\",\n        \"std\": 34.6363129904703,\n        \"min\": -0.23098114354714291,\n        \"max\": 94.58,\n        \"num_unique_values\": 10,\n        \"samples\": [\n          -0.23098114354714291,\n          73.0,\n          63.5\n        ],\n        \"semantic_type\": \"\",\n        \"description\": \"\"\n      }\n    }\n  ]\n}"
            }
          },
          "metadata": {},
          "execution_count": 116
        }
      ]
    },
    {
      "cell_type": "markdown",
      "source": [
        "## **CONFIDENCE INTERVAL**"
      ],
      "metadata": {
        "id": "VUi-Nj7mBhOF"
      }
    },
    {
      "cell_type": "markdown",
      "source": [
        "### **ONE SAMPLE CI || Adds : Ci mean var known**"
      ],
      "metadata": {
        "id": "ZNY6H19Oy9A3"
      }
    },
    {
      "cell_type": "code",
      "source": [
        "import numpy as np\n",
        "import pandas as pd\n",
        "from scipy.stats import norm, t, chi2\n",
        "\n",
        "# Rata-rata dan ukuran sampel\n",
        "mean = df['Math_Score'].mean()  # Gunakan mean() untuk mendapatkan rata-rata\n",
        "n = len(df)\n",
        "\n",
        "# Confidence interval for mean (variance = 4)\n",
        "var_known = 4\n",
        "z_critical = norm.ppf(0.975)\n",
        "ci_mean_var_known = (\n",
        "    mean - z_critical * np.sqrt(var_known / n),\n",
        "    mean + z_critical * np.sqrt(var_known / n)\n",
        ")\n",
        "\n",
        "# Confidence interval for mean (variance unknown)\n",
        "sample_std = df['Math_Score'].std(ddof=1)  # Gunakan ddof=1 untuk sampel\n",
        "t_critical = t.ppf(0.975, n - 1)\n",
        "ci_mean_var_unknown = (\n",
        "    mean - t_critical * (sample_std / np.sqrt(n)),\n",
        "    mean + t_critical * (sample_std / np.sqrt(n))\n",
        ")\n",
        "\n",
        "# Confidence interval for variance\n",
        "chi2_low = chi2.ppf(0.975, n - 1)  # Batas bawah\n",
        "chi2_high = chi2.ppf(0.025, n - 1)  # Batas atas\n",
        "variance = df['Math_Score'].var(ddof=1)  # Varians sampel\n",
        "ci_variance = (\n",
        "    (n - 1) * variance / chi2_low,\n",
        "    (n - 1) * variance / chi2_high\n",
        ")\n",
        "\n",
        "# Confidence interval for proportion of high scores (>85)\n",
        "high_scores = df['Math_Score'] > 85\n",
        "p_hat = high_scores.mean()  # Proporsi nilai tinggi\n",
        "z_critical_prop = norm.ppf(0.975)\n",
        "ci_proportion = (\n",
        "    p_hat - z_critical_prop * np.sqrt(p_hat * (1 - p_hat) / n),\n",
        "    p_hat + z_critical_prop * np.sqrt(p_hat * (1 - p_hat) / n)\n",
        ")\n",
        "\n",
        "# Menampilkan hasil\n",
        "print(f\"CI for Mean (var=4): {ci_mean_var_known}\")\n",
        "print(f\"CI for Mean (var unknown): {ci_mean_var_unknown}\")\n",
        "print(f\"CI for Variance: {ci_variance}\")\n",
        "print(f\"CI for Proportion (>85): {ci_proportion}\")\n"
      ],
      "metadata": {
        "colab": {
          "base_uri": "https://localhost:8080/"
        },
        "id": "7eyAXF3BogoQ",
        "outputId": "c1e4e904-a1b5-4170-dbaf-a871d1b8cc4b"
      },
      "execution_count": null,
      "outputs": [
        {
          "output_type": "stream",
          "name": "stdout",
          "text": [
            "CI for Mean (var=4): (78.25454561716134, 80.27878771617199)\n",
            "CI for Mean (var unknown): (73.67191979997303, 84.8614135333603)\n",
            "CI for Variance: (54.708686233051885, 253.86442814505645)\n",
            "CI for Proportion (>85): (0.04287828242467359, 0.4904550509086597)\n"
          ]
        }
      ]
    },
    {
      "cell_type": "markdown",
      "source": [
        "### **VAR UNKNOWN MEAN CI**"
      ],
      "metadata": {
        "id": "2kBhCUo2qb05"
      }
    },
    {
      "cell_type": "code",
      "source": [
        "import numpy as np\n",
        "import scipy.stats as st\n",
        "\n",
        "data = df['Math_Score']\n",
        "\n",
        "# Menghitung statistik dasar\n",
        "xbar = np.mean(data)  # Rata-rata sampel\n",
        "n = len(data)         # Ukuran sampel\n",
        "s = np.std(data, ddof=1)  # Simpangan baku (sample standard deviation)\n",
        "\n",
        "# Confidence level dan alpha\n",
        "cl = 0.95 #95% CI\n",
        "alpha = 1 - cl\n",
        "\n",
        "# Nilai t_alpha/2 dari distribusi t\n",
        "t = st.t.ppf(1 - alpha/2, df=n-1)  # Degree of freedom = n-1\n",
        "print(t)\n",
        "# Menghitung margin of error\n",
        "margin_of_error = t * s / np.sqrt(n)\n",
        "\n",
        "# Menghitung batas bawah dan atas confidence interval\n",
        "lb = xbar - margin_of_error\n",
        "ub = xbar + margin_of_error\n",
        "\n",
        "# Menampilkan hasil\n",
        "print(f'Rata-rata sampel: {xbar:.4f}')\n",
        "print(f'95% confidence interval untuk rata-rata adalah: {lb:.2f} < mean < {ub:.2f}')"
      ],
      "metadata": {
        "colab": {
          "base_uri": "https://localhost:8080/"
        },
        "id": "OKZadOJDpvfI",
        "outputId": "980ee9c3-2f80-41bb-fd6d-411ae446f289"
      },
      "execution_count": null,
      "outputs": [
        {
          "output_type": "stream",
          "name": "stdout",
          "text": [
            "2.1447866879169273\n",
            "Rata-rata sampel: 79.2667\n",
            "95% confidence interval untuk rata-rata adalah: 73.67 < mean < 84.86\n"
          ]
        }
      ]
    },
    {
      "cell_type": "markdown",
      "source": [
        "### **CI FOR VARIANCE**"
      ],
      "metadata": {
        "id": "DvwArnXzqwAw"
      }
    },
    {
      "cell_type": "code",
      "source": [
        "import numpy as np\n",
        "import scipy.stats as st\n",
        "\n",
        "# Data sampel\n",
        "series = df['Math_Score']\n",
        "\n",
        "# Statistik dasar\n",
        "n = len(series)                  # Ukuran sampel\n",
        "s = np.std(series, ddof=1)       # Standard deviation (ddof=1 untuk sample std. dev.)\n",
        "cl = 0.95                        # Confidence level 95%\n",
        "alpha = 1 - cl                   # Signifikansi\n",
        "\n",
        "# Hitung nilai chi-square kritis\n",
        "chi2_a = st.chi2.ppf(1 - alpha/2, df=n-1)  # Nilai chi-square untuk batas atas\n",
        "chi2_b = st.chi2.ppf(alpha/2, df=n-1)      # Nilai chi-square untuk batas bawah\n",
        "print(chi2_a)\n",
        "print(chi2_b)\n",
        "# Confidence interval untuk variance\n",
        "lb = (n - 1) * s**2 / chi2_a  # Batas bawah\n",
        "ub = (n - 1) * s**2 / chi2_b  # Batas atas\n",
        "\n",
        "# Output hasil\n",
        "print(f\"Variance sampel: {s**2:.4f}\")\n",
        "print(f\"95% confidence interval untuk variance adalah: {lb:.4f} < variance < {ub:.4f}\")\n"
      ],
      "metadata": {
        "colab": {
          "base_uri": "https://localhost:8080/"
        },
        "id": "PFV5iScBqnyz",
        "outputId": "f4a7314d-f185-418f-e380-1d811279a5c7"
      },
      "execution_count": null,
      "outputs": [
        {
          "output_type": "stream",
          "name": "stdout",
          "text": [
            "26.11894804503737\n",
            "5.628726103039734\n",
            "Variance sampel: 102.0667\n",
            "95% confidence interval untuk variance adalah: 54.7087 < variance < 253.8644\n"
          ]
        }
      ]
    },
    {
      "cell_type": "markdown",
      "source": [
        "### **ONE SAMPLE PROPORTION CI FROM COLUMN**"
      ],
      "metadata": {
        "id": "S3Hn8E7L1iLf"
      }
    },
    {
      "cell_type": "code",
      "source": [
        "# -------------------------------------------------------\n",
        "# Confidence Interval Proporsi One Sample\n",
        "# -------------------------------------------------------\n",
        "\n",
        "n = len(df)  # Ukuran sampel\n",
        "x1 = df['Math_Score'] > 85  # Boolean array\n",
        "x = np.sum(x1)  # Jumlah siswa dengan Math_Score > 85\n",
        "\n",
        "# FUNGSI (khusus mencari confidence interval dari satu sampel)\n",
        "def confidence_interval_one_sample(x, n):\n",
        "    p = x / n  # Proporsi sampel\n",
        "    cl = 0.95  # Confidence level\n",
        "    alpha = 1 - cl  # alpha --> P(error)\n",
        "    Z = st.norm.ppf(1 - alpha / 2)  # Menghitung Z critical\n",
        "    # Margin of error\n",
        "    margin_error = Z * np.sqrt((p * (1 - p)) / n)\n",
        "    # Interval kepercayaan\n",
        "    batas_bawah = p - margin_error\n",
        "    batas_atas = p + margin_error\n",
        "    return batas_bawah, batas_atas\n",
        "\n",
        "# Panggil Fungsi\n",
        "batas_bawah, batas_atas = confidence_interval_one_sample(x, n)\n",
        "\n",
        "# OUTPUT\n",
        "print(f\"95% confidence interval adalah : ({batas_bawah:.4f}, {batas_atas:.4f})\")\n",
        "lb_percent = batas_bawah * 100\n",
        "ub_percent = batas_atas * 100\n",
        "print(f'CI nya adalah: {lb_percent:.2f}% < p < {ub_percent:.2f}%')\n"
      ],
      "metadata": {
        "colab": {
          "base_uri": "https://localhost:8080/"
        },
        "id": "5tp2_OaNq62_",
        "outputId": "2c3efebc-2932-418f-c0a6-cbfe202e3747"
      },
      "execution_count": null,
      "outputs": [
        {
          "output_type": "stream",
          "name": "stdout",
          "text": [
            "95% confidence interval adalah : (0.0429, 0.4905)\n",
            "CI nya adalah: 4.29% < p < 49.05%\n"
          ]
        }
      ]
    },
    {
      "cell_type": "markdown",
      "source": [
        "### **TWO SAMPLE CI**"
      ],
      "metadata": {
        "id": "1Dp8dNQdgDkl"
      }
    },
    {
      "cell_type": "markdown",
      "source": [
        "### **CI FOR MEAN DIFFERENCE TWO SAMPLE (VAR KNOWN)**"
      ],
      "metadata": {
        "id": "pj3vusqe5uq3"
      }
    },
    {
      "cell_type": "code",
      "source": [
        "# ---- WAY 1\n",
        "\n",
        "# Separate the groups based on \"Passed_Math\"\n",
        "passed = df[df[\"Passed_Math\"] == 1]\n",
        "not_passed = df[df[\"Passed_Math\"] == 0]\n",
        "# 1. Mean difference (variance = 5 for passed, variance = 4 for not passed)\n",
        "mean_diff = passed[\"Age\"].mean() - not_passed[\"Age\"].mean()\n",
        "var_passed = 5\n",
        "var_not_passed = 4\n",
        "n1 = len(passed)\n",
        "n2 = len(not_passed)\n",
        "se_diff_known = np.sqrt(var_passed / n1 + var_not_passed / n2)\n",
        "\n",
        "z_critical = norm.ppf(0.975)  # 95% confidence level\n",
        "ci_mean_diff_known = (\n",
        "    mean_diff - z_critical * se_diff_known,\n",
        "    mean_diff + z_critical * se_diff_known,\n",
        ")\n",
        "print(f\"CI for Mean Difference (var=5, var=4): {ci_mean_diff_known}\")"
      ],
      "metadata": {
        "colab": {
          "base_uri": "https://localhost:8080/"
        },
        "id": "buUzGw_01yWb",
        "outputId": "94fed2a5-9fc6-47dd-b032-aedeaaf0bf59"
      },
      "execution_count": null,
      "outputs": [
        {
          "output_type": "stream",
          "name": "stdout",
          "text": [
            "CI for Mean Difference (var=5, var=4): (-5.142000184497034, 0.9112309537278009)\n"
          ]
        }
      ]
    },
    {
      "cell_type": "code",
      "source": [
        "# ------ WAY 2\n",
        "\n",
        "import numpy as np\n",
        "from scipy.stats import norm\n",
        "\n",
        "# Sample data\n",
        "# Replace these with your actual data or statistics\n",
        "passed = df[df[\"Passed_Math\"] == 1]\n",
        "not_passed = df[df[\"Passed_Math\"] == 0]\n",
        "mean1 = passed[\"Age\"].mean()   # Mean of sample 1\n",
        "mean2 = not_passed[\"Age\"].mean()  # Mean of sample 2\n",
        "n1 = len(passed)\n",
        "n2 = len(not_passed)\n",
        "var1 = 5   # Known variance of sample 1 (σ1^2)\n",
        "var2 = 4    # Known variance of sample 2 (σ2^2)\n",
        "\n",
        "# Calculate the standard error of the mean difference\n",
        "se_diff = np.sqrt(var1 / n1 + var2 / n2)\n",
        "\n",
        "# Z-critical value for a 95% confidence level\n",
        "z_critical = norm.ppf(0.975)  # Two-tailed, so 1 - alpha/2 = 0.975\n",
        "\n",
        "# Confidence interval for the mean difference\n",
        "mean_diff = passed[\"Age\"].mean() - not_passed[\"Age\"].mean()\n",
        "ci_lower = mean_diff - z_critical * se_diff\n",
        "ci_upper = mean_diff + z_critical * se_diff\n",
        "\n",
        "# Output the results\n",
        "print(f\"Confidence Interval for Mean Difference (var known): ({ci_lower:.4f}, {ci_upper:.4f})\")\n"
      ],
      "metadata": {
        "colab": {
          "base_uri": "https://localhost:8080/"
        },
        "id": "x9RUCQp2X_fL",
        "outputId": "97c74419-a73c-46fe-f960-999c05d88671"
      },
      "execution_count": null,
      "outputs": [
        {
          "output_type": "stream",
          "name": "stdout",
          "text": [
            "Confidence Interval for Mean Difference (var known): (-5.1420, 0.9112)\n"
          ]
        }
      ]
    },
    {
      "cell_type": "markdown",
      "source": [
        "### **VAR UNKNOWN MEAN DIFFERENCE CI**"
      ],
      "metadata": {
        "id": "8WQ7aD1FECHx"
      }
    },
    {
      "cell_type": "code",
      "source": [
        "# ------ WAY 1\n",
        "\n",
        "import numpy as np\n",
        "import scipy.stats as st\n",
        "\n",
        "# Dua set data\n",
        "data1 = passed[\"Age\"]\n",
        "data2 = not_passed[\"Age\"]\n",
        "\n",
        "# Statistik dasar\n",
        "xbar1 = np.mean(data1)  # Rata-rata data1\n",
        "n1 = len(data1)         # Ukuran sampel data1\n",
        "s1 = np.std(data1, ddof=1)  # Simpangan baku data1 (sample std. dev.)\n",
        "\n",
        "xbar2 = np.mean(data2)  # Rata-rata data2\n",
        "n2 = len(data2)         # Ukuran sampel data2\n",
        "s2 = np.std(data2, ddof=1)  # Simpangan baku data2 (sample std. dev.)\n",
        "\n",
        "# Confidence level\n",
        "cl = 0.95\n",
        "alpha = 1 - cl\n",
        "\n",
        "# Hitung derajat kebebasan menggunakan Welch's formula\n",
        "term1 = s1 ** 2 / n1\n",
        "term2 = s2 ** 2 / n2\n",
        "v = (term1 + term2) ** 2 / ((term1 ** 2) / (n1 - 1) + (term2 ** 2) / (n2 - 1))\n",
        "\n",
        "# Hitung nilai t kritis\n",
        "t = st.t.ppf(1 - alpha / 2, df=v)\n",
        "\n",
        "# Hitung margin of error\n",
        "margin = t * np.sqrt(term1 + term2)\n",
        "\n",
        "# Confidence interval\n",
        "lb = (xbar1 - xbar2) - margin\n",
        "ub = (xbar1 - xbar2) + margin\n",
        "\n",
        "# Output hasil\n",
        "print(f\"95% confidence interval mean difference between data1 and data2: ({lb:.4f} < Mean data 1 - Mean data 2 < {ub:.4f})\")\n"
      ],
      "metadata": {
        "colab": {
          "base_uri": "https://localhost:8080/"
        },
        "id": "GDjol4L6D6La",
        "outputId": "58d22db7-fe53-494d-f849-fa1f97572b2e"
      },
      "execution_count": null,
      "outputs": [
        {
          "output_type": "stream",
          "name": "stdout",
          "text": [
            "95% confidence interval mean difference between data1 and data2: (-4.6531 < Mean data 1 - Mean data 2 < 0.4223)\n"
          ]
        }
      ]
    },
    {
      "cell_type": "code",
      "source": [
        "# ------ WAY 2\n",
        "\n",
        "import numpy as np\n",
        "from scipy.stats import t\n",
        "\n",
        "# Sample data\n",
        "mean1 = passed[\"Age\"].mean()\n",
        "mean2 = not_passed[\"Age\"].mean()\n",
        "n1 = len(passed)\n",
        "n2 = len(not_passed)\n",
        "s1 = passed[\"Age\"].std(ddof=1)  # Sample standard deviation (ddof=1)\n",
        "s2 = not_passed[\"Age\"].std(ddof=1)  # Sample standard deviation (ddof=1)\n",
        "\n",
        "# Calculate pooled standard error\n",
        "se_diff = np.sqrt((s1 ** 2 / n1) + (s2 ** 2 / n2))\n",
        "\n",
        "# Degrees of freedom using Welch-Satterthwaite equation\n",
        "numerator = (s1 ** 2 / n1) + (s2 ** 2 / n2)\n",
        "denominator = ((s1 ** 2 / n1) ** 2) / (n1 - 1) + ((s2 ** 2 / n2) ** 2) / (n2 - 1)\n",
        "df = numerator ** 2 / denominator\n",
        "\n",
        "# t-critical value for a 95% confidence level\n",
        "t_critical = t.ppf(0.975, df)  # Two-tailed, so 1 - alpha/2 = 0.975\n",
        "\n",
        "# Confidence interval for the mean difference\n",
        "mean_diff = mean1 - mean2\n",
        "ci_lower = mean_diff - t_critical * se_diff\n",
        "ci_upper = mean_diff + t_critical * se_diff\n",
        "\n",
        "# Output the results\n",
        "print(f\"Confidence Interval for Mean Difference (var unknown): ({ci_lower:.4f}, {ci_upper:.4f})\")\n"
      ],
      "metadata": {
        "colab": {
          "base_uri": "https://localhost:8080/"
        },
        "id": "gIEpAsS9Y1_7",
        "outputId": "56b56512-37da-4cd8-9d58-ee67c4c7304a"
      },
      "execution_count": null,
      "outputs": [
        {
          "output_type": "stream",
          "name": "stdout",
          "text": [
            "Confidence Interval for Mean Difference (var unknown): (-4.6531, 0.4223)\n"
          ]
        }
      ]
    },
    {
      "cell_type": "markdown",
      "source": [
        "### **VARIANCE RATIO CI**"
      ],
      "metadata": {
        "id": "ks6_UGteJvZo"
      }
    },
    {
      "cell_type": "code",
      "source": [
        "import numpy as np\n",
        "import scipy.stats as st\n",
        "\n",
        "# Data sampel\n",
        "sample1 = passed[\"Age\"]\n",
        "sample2 = not_passed[\"Age\"]\n",
        "\n",
        "# Hitung varians dan derajat kebebasan\n",
        "var1 = np.var(sample1, ddof=1)  # Varians sampel 1\n",
        "df1 = len(sample1) - 1          # Degree of freedom untuk sampel 1\n",
        "\n",
        "var2 = np.var(sample2, ddof=1)  # Varians sampel 2\n",
        "df2 = len(sample2) - 1          # Degree of freedom untuk sampel 2\n",
        "\n",
        "# Hitung nilai F alpha/2 dan 1 - alpha/2\n",
        "alpha = 0.05\n",
        "f_alpha_2 = st.f.ppf(1 - alpha / 2, df1, df2)  # F alpha/2\n",
        "f_1_minus_alpha_2 = st.f.ppf(alpha / 2, df1, df2)  # F 1-alpha/2\n",
        "print(f_alpha_2)\n",
        "print(f_1_minus_alpha_2)\n",
        "# Confidence interval untuk rasio varians\n",
        "lb = var1 / var2 / f_alpha_2\n",
        "ub = var1 / var2 / f_1_minus_alpha_2\n",
        "\n",
        "# Output hasil\n",
        "print(f\"95% confidence interval for the variance ratio (sample1 / sample2): ({lb} / {ub})\")\n"
      ],
      "metadata": {
        "colab": {
          "base_uri": "https://localhost:8080/"
        },
        "id": "4jh5QUYwJJJQ",
        "outputId": "7fa8b975-d0ed-4e83-8b13-28390def634d"
      },
      "execution_count": null,
      "outputs": [
        {
          "output_type": "stream",
          "name": "stdout",
          "text": [
            "976.7079498773307\n",
            "0.15258396163907748\n",
            "95% confidence interval for the variance ratio (sample1 / sample2): (0.002914027521237344 / 18.65303414316995)\n"
          ]
        }
      ]
    },
    {
      "cell_type": "markdown",
      "source": [
        "### **Two sample confidence interval proportion difference**"
      ],
      "metadata": {
        "id": "Z8ME2NMabQcl"
      }
    },
    {
      "cell_type": "code",
      "source": [
        "# ------------------------------------------------------------------------------------------------------------\n",
        "# Confidence Interval TWO SAMPLE TOOLS (NO2) (KALAU YG DITNY SAMA COPY AJA LGSG CELL INI YH MKSH)\n",
        "# ------------------------------------------------------------------------------------------------------------\n",
        "\n",
        "# Data (Ini Masukkan Persentase yang ingin dimasukkan)\n",
        "passed = df[df[\"Passed_Math\"] == 1]\n",
        "not_passed = df[df[\"Passed_Math\"] == 0]\n",
        "sample1 = passed[\"Age\"] <= 18\n",
        "sample2 = not_passed[\"Age\"] <= 18\n",
        "xa = sample1.sum()  # Number of <=18 in \"passed\" group\n",
        "xb = sample2.sum()  # Number of <=18 in \"not_passed\" group\n",
        "n1 = len(passed)    # Total samples in the \"passed\" group\n",
        "n2 = len(not_passed)  # Total samples in the \"not_passed\" group\n",
        "# Fungsi untuk Two Sample Confidence Interval\n",
        "def two_sample_ci(x1, x2, n1, n2):\n",
        "    p1 = x1 / n1  # proporsi sampel A\n",
        "    p2 = x2 / n2  # proporsi sampel B\n",
        "    cl = 0.95 # GANT SESUAI SOAL*******\n",
        "    a = 1 - cl\n",
        "    z = st.norm.ppf(1 - a / 2)\n",
        "    # Margin error\n",
        "    margin = z * sqrt(p1 * (1 - p1) / n1 + p2 * (1 - p2) / n2)\n",
        "    # Confidence Interval FORMAT PROPORSI SAMPEL 1 - SAMPEL 2\n",
        "    lb = p1 - p2 - margin\n",
        "    ub = p1 - p2 + margin\n",
        "    lb_percent = lb * 100\n",
        "    ub_percent = ub * 100\n",
        "    print(z)\n",
        "    return lb_percent, ub_percent\n",
        "# Pemanggilan Fungsi\n",
        "lb_percent, ub_percent = two_sample_ci(xa, xb, n1, n2)\n",
        "# Output\n",
        "print(f'CI nya adalah: {lb_percent:.2f}% < p1-p2 < {ub_percent:.2f}%')\n"
      ],
      "metadata": {
        "colab": {
          "base_uri": "https://localhost:8080/"
        },
        "id": "9OmY0NKsdTUU",
        "outputId": "c6a94a18-d98b-444b-8c44-04e2d343ab4e"
      },
      "execution_count": null,
      "outputs": [
        {
          "output_type": "stream",
          "name": "stdout",
          "text": [
            "1.959963984540054\n",
            "CI nya adalah: 5.68% < p1-p2 < 55.86%\n"
          ]
        }
      ]
    },
    {
      "cell_type": "markdown",
      "source": [
        "### **PAIRED TEST**"
      ],
      "metadata": {
        "id": "MNJ0_LE5hlkv"
      }
    },
    {
      "cell_type": "code",
      "source": [
        "# 95% confidence interval for paired difference: Math_Score - English_Score\n",
        "alpha = 0.05 # Ini udah dikurang confidencenya 0.95\n",
        "\n",
        "df[\"Score_Diff\"] = df[\"Math_Score\"] - df[\"English_Score\"]\n",
        "mean_diff = df[\"Score_Diff\"].mean()\n",
        "std_diff = df[\"Score_Diff\"].std()\n",
        "n = len(df)\n",
        "se_diff = std_diff / np.sqrt(n)\n",
        "\n",
        "t_critical = st.t.ppf(1 - alpha/2, df= n - 1)  # Degrees of freedom = n - 1\n",
        "ci_paired_diff = (\n",
        "    mean_diff - t_critical * se_diff,\n",
        "    mean_diff + t_critical * se_diff,\n",
        ")\n",
        "\n",
        "print(\"95% Confidence Interval for Paired Difference (Math - English):\", ci_paired_diff)"
      ],
      "metadata": {
        "colab": {
          "base_uri": "https://localhost:8080/"
        },
        "id": "DBjbZlmfhn8-",
        "outputId": "0cac640c-c3b3-4860-afdc-c522d870d5b4"
      },
      "execution_count": null,
      "outputs": [
        {
          "output_type": "stream",
          "name": "stdout",
          "text": [
            "95% Confidence Interval for Paired Difference (Math - English): (-3.668110423424565, -0.998556243242102)\n"
          ]
        }
      ]
    },
    {
      "cell_type": "markdown",
      "source": [
        "## **HYPOTHESIS TESTING**"
      ],
      "metadata": {
        "id": "xZS-WExb_qSS"
      }
    },
    {
      "cell_type": "markdown",
      "source": [
        "**HYPOTHESIS FOR MEAN VAR KNOWN (z TEST) TWO TAILED**"
      ],
      "metadata": {
        "id": "0KeT0JtLldDe"
      }
    },
    {
      "cell_type": "code",
      "source": [
        "# H0: mean = 80, H1: mean ≠ 80\n",
        "mu_0 = 80  # Hypothesized mean\n",
        "sigma_squared = 4  # Known variance\n",
        "sigma = np.sqrt(sigma_squared)\n",
        "z_score = (df[\"Math_Score\"].mean() - mu_0) / (sigma / np.sqrt(len(df)))\n",
        "p_value = 2 * (1 - norm.cdf(abs(z_score)))  # Two-tailed test\n",
        "z_crit = norm.ppf(0.975)\n",
        "crit1 = -z_crit\n",
        "crit2 = z_crit\n",
        "\n",
        "print(\"Z-Test for Mean (variance known):\")\n",
        "print(\"Z-Score:\", z_score)\n",
        "print(f\"Critical region: z < {crit1}, z > {crit2}\")\n",
        "print(\"P-Value:\", p_value)"
      ],
      "metadata": {
        "colab": {
          "base_uri": "https://localhost:8080/"
        },
        "id": "M5J5hKF06NcX",
        "outputId": "ad4b0460-9ac7-4617-82b2-578d22fddd15"
      },
      "execution_count": null,
      "outputs": [
        {
          "output_type": "stream",
          "name": "stdout",
          "text": [
            "Z-Test for Mean (variance known):\n",
            "Z-Score: -1.420093893609388\n",
            "Critical region: z < -1.959963984540054, z > 1.959963984540054\n",
            "P-Value: 0.15558034779219732\n"
          ]
        }
      ]
    },
    {
      "cell_type": "markdown",
      "source": [
        "**T TEST HYPOTHESIS MEAN VAR UNKNOWN (TWO TAILED)**"
      ],
      "metadata": {
        "id": "e3Hmqksp_6eR"
      }
    },
    {
      "cell_type": "code",
      "source": [
        "from scipy.stats import norm, t, f, chi2\n",
        "from math import sqrt\n",
        "# H0: mean = 80, H1: mean ≠ 80\n",
        "mu_0 = 80\n",
        "alpha = 0.05\n",
        "n = len(df)\n",
        "\n",
        "t_score = (df[\"Math_Score\"].mean() - mu_0) / (df[\"Math_Score\"].std() / np.sqrt(n))\n",
        "p_value_t = 2 * (1 - t.cdf(abs(t_score), df=n - 1))  # Two-tailed test\n",
        "\n",
        "t_crit = t.ppf(1 - alpha/2, df = n-1)\n",
        "crit1 = -t_crit\n",
        "crit2 = t_crit\n",
        "\n",
        "print(\"T-Test for Mean (variance unknown):\")\n",
        "print(\"T-Score:\", t_score)\n",
        "print(f\"Critical region: t < {crit1}, t > {crit2}\")\n",
        "print(\"P-Value:\", p_value_t)"
      ],
      "metadata": {
        "colab": {
          "base_uri": "https://localhost:8080/"
        },
        "id": "bftAklsIloz-",
        "outputId": "b7cdfc90-d8aa-490f-8ee4-08c923584721"
      },
      "execution_count": null,
      "outputs": [
        {
          "output_type": "stream",
          "name": "stdout",
          "text": [
            "T-Test for Mean (variance unknown):\n",
            "T-Score: -0.2811286388133934\n",
            "Critical region: t < -2.1447866879169273, t > 2.1447866879169273\n",
            "P-Value: 0.7827239265797377\n"
          ]
        }
      ]
    },
    {
      "cell_type": "markdown",
      "source": [
        "### **Z Test Proportion One Sample**"
      ],
      "metadata": {
        "id": "4EaPheczrYyv"
      }
    },
    {
      "cell_type": "code",
      "source": [
        "# -----------------------------------------------------------------------------------------------\n",
        "# Hypothesis Testing For One Sample Proportion\n",
        "# -----------------------------------------------------------------------------------------------\n",
        "from scipy import stats as st\n",
        "from math import sqrt\n",
        "\n",
        "# Declaration of categories/variables\n",
        "x = df['Math_Score'] > 85  # This creates a boolean series\n",
        "x_sum = sum(x)  # Get the count of True values\n",
        "n = len(x)\n",
        "p0 = 0.5\n",
        "\n",
        "# Function to perform hypothesis test for 1 sample proportion\n",
        "def one_sample_z_test_hypo(x_sum, n, p0):\n",
        "    p_hat = x_sum / n  # Sample proportion\n",
        "    z = (p_hat - p0) / sqrt((p0 * (1 - p0)) / n)  # Corrected z-statistic formula\n",
        "    alpha = 0.05\n",
        "    z_alpha = st.norm.ppf(alpha)\n",
        "    pval = norm.cdf(z)  # Uji arah Kiri\n",
        "\n",
        "    print(f\"Nilai p0 ditentukan sebesar {p0}\")\n",
        "    print(f\"Nilai H0 adalah sama dengan p0. H0 = {p0}\")\n",
        "    print(f\"Nilai H1 tidak sama dengan p0. H1 != {p0}\")\n",
        "    print('\\nANALISIS')\n",
        "    print(f\"Nilai x adalah : {x_sum}\")  # Print the count instead of trying to format boolean series\n",
        "    print(f\"Nilai z adalah : {z:.2f}\")\n",
        "    print(f'Crit region    : z < {z_alpha:.2f}')\n",
        "\n",
        "    # Check if z is in the critical region\n",
        "    if z < z_alpha:\n",
        "        print('Kesimpulan     : z berada di dalam daerah crit region (daerah kritis), sehingga DAPAT menolak/reject H0. Kesimpulan H1.')\n",
        "    else:\n",
        "        print('Kesimpulan     : z berada di luar daerah crit region (daerah kritis), sehingga TIDAK menolak/reject H0')\n",
        "    print(f\"Nilai p-value  : {pval:.4f}\")\n",
        "\n",
        "# Function call\n",
        "one_sample_z_test_hypo(x_sum, n, p0)\n"
      ],
      "metadata": {
        "colab": {
          "base_uri": "https://localhost:8080/"
        },
        "id": "lO1oRRExmvt-",
        "outputId": "a910cd69-d6b6-495e-bcb2-aa641ef86cc0"
      },
      "execution_count": null,
      "outputs": [
        {
          "output_type": "stream",
          "name": "stdout",
          "text": [
            "Nilai p0 ditentukan sebesar 0.5\n",
            "Nilai H0 adalah sama dengan p0. H0 = 0.5\n",
            "Nilai H1 tidak sama dengan p0. H1 != 0.5\n",
            "\n",
            "ANALISIS\n",
            "Nilai x adalah : 4\n",
            "Nilai z adalah : -1.81\n",
            "Crit region    : z < -1.64\n",
            "Kesimpulan     : z berada di dalam daerah crit region (daerah kritis), sehingga DAPAT menolak/reject H0. Kesimpulan H1.\n",
            "Nilai p-value  : 0.0354\n"
          ]
        }
      ]
    },
    {
      "cell_type": "markdown",
      "source": [
        "### **MEAN DIFFERENCE HYPOTHESIS VAR KNOWN (TWO TAILED) H0 : mu1-mu2 = d**"
      ],
      "metadata": {
        "id": "NamVfK0ur1VH"
      }
    },
    {
      "cell_type": "code",
      "source": [
        "passed = df[df[\"Passed_Math\"] == 1]\n",
        "not_passed = df[df[\"Passed_Math\"] == 0]\n",
        "\n",
        "var = 4\n",
        "\n",
        "n1 = len(passed)\n",
        "n2 = len(not_passed)\n",
        "\n",
        "# Hypothesized difference\n",
        "d_0 = 5\n",
        "alpha = 0.05\n",
        "xbar1 = passed[\"Age\"].mean()\n",
        "xbar2 = not_passed[\"Age\"].mean()\n",
        "\n",
        "# Calculate the z-statistic\n",
        "z_score = (xbar1 - xbar2 - d_0) / (np.sqrt(var / n1 + var / n2))\n",
        "\n",
        "z_crit = norm.ppf(1 - alpha/2)\n",
        "crit1 = -z_crit\n",
        "crit2 = z_crit\n",
        "\n",
        "# Calculate the two-tailed p-value\n",
        "p_value = 2 * (1 - norm.cdf(abs(z_score)))\n",
        "\n",
        "# Print results\n",
        "print(\"Z-Test for Mean Difference (Age, known variance):\")\n",
        "print(\"Z-Score:\", z_score)\n",
        "print(f\"Crit region: z < {crit1}, z > {crit2}\")\n",
        "print(\"P-Value:\", p_value)"
      ],
      "metadata": {
        "colab": {
          "base_uri": "https://localhost:8080/"
        },
        "id": "WQSGpbhfr75-",
        "outputId": "260b1253-423c-4676-a8dc-de1386f4b9cc"
      },
      "execution_count": null,
      "outputs": [
        {
          "output_type": "stream",
          "name": "stdout",
          "text": [
            "Z-Test for Mean Difference (Age, known variance):\n",
            "Z-Score: -4.683919572761959\n",
            "Crit region: z < -1.959963984540054, z > 1.959963984540054\n",
            "P-Value: 2.814404770790091e-06\n"
          ]
        }
      ]
    },
    {
      "cell_type": "code",
      "source": [
        "# Proporsi difference Z test 2 parameter\n",
        "# No difference\n",
        "# Assuming you want to perform a two-sample z-test for proportions.\n",
        "# Replace placeholders with your actual data.\n",
        "\n",
        "import scipy.stats as st\n",
        "from math import sqrt\n",
        "\n",
        "def two_sample_z_test_proportions(p1, p2, n1, n2, h0_difference = 0):\n",
        "    \"\"\"\n",
        "    Performs a two-sample z-test for proportions.\n",
        "\n",
        "    Args:\n",
        "        p1: Proportion of successes in sample 1.\n",
        "        p2: Proportion of successes in sample 2.\n",
        "        n1: Sample size of sample 1.\n",
        "        n2: Sample size of sample 2.\n",
        "        h0_difference: The hypothesized difference between the two population proportions under the null hypothesis (default is 0).\n",
        "\n",
        "    Returns:\n",
        "        A tuple containing the z-statistic, p-value, and critical z-values.\n",
        "    \"\"\"\n",
        "\n",
        "    # Calculate the pooled proportion\n",
        "    p_pooled = (p1 * n1 + p2 * n2) / (n1 + n2)\n",
        "\n",
        "    # Calculate the standard error\n",
        "    se = sqrt(p_pooled * (1 - p_pooled) * (1 / n1 + 1 / n2))\n",
        "\n",
        "    # Calculate the z-statistic\n",
        "    z = (p1 - p2 - h0_difference) / se\n",
        "\n",
        "    # Calculate the p-value (two-tailed test)\n",
        "    p_value = 2 * (1 - st.norm.cdf(abs(z)))\n",
        "\n",
        "    # Calculate critical z-values for a 95% confidence level (alpha = 0.05)\n",
        "    alpha = 0.05\n",
        "    z_critical = st.norm.ppf(1 - alpha / 2)\n",
        "    crit1 = -z_critical\n",
        "    crit2 = z_critical\n",
        "\n",
        "    return z, p_value, crit1, crit2\n",
        "\n",
        "\n",
        "# Example usage (replace with your data)\n",
        "# Example data (replace these with the relevant data from the dataset)\n",
        "p1 = 0.6 # Proportion of successes in sample 1 (replace with your actual data)\n",
        "p2 = 0.4 # Proportion of successes in sample 2 (replace with your actual data)\n",
        "n1 = 100 # Size of sample 1 (replace with your actual data)\n",
        "n2 = 100 # Size of sample 2 (replace with your actual data)\n",
        "\n",
        "\n",
        "z_stat, p_val, crit_1, crit_2 = two_sample_z_test_proportions(p1, p2, n1, n2)\n",
        "\n",
        "print(f\"z-statistic: {z_stat:.2f}\")\n",
        "print(f\"p-value: {p_val:.4f}\")\n",
        "print(f\"Critical region: z < {crit_1:.2f}, z > {crit_2:.2f}\")\n",
        "\n",
        "\n",
        "# Interperet the results:\n",
        "alpha = 0.05 # significance level\n",
        "\n",
        "if p_val < alpha:\n",
        "    print(\"Reject the null hypothesis.\")\n",
        "else:\n",
        "    print(\"Fail to reject the null hypothesis.\")"
      ],
      "metadata": {
        "colab": {
          "base_uri": "https://localhost:8080/"
        },
        "id": "QaX4G9i46_ex",
        "outputId": "8770a121-30f3-449d-90fb-482a229bab17"
      },
      "execution_count": 1,
      "outputs": [
        {
          "output_type": "stream",
          "name": "stdout",
          "text": [
            "z-statistic: 2.83\n",
            "p-value: 0.0047\n",
            "Critical region: z < -1.96, z > 1.96\n",
            "Reject the null hypothesis.\n"
          ]
        }
      ]
    },
    {
      "cell_type": "markdown",
      "source": [
        "### **MEAN DIFFERENCE HYPOTHESIS VAR UNKNOWN (TWO TAILED), H0 : mu1-mu2 = d**"
      ],
      "metadata": {
        "id": "WYsDI-YqsJ-e"
      }
    },
    {
      "cell_type": "code",
      "source": [
        "passed = df[df[\"Passed_Math\"] == 1]\n",
        "not_passed = df[df[\"Passed_Math\"] == 0]\n",
        "\n",
        "var_passed_unknown = passed[\"Age\"].var()\n",
        "var_not_passed_unknown = not_passed[\"Age\"].var()\n",
        "\n",
        "# Calculate sample variances and sizes\n",
        "s1_squared = var_passed_unknown\n",
        "s2_squared = var_not_passed_unknown\n",
        "n1 = len(passed)\n",
        "n2 = len(not_passed)\n",
        "\n",
        "# Hypothesized difference\n",
        "d_0 = 5\n",
        "alpha = 0.05\n",
        "term1 = var_passed_unknown / n1\n",
        "term2 = var_not_passed_unknown / n2\n",
        "v = (term1 + term2) ** 2 / (term1 ** 2 / (n1 - 1) + term2**2 / (n2 - 1))\n",
        "\n",
        "\n",
        "# Calculate the t-statistic\n",
        "t_score = (mean_diff - d_0) / sqrt(term1 + term2)\n",
        "\n",
        "t_crit = t.ppf(1 - alpha/2, df = v)\n",
        "crit1 = -t_crit\n",
        "crit2 = t_crit\n",
        "\n",
        "# Calculate the two-tailed p-value\n",
        "p_value = 2 * (1 - t.cdf(abs(t_score), df = v))\n",
        "\n",
        "# Print results\n",
        "print(\"T-Test for Mean Difference (Age, unknown variance):\")\n",
        "print(\"T-Score:\", t_score)\n",
        "print(f\"Crit region: t < {crit1}, t > {crit2}\")\n",
        "print(\"P-Value:\", p_value)"
      ],
      "metadata": {
        "colab": {
          "base_uri": "https://localhost:8080/"
        },
        "id": "HMOSI5EVsRxd",
        "outputId": "bf1feb4c-ad35-4ffe-cbb5-09c52d1abdaf"
      },
      "execution_count": null,
      "outputs": [
        {
          "output_type": "stream",
          "name": "stdout",
          "text": [
            "T-Test for Mean Difference (Age, unknown variance):\n",
            "T-Score: -12.23127236949874\n",
            "Crit region: t < -4.232595545614649, t > 4.232595545614649\n",
            "P-Value: 0.006202328477366015\n"
          ]
        }
      ]
    },
    {
      "cell_type": "markdown",
      "source": [
        "### **HYPOTHESIS FOR TWO SAMPLE PROPORTION H0: P1 - P2 = d | UNPOOLED d != 0**"
      ],
      "metadata": {
        "id": "MRs8L7xntcqJ"
      }
    },
    {
      "cell_type": "code",
      "source": [
        "# Hypotheses:\n",
        "# H0: Proportion difference (Passed - Not Passed) = 0.1\n",
        "# H1: Proportion difference (Passed - Not Passed) > 0.1\n",
        "\n",
        "alpha = 0.05\n",
        "\n",
        "# Calculate the proportion of students with Age <= 18 for Passed and Not Passed groups\n",
        "p_hat_passed = (passed[\"Age\"] <= 18).mean()\n",
        "p_hat_not_passed = (not_passed[\"Age\"] <= 18).mean()\n",
        "\n",
        "# Sample sizes\n",
        "n1 = len(passed)\n",
        "n2 = len(not_passed)\n",
        "\n",
        "# Calculate the difference in proportions\n",
        "proportion_diff = p_hat_passed - p_hat_not_passed\n",
        "\n",
        "# Given hypothesized difference\n",
        "d_0 = 0.1\n",
        "\n",
        "se_proportion_diff = np.sqrt(\n",
        "    (p_hat_passed * (1 - p_hat_passed) / n1) + (p_hat_not_passed * (1 - p_hat_not_passed) / n2)\n",
        ")\n",
        "\n",
        "# Calculate the test statistic (Z-score)\n",
        "z_score_prop_diff = (proportion_diff - d_0) / se_proportion_diff\n",
        "\n",
        "# Calculate the one-tailed p-value\n",
        "p_value_prop_diff = 1 - norm.cdf(z_score_prop_diff)\n",
        "\n",
        "z_crit = norm.ppf(1 - alpha)\n",
        "crit1 = z_crit\n",
        "\n",
        "# Output the results\n",
        "print(\"Z-Score for Proportion Difference:\", z_score_prop_diff)\n",
        "print(f\"Critical region: z > {crit1}\")\n",
        "print(\"P-Value for Proportion Difference:\", p_value_prop_diff)"
      ],
      "metadata": {
        "colab": {
          "base_uri": "https://localhost:8080/"
        },
        "id": "dVXdduq-tiR-",
        "outputId": "e8fa5357-cbb3-4733-c4fd-8bcc443f8509"
      },
      "execution_count": null,
      "outputs": [
        {
          "output_type": "stream",
          "name": "stdout",
          "text": [
            "Z-Score for Proportion Difference: 1.6224980739587953\n",
            "Critical region: z > 1.6448536269514722\n",
            "P-Value for Proportion Difference: 0.05234837258734881\n"
          ]
        }
      ]
    },
    {
      "cell_type": "markdown",
      "source": [
        "### **PAIRED TEST MEAN DIFFERENCE H0 : MU1 - MU2 = D**"
      ],
      "metadata": {
        "id": "ZI-jyQDw0oAU"
      }
    },
    {
      "cell_type": "code",
      "source": [
        "# H0: d = 5, H1: d ≠ 5\n",
        "\n",
        "df[\"Score_Diff\"] = df[\"Math_Score\"] - df[\"English_Score\"]\n",
        "d_0 = 5\n",
        "mean_diff = df[\"Score_Diff\"].mean()\n",
        "std_diff = df[\"Score_Diff\"].std()\n",
        "n = len(df)\n",
        "se_diff = std_diff / np.sqrt(n)\n",
        "\n",
        "t_score_age = (mean_diff - d_0) / se_diff\n",
        "p_value_age_t = 2 * (1 - t.cdf(abs(t_score_age), df=n-1))  # Two-tailed test\n",
        "\n",
        "t_crit = t.ppf(1 - alpha/2, df = n-1)\n",
        "crit1 = -t_crit\n",
        "crit2 = t_crit\n",
        "\n",
        "print(\"T-Test for Mean Difference (Age, unknown variance):\")\n",
        "print(\"T-Score:\", t_score_age)\n",
        "print(f\"Crit region: t < {crit1}, t > {crit2}\")\n",
        "print(\"P-Value:\", p_value_age_t)"
      ],
      "metadata": {
        "colab": {
          "base_uri": "https://localhost:8080/"
        },
        "id": "r0L-pbRw0xA4",
        "outputId": "fb618d86-6dc8-48ea-de2c-f8bbd40a86bf"
      },
      "execution_count": null,
      "outputs": [
        {
          "output_type": "stream",
          "name": "stdout",
          "text": [
            "T-Test for Mean Difference (Age, unknown variance):\n",
            "T-Score: -11.78356732981967\n",
            "Crit region: t < -2.1447866879169273, t > 2.1447866879169273\n",
            "P-Value: 1.181070241607074e-08\n"
          ]
        }
      ]
    },
    {
      "cell_type": "code",
      "source": [
        "# Nomor 5 ------\n",
        "# Gunakan data pada sheet \"stock\" yang terdapat pada \"Dataset-b.xlsx\" yang tinggal diambil. Ingat format datanya seperti \"timestamp open low high close volume year month 2022-01-03 7325 7300 7400 7325 54287400 2022 January 2022-01-04 7325 7325 7450 7400 70624000 2022 January 2022-01-05 7450 7375 7525 7450 76164900 2022 January 2022-01-06 7500 7425 7525 7475 63657100 2022 January\"\n",
        "# Gunakan. (titik) sebagai separator desimal pada saat input jawaban. Apabila menggunakan , (koma) akan berpotensi disalahkan oleh mesin korektor.\n",
        "# Data tersebut adalah data harga High, Low, Open, dan Close untuk saham BBCA selama beberapa tahun.\n",
        "# Carilah confidence interval (90+8)% untuk selisih mean untuk nilai \"high\" price dan nilai \"low\" price untuk saham BBCA selama tahun 2022. Gunakan formula confidence interval selisih mean sampel berpasangan untuk mengerjakannya.\n",
        "# (a)..<Hhigh-price - Hlow-price <..(b)\n",
        "# Lakukan uji hipotesis sampel berpasangan berikut:\n",
        "# HO: high-price low-price = 5\n",
        "# H1: Phigh-price - Hlow-price <5\n",
        "# Tingkat signifikansi = α = (8 + 1)%\n",
        "# Gunakan metode t-test untuk selisih mean sampel berpasangan untuk mengerjakannya.\n",
        "# c. Tentukan statistik uji (nilai t)!\n",
        "# d. Tentukan kesimpulan dari uji hipotesis! (apabila HO gagal ditolak jawab 0, apabila HO ditolak jawab 1)\n",
        "# e. Tentukan p-value!\n",
        "\n",
        "import pandas as pd\n",
        "import numpy as np\n",
        "from scipy.stats import t\n",
        "\n",
        "# Load the data\n",
        "# Assuming the data is in a file named \"Dataset-b.xlsx\" in the current directory.\n",
        "# If the file is in a different location, adjust the file path accordingly.\n",
        "try:\n",
        "    df = pd.read_excel(\"Dataset-b.xlsx\", sheet_name=\"stock\")\n",
        "except FileNotFoundError:\n",
        "    print(\"Error: 'Dataset-b.xlsx' not found. Please upload the file or provide the correct path.\")\n",
        "    exit()\n",
        "\n",
        "# Filter data for the year 2022\n",
        "df_2022 = df[df['year'] == 2022]\n",
        "\n",
        "# Calculate the difference between high and low prices\n",
        "df_2022['price_diff'] = df_2022['high'] - df_2022['low']\n",
        "\n",
        "# Calculate statistics for the price difference\n",
        "mean_diff = df_2022['price_diff'].mean()\n",
        "std_diff = df_2022['price_diff'].std()\n",
        "n = len(df_2022)\n",
        "\n",
        "# (a) and (b) Calculate the 98% confidence interval for the mean difference\n",
        "alpha = 0.02  # 1 - 0.98\n",
        "t_critical = t.ppf(1 - alpha / 2, df=n - 1)\n",
        "margin_of_error = t_critical * (std_diff / np.sqrt(n))\n",
        "confidence_interval_lower = mean_diff - margin_of_error\n",
        "confidence_interval_upper = mean_diff + margin_of_error\n",
        "\n",
        "# c. Perform paired t-test\n",
        "# H0: high - low = 5\n",
        "# H1: high - low < 5\n",
        "mu_0 = 5\n",
        "alpha = 0.09 # 8+1% significance level\n",
        "t_statistic = (mean_diff - mu_0) / (std_diff / np.sqrt(n))\n",
        "\n",
        "# d. Conclusion\n",
        "# Calculate the p-value\n",
        "p_value = t.cdf(t_statistic, df=n - 1)\n",
        "\n",
        "conclusion = 1 if p_value < alpha else 0\n",
        "\n",
        "# e. p-value\n",
        "# p-value already calculated\n",
        "\n",
        "# Print the results\n",
        "print(f\"({confidence_interval_lower:.4f}) < Hhigh-price - Hlow-price < ({confidence_interval_upper:.4f})\")\n",
        "print(f\"c. Nilai t-statistik: {t_statistic:.4f}\")\n",
        "print(f\"d. Kesimpulan (0 = H0 gagal ditolak, 1 = H0 ditolak): {conclusion}\")\n",
        "print(f\"e. Nilai p-value: {p_value:.4f}\")"
      ],
      "metadata": {
        "colab": {
          "base_uri": "https://localhost:8080/"
        },
        "id": "dBj2BZyhM5c3",
        "outputId": "200d7b18-a1c2-4b09-dd40-5f623bfd7440"
      },
      "execution_count": 20,
      "outputs": [
        {
          "output_type": "stream",
          "name": "stdout",
          "text": [
            "(139.3129) < Hhigh-price - Hlow-price < (159.5332)\n",
            "c. Nilai t-statistik: 33.4388\n",
            "d. Kesimpulan (0 = H0 gagal ditolak, 1 = H0 ditolak): 0\n",
            "e. Nilai p-value: 1.0000\n"
          ]
        }
      ]
    },
    {
      "cell_type": "markdown",
      "source": [
        "## **OTHER REGRESI EXAMPLE FROM COLUMN**"
      ],
      "metadata": {
        "id": "l46QOqFV1DyF"
      }
    },
    {
      "cell_type": "code",
      "source": [
        "x = df['Age']\n",
        "y = df['Hours_Studied']\n",
        "\n",
        "import numpy as np\n",
        "\n",
        "# Jumlah data\n",
        "n = len(x)\n",
        "\n",
        "# Menghitung rata-rata\n",
        "x_mean = np.mean(x)\n",
        "y_mean = np.mean(y)\n",
        "\n",
        "# Menghitung Sxx, Syy, dan Sxy\n",
        "Sxx = np.sum((x - x_mean)**2)\n",
        "Syy = np.sum((y - y_mean)**2)\n",
        "Sxy = np.sum((x - x_mean) * (y - y_mean))\n",
        "\n",
        "# Menghitung kemiringan (B1) dan intersep (B0)\n",
        "B1 = Sxy / Sxx\n",
        "B0 = y_mean - B1 * x_mean\n",
        "\n",
        "# Fungsi prediksi\n",
        "def predict(x_values):\n",
        "    return B0 + B1 * x_values\n",
        "\n",
        "# Hasil regresi\n",
        "y_pred = predict(x)\n",
        "\n",
        "# Menghitung R-squared\n",
        "ss_total = Syy  # Total sum of squares\n",
        "sse = np.sum((y - y_pred)**2)  # Residual sum of squares\n",
        "r_squared = 1 - (sse / ss_total)\n",
        "s2 = (sse/(n-2)) # MSE atau s^2\n",
        "RMSE = np.sqrt(s2)\n",
        "r = Sxy / np.sqrt(Sxx * Syy)\n",
        "# Evaluasi model\n",
        "\n",
        "\n",
        "# Menampilkan hasil\n",
        "print(\"Jawaban Hasil regresi:\")\n",
        "print(f\"a. Sxx: {Sxx}\")\n",
        "print(f\"b. Sxy: {Sxy}\")\n",
        "print(f\"c. Syy: {Syy}\")\n",
        "print(f\"d. Slope (B1): {B1:.4f}\")\n",
        "print(f\"e. Intercept (B0): {B0:.4f}\")\n",
        "# Menampilkan persamaan regresi\n",
        "print(f\"f. Persamaan regresi: y = {B0:.2f} + {B1:.2f}x\")\n",
        "print(f\"g. SSE: {sse:.4f}\")\n",
        "print(f\"h. MSE atau s^2: {s2:.4f}\")\n",
        "print(f\"h. RMSE : {RMSE}\")\n",
        "print(f\"i. R-squared: {r_squared:.4f}\")\n",
        "print(f\"j. Korelasi Linear Sampel (r) : {r:.4f}\")"
      ],
      "metadata": {
        "colab": {
          "base_uri": "https://localhost:8080/"
        },
        "id": "zsOX8Gdm1LJb",
        "outputId": "af0c2fda-efd4-465e-bb59-21af6d6e4764"
      },
      "execution_count": null,
      "outputs": [
        {
          "output_type": "stream",
          "name": "stdout",
          "text": [
            "Jawaban Hasil regresi:\n",
            "a. Sxx: 25.333333333333336\n",
            "b. Sxy: 1.9999999999999998\n",
            "c. Syy: 49.599999999999994\n",
            "d. Slope (B1): 0.0789\n",
            "e. Intercept (B0): 5.0474\n",
            "f. Persamaan regresi: y = 5.05 + 0.08x\n",
            "g. SSE: 49.4421\n",
            "h. MSE atau s^2: 3.8032\n",
            "h. RMSE : 1.9501894437199585\n",
            "i. R-squared: 0.0032\n",
            "j. Korelasi Linear Sampel (r) : 0.0564\n"
          ]
        }
      ]
    },
    {
      "cell_type": "markdown",
      "source": [
        "## **ANOVA ONE WAY EXAMPLE FROM COLUMN**"
      ],
      "metadata": {
        "id": "PQ7LE1pp2g42"
      }
    },
    {
      "cell_type": "code",
      "source": [
        "import numpy as np\n",
        "import scipy.stats as st\n",
        "\n",
        "# Data per kelompok\n",
        "English = df['English_Score']\n",
        "group1 = English[df['Class_Section'] == 'Class A']\n",
        "group2 = English[df['Class_Section'] == 'Class B']\n",
        "group3 = English[df['Class_Section'] == 'Class C']\n",
        "\n",
        "# Ukuran sampel per kelompok\n",
        "n1, n2, n3 = len(group1), len(group2), len(group3)\n",
        "k = 3  # Jumlah kelompok\n",
        "N = n1 + n2 + n3  # Total jumlah sampel\n",
        "\n",
        "# Rata-rata per kelompok dan keseluruhan\n",
        "mean1, mean2, mean3 = np.mean(group1), np.mean(group2), np.mean(group3)\n",
        "grand_mean = np.mean([mean1, mean2, mean3])  # Calculate grand mean correctly\n",
        "\n",
        "# SSB (Sum of Squares Between)\n",
        "SSB = n1 * (mean1 - grand_mean)**2 + n2 * (mean2 - grand_mean)**2 + n3 * (mean3 - grand_mean)**2\n",
        "\n",
        "# SSW (Sum of Squares Within)\n",
        "SSW = (\n",
        "    np.sum((group1 - mean1)**2) +\n",
        "    np.sum((group2 - mean2)**2) +\n",
        "    np.sum((group3 - mean3)**2)\n",
        ")\n",
        "\n",
        "# SST (Sum of Squares Total)\n",
        "SST = SSB + SSW\n",
        "\n",
        "# Derajat kebebasan\n",
        "df_between = k - 1\n",
        "df_within = N - k\n",
        "df_total = N - 1\n",
        "\n",
        "# MSB dan MSW\n",
        "MSB = SSB / df_between\n",
        "MSW = SSW / df_within\n",
        "\n",
        "# F-statistik dan p-value\n",
        "F = MSB / MSW\n",
        "p_value = 1 - st.f.cdf(F, df_between, df_within)\n",
        "\n",
        "# Nilai kritis F\n",
        "alpha = 0.05  # alpha 5%\n",
        "F_critical = st.f.ppf(1 - alpha, df_between, df_within)\n",
        "\n",
        "# Keputusan berdasarkan p-value dan nilai kritis\n",
        "if F > F_critical:\n",
        "    decision = \"Tolak H0: Terdapat perbedaan signifikan antara rata-rata kelompok.\"\n",
        "else:\n",
        "    decision = \"Gagal tolak H0: Tidak ada bukti cukup untuk menyatakan perbedaan signifikan.\"\n",
        "\n",
        "# Output\n",
        "print(\"ANOVA Summary:\")\n",
        "print(f\"a. SS Between (Perlakuan): {SSB:.6f}\")\n",
        "print(f\"b. SS Within (Galat): {SSW:.4f}\")\n",
        "print(f\"c. SS Total: {SST:.4f}\")\n",
        "print(f\"d. df Between: {df_between}\")\n",
        "print(f\"e. df Within: {df_within}\")\n",
        "print(f\"f. df Total: {df_total}\")\n",
        "print(f\"g. MS Between: {MSB:.4f}\")\n",
        "print(f\"h. MS Within: {MSW:.4f}\")\n",
        "print(f\"i. F-statistik: {F:.4f}\")\n",
        "print(f\"j. p-value: {p_value:.2f}\")\n",
        "print(f\"k. F-crit (Area Kritis): f > {F_critical:.4f}\")\n",
        "print(\"l. Keputusan:\", decision)\n",
        "\n",
        "anova_table = {\n",
        "    \"Source of Variation\": [\"Between Groups\", \"Within Groups\", \"Total\"],\n",
        "    \"Sum of Squares (SS)\": [SSB, SSW, SST],\n",
        "    \"Degrees of Freedom (df)\": [df_between, df_within, df_total],\n",
        "    \"Mean Squares (MS)\": [MSB, MSW, None],\n",
        "    \"F-Statistic\": [F, None, None],\n",
        "    \"P-Value\": [p_value, None, None],\n",
        "}\n",
        "\n",
        "import pandas as pd\n",
        "anova_df = pd.DataFrame(anova_table)\n",
        "\n",
        "# Display the ANOVA table\n",
        "anova_df"
      ],
      "metadata": {
        "colab": {
          "base_uri": "https://localhost:8080/",
          "height": 389
        },
        "id": "beCaqFKD2nUk",
        "outputId": "5304bf70-1944-43df-d776-9aad79551d41"
      },
      "execution_count": null,
      "outputs": [
        {
          "output_type": "stream",
          "name": "stdout",
          "text": [
            "ANOVA Summary:\n",
            "a. SS Between (Perlakuan): 425.200000\n",
            "b. SS Within (Galat): 602.4000\n",
            "c. SS Total: 1027.6000\n",
            "d. df Between: 2\n",
            "e. df Within: 12\n",
            "f. df Total: 14\n",
            "g. MS Between: 212.6000\n",
            "h. MS Within: 50.2000\n",
            "i. F-statistik: 4.2351\n",
            "j. p-value: 0.04\n",
            "k. F-crit (Area Kritis): f > 3.8853\n",
            "l. Keputusan: Tolak H0: Terdapat perbedaan signifikan antara rata-rata kelompok.\n"
          ]
        },
        {
          "output_type": "execute_result",
          "data": {
            "text/plain": [
              "  Source of Variation  Sum of Squares (SS)  Degrees of Freedom (df)  \\\n",
              "0      Between Groups                425.2                        2   \n",
              "1       Within Groups                602.4                       12   \n",
              "2               Total               1027.6                       14   \n",
              "\n",
              "   Mean Squares (MS)  F-Statistic   P-Value  \n",
              "0              212.6      4.23506  0.040585  \n",
              "1               50.2          NaN       NaN  \n",
              "2                NaN          NaN       NaN  "
            ],
            "text/html": [
              "\n",
              "  <div id=\"df-e39a54bb-a3b3-46c3-b0da-a0f39aa66b48\" class=\"colab-df-container\">\n",
              "    <div>\n",
              "<style scoped>\n",
              "    .dataframe tbody tr th:only-of-type {\n",
              "        vertical-align: middle;\n",
              "    }\n",
              "\n",
              "    .dataframe tbody tr th {\n",
              "        vertical-align: top;\n",
              "    }\n",
              "\n",
              "    .dataframe thead th {\n",
              "        text-align: right;\n",
              "    }\n",
              "</style>\n",
              "<table border=\"1\" class=\"dataframe\">\n",
              "  <thead>\n",
              "    <tr style=\"text-align: right;\">\n",
              "      <th></th>\n",
              "      <th>Source of Variation</th>\n",
              "      <th>Sum of Squares (SS)</th>\n",
              "      <th>Degrees of Freedom (df)</th>\n",
              "      <th>Mean Squares (MS)</th>\n",
              "      <th>F-Statistic</th>\n",
              "      <th>P-Value</th>\n",
              "    </tr>\n",
              "  </thead>\n",
              "  <tbody>\n",
              "    <tr>\n",
              "      <th>0</th>\n",
              "      <td>Between Groups</td>\n",
              "      <td>425.2</td>\n",
              "      <td>2</td>\n",
              "      <td>212.6</td>\n",
              "      <td>4.23506</td>\n",
              "      <td>0.040585</td>\n",
              "    </tr>\n",
              "    <tr>\n",
              "      <th>1</th>\n",
              "      <td>Within Groups</td>\n",
              "      <td>602.4</td>\n",
              "      <td>12</td>\n",
              "      <td>50.2</td>\n",
              "      <td>NaN</td>\n",
              "      <td>NaN</td>\n",
              "    </tr>\n",
              "    <tr>\n",
              "      <th>2</th>\n",
              "      <td>Total</td>\n",
              "      <td>1027.6</td>\n",
              "      <td>14</td>\n",
              "      <td>NaN</td>\n",
              "      <td>NaN</td>\n",
              "      <td>NaN</td>\n",
              "    </tr>\n",
              "  </tbody>\n",
              "</table>\n",
              "</div>\n",
              "    <div class=\"colab-df-buttons\">\n",
              "\n",
              "  <div class=\"colab-df-container\">\n",
              "    <button class=\"colab-df-convert\" onclick=\"convertToInteractive('df-e39a54bb-a3b3-46c3-b0da-a0f39aa66b48')\"\n",
              "            title=\"Convert this dataframe to an interactive table.\"\n",
              "            style=\"display:none;\">\n",
              "\n",
              "  <svg xmlns=\"http://www.w3.org/2000/svg\" height=\"24px\" viewBox=\"0 -960 960 960\">\n",
              "    <path d=\"M120-120v-720h720v720H120Zm60-500h600v-160H180v160Zm220 220h160v-160H400v160Zm0 220h160v-160H400v160ZM180-400h160v-160H180v160Zm440 0h160v-160H620v160ZM180-180h160v-160H180v160Zm440 0h160v-160H620v160Z\"/>\n",
              "  </svg>\n",
              "    </button>\n",
              "\n",
              "  <style>\n",
              "    .colab-df-container {\n",
              "      display:flex;\n",
              "      gap: 12px;\n",
              "    }\n",
              "\n",
              "    .colab-df-convert {\n",
              "      background-color: #E8F0FE;\n",
              "      border: none;\n",
              "      border-radius: 50%;\n",
              "      cursor: pointer;\n",
              "      display: none;\n",
              "      fill: #1967D2;\n",
              "      height: 32px;\n",
              "      padding: 0 0 0 0;\n",
              "      width: 32px;\n",
              "    }\n",
              "\n",
              "    .colab-df-convert:hover {\n",
              "      background-color: #E2EBFA;\n",
              "      box-shadow: 0px 1px 2px rgba(60, 64, 67, 0.3), 0px 1px 3px 1px rgba(60, 64, 67, 0.15);\n",
              "      fill: #174EA6;\n",
              "    }\n",
              "\n",
              "    .colab-df-buttons div {\n",
              "      margin-bottom: 4px;\n",
              "    }\n",
              "\n",
              "    [theme=dark] .colab-df-convert {\n",
              "      background-color: #3B4455;\n",
              "      fill: #D2E3FC;\n",
              "    }\n",
              "\n",
              "    [theme=dark] .colab-df-convert:hover {\n",
              "      background-color: #434B5C;\n",
              "      box-shadow: 0px 1px 3px 1px rgba(0, 0, 0, 0.15);\n",
              "      filter: drop-shadow(0px 1px 2px rgba(0, 0, 0, 0.3));\n",
              "      fill: #FFFFFF;\n",
              "    }\n",
              "  </style>\n",
              "\n",
              "    <script>\n",
              "      const buttonEl =\n",
              "        document.querySelector('#df-e39a54bb-a3b3-46c3-b0da-a0f39aa66b48 button.colab-df-convert');\n",
              "      buttonEl.style.display =\n",
              "        google.colab.kernel.accessAllowed ? 'block' : 'none';\n",
              "\n",
              "      async function convertToInteractive(key) {\n",
              "        const element = document.querySelector('#df-e39a54bb-a3b3-46c3-b0da-a0f39aa66b48');\n",
              "        const dataTable =\n",
              "          await google.colab.kernel.invokeFunction('convertToInteractive',\n",
              "                                                    [key], {});\n",
              "        if (!dataTable) return;\n",
              "\n",
              "        const docLinkHtml = 'Like what you see? Visit the ' +\n",
              "          '<a target=\"_blank\" href=https://colab.research.google.com/notebooks/data_table.ipynb>data table notebook</a>'\n",
              "          + ' to learn more about interactive tables.';\n",
              "        element.innerHTML = '';\n",
              "        dataTable['output_type'] = 'display_data';\n",
              "        await google.colab.output.renderOutput(dataTable, element);\n",
              "        const docLink = document.createElement('div');\n",
              "        docLink.innerHTML = docLinkHtml;\n",
              "        element.appendChild(docLink);\n",
              "      }\n",
              "    </script>\n",
              "  </div>\n",
              "\n",
              "\n",
              "<div id=\"df-dde1ea17-3fe0-4246-a860-5c80c0e0fe07\">\n",
              "  <button class=\"colab-df-quickchart\" onclick=\"quickchart('df-dde1ea17-3fe0-4246-a860-5c80c0e0fe07')\"\n",
              "            title=\"Suggest charts\"\n",
              "            style=\"display:none;\">\n",
              "\n",
              "<svg xmlns=\"http://www.w3.org/2000/svg\" height=\"24px\"viewBox=\"0 0 24 24\"\n",
              "     width=\"24px\">\n",
              "    <g>\n",
              "        <path d=\"M19 3H5c-1.1 0-2 .9-2 2v14c0 1.1.9 2 2 2h14c1.1 0 2-.9 2-2V5c0-1.1-.9-2-2-2zM9 17H7v-7h2v7zm4 0h-2V7h2v10zm4 0h-2v-4h2v4z\"/>\n",
              "    </g>\n",
              "</svg>\n",
              "  </button>\n",
              "\n",
              "<style>\n",
              "  .colab-df-quickchart {\n",
              "      --bg-color: #E8F0FE;\n",
              "      --fill-color: #1967D2;\n",
              "      --hover-bg-color: #E2EBFA;\n",
              "      --hover-fill-color: #174EA6;\n",
              "      --disabled-fill-color: #AAA;\n",
              "      --disabled-bg-color: #DDD;\n",
              "  }\n",
              "\n",
              "  [theme=dark] .colab-df-quickchart {\n",
              "      --bg-color: #3B4455;\n",
              "      --fill-color: #D2E3FC;\n",
              "      --hover-bg-color: #434B5C;\n",
              "      --hover-fill-color: #FFFFFF;\n",
              "      --disabled-bg-color: #3B4455;\n",
              "      --disabled-fill-color: #666;\n",
              "  }\n",
              "\n",
              "  .colab-df-quickchart {\n",
              "    background-color: var(--bg-color);\n",
              "    border: none;\n",
              "    border-radius: 50%;\n",
              "    cursor: pointer;\n",
              "    display: none;\n",
              "    fill: var(--fill-color);\n",
              "    height: 32px;\n",
              "    padding: 0;\n",
              "    width: 32px;\n",
              "  }\n",
              "\n",
              "  .colab-df-quickchart:hover {\n",
              "    background-color: var(--hover-bg-color);\n",
              "    box-shadow: 0 1px 2px rgba(60, 64, 67, 0.3), 0 1px 3px 1px rgba(60, 64, 67, 0.15);\n",
              "    fill: var(--button-hover-fill-color);\n",
              "  }\n",
              "\n",
              "  .colab-df-quickchart-complete:disabled,\n",
              "  .colab-df-quickchart-complete:disabled:hover {\n",
              "    background-color: var(--disabled-bg-color);\n",
              "    fill: var(--disabled-fill-color);\n",
              "    box-shadow: none;\n",
              "  }\n",
              "\n",
              "  .colab-df-spinner {\n",
              "    border: 2px solid var(--fill-color);\n",
              "    border-color: transparent;\n",
              "    border-bottom-color: var(--fill-color);\n",
              "    animation:\n",
              "      spin 1s steps(1) infinite;\n",
              "  }\n",
              "\n",
              "  @keyframes spin {\n",
              "    0% {\n",
              "      border-color: transparent;\n",
              "      border-bottom-color: var(--fill-color);\n",
              "      border-left-color: var(--fill-color);\n",
              "    }\n",
              "    20% {\n",
              "      border-color: transparent;\n",
              "      border-left-color: var(--fill-color);\n",
              "      border-top-color: var(--fill-color);\n",
              "    }\n",
              "    30% {\n",
              "      border-color: transparent;\n",
              "      border-left-color: var(--fill-color);\n",
              "      border-top-color: var(--fill-color);\n",
              "      border-right-color: var(--fill-color);\n",
              "    }\n",
              "    40% {\n",
              "      border-color: transparent;\n",
              "      border-right-color: var(--fill-color);\n",
              "      border-top-color: var(--fill-color);\n",
              "    }\n",
              "    60% {\n",
              "      border-color: transparent;\n",
              "      border-right-color: var(--fill-color);\n",
              "    }\n",
              "    80% {\n",
              "      border-color: transparent;\n",
              "      border-right-color: var(--fill-color);\n",
              "      border-bottom-color: var(--fill-color);\n",
              "    }\n",
              "    90% {\n",
              "      border-color: transparent;\n",
              "      border-bottom-color: var(--fill-color);\n",
              "    }\n",
              "  }\n",
              "</style>\n",
              "\n",
              "  <script>\n",
              "    async function quickchart(key) {\n",
              "      const quickchartButtonEl =\n",
              "        document.querySelector('#' + key + ' button');\n",
              "      quickchartButtonEl.disabled = true;  // To prevent multiple clicks.\n",
              "      quickchartButtonEl.classList.add('colab-df-spinner');\n",
              "      try {\n",
              "        const charts = await google.colab.kernel.invokeFunction(\n",
              "            'suggestCharts', [key], {});\n",
              "      } catch (error) {\n",
              "        console.error('Error during call to suggestCharts:', error);\n",
              "      }\n",
              "      quickchartButtonEl.classList.remove('colab-df-spinner');\n",
              "      quickchartButtonEl.classList.add('colab-df-quickchart-complete');\n",
              "    }\n",
              "    (() => {\n",
              "      let quickchartButtonEl =\n",
              "        document.querySelector('#df-dde1ea17-3fe0-4246-a860-5c80c0e0fe07 button');\n",
              "      quickchartButtonEl.style.display =\n",
              "        google.colab.kernel.accessAllowed ? 'block' : 'none';\n",
              "    })();\n",
              "  </script>\n",
              "</div>\n",
              "\n",
              "  <div id=\"id_b382b73f-d8a3-4873-8b7d-83aab2369345\">\n",
              "    <style>\n",
              "      .colab-df-generate {\n",
              "        background-color: #E8F0FE;\n",
              "        border: none;\n",
              "        border-radius: 50%;\n",
              "        cursor: pointer;\n",
              "        display: none;\n",
              "        fill: #1967D2;\n",
              "        height: 32px;\n",
              "        padding: 0 0 0 0;\n",
              "        width: 32px;\n",
              "      }\n",
              "\n",
              "      .colab-df-generate:hover {\n",
              "        background-color: #E2EBFA;\n",
              "        box-shadow: 0px 1px 2px rgba(60, 64, 67, 0.3), 0px 1px 3px 1px rgba(60, 64, 67, 0.15);\n",
              "        fill: #174EA6;\n",
              "      }\n",
              "\n",
              "      [theme=dark] .colab-df-generate {\n",
              "        background-color: #3B4455;\n",
              "        fill: #D2E3FC;\n",
              "      }\n",
              "\n",
              "      [theme=dark] .colab-df-generate:hover {\n",
              "        background-color: #434B5C;\n",
              "        box-shadow: 0px 1px 3px 1px rgba(0, 0, 0, 0.15);\n",
              "        filter: drop-shadow(0px 1px 2px rgba(0, 0, 0, 0.3));\n",
              "        fill: #FFFFFF;\n",
              "      }\n",
              "    </style>\n",
              "    <button class=\"colab-df-generate\" onclick=\"generateWithVariable('anova_df')\"\n",
              "            title=\"Generate code using this dataframe.\"\n",
              "            style=\"display:none;\">\n",
              "\n",
              "  <svg xmlns=\"http://www.w3.org/2000/svg\" height=\"24px\"viewBox=\"0 0 24 24\"\n",
              "       width=\"24px\">\n",
              "    <path d=\"M7,19H8.4L18.45,9,17,7.55,7,17.6ZM5,21V16.75L18.45,3.32a2,2,0,0,1,2.83,0l1.4,1.43a1.91,1.91,0,0,1,.58,1.4,1.91,1.91,0,0,1-.58,1.4L9.25,21ZM18.45,9,17,7.55Zm-12,3A5.31,5.31,0,0,0,4.9,8.1,5.31,5.31,0,0,0,1,6.5,5.31,5.31,0,0,0,4.9,4.9,5.31,5.31,0,0,0,6.5,1,5.31,5.31,0,0,0,8.1,4.9,5.31,5.31,0,0,0,12,6.5,5.46,5.46,0,0,0,6.5,12Z\"/>\n",
              "  </svg>\n",
              "    </button>\n",
              "    <script>\n",
              "      (() => {\n",
              "      const buttonEl =\n",
              "        document.querySelector('#id_b382b73f-d8a3-4873-8b7d-83aab2369345 button.colab-df-generate');\n",
              "      buttonEl.style.display =\n",
              "        google.colab.kernel.accessAllowed ? 'block' : 'none';\n",
              "\n",
              "      buttonEl.onclick = () => {\n",
              "        google.colab.notebook.generateWithVariable('anova_df');\n",
              "      }\n",
              "      })();\n",
              "    </script>\n",
              "  </div>\n",
              "\n",
              "    </div>\n",
              "  </div>\n"
            ],
            "application/vnd.google.colaboratory.intrinsic+json": {
              "type": "dataframe",
              "variable_name": "anova_df",
              "summary": "{\n  \"name\": \"anova_df\",\n  \"rows\": 3,\n  \"fields\": [\n    {\n      \"column\": \"Source of Variation\",\n      \"properties\": {\n        \"dtype\": \"string\",\n        \"num_unique_values\": 3,\n        \"samples\": [\n          \"Between Groups\",\n          \"Within Groups\",\n          \"Total\"\n        ],\n        \"semantic_type\": \"\",\n        \"description\": \"\"\n      }\n    },\n    {\n      \"column\": \"Sum of Squares (SS)\",\n      \"properties\": {\n        \"dtype\": \"number\",\n        \"std\": 309.5913004807037,\n        \"min\": 425.2,\n        \"max\": 1027.6000000000001,\n        \"num_unique_values\": 3,\n        \"samples\": [\n          425.2,\n          602.4000000000001,\n          1027.6000000000001\n        ],\n        \"semantic_type\": \"\",\n        \"description\": \"\"\n      }\n    },\n    {\n      \"column\": \"Degrees of Freedom (df)\",\n      \"properties\": {\n        \"dtype\": \"number\",\n        \"std\": 6,\n        \"min\": 2,\n        \"max\": 14,\n        \"num_unique_values\": 3,\n        \"samples\": [\n          2,\n          12,\n          14\n        ],\n        \"semantic_type\": \"\",\n        \"description\": \"\"\n      }\n    },\n    {\n      \"column\": \"Mean Squares (MS)\",\n      \"properties\": {\n        \"dtype\": \"number\",\n        \"std\": 114.8341412646953,\n        \"min\": 50.20000000000001,\n        \"max\": 212.6,\n        \"num_unique_values\": 2,\n        \"samples\": [\n          50.20000000000001,\n          212.6\n        ],\n        \"semantic_type\": \"\",\n        \"description\": \"\"\n      }\n    },\n    {\n      \"column\": \"F-Statistic\",\n      \"properties\": {\n        \"dtype\": \"number\",\n        \"std\": null,\n        \"min\": 4.235059760956174,\n        \"max\": 4.235059760956174,\n        \"num_unique_values\": 1,\n        \"samples\": [\n          4.235059760956174\n        ],\n        \"semantic_type\": \"\",\n        \"description\": \"\"\n      }\n    },\n    {\n      \"column\": \"P-Value\",\n      \"properties\": {\n        \"dtype\": \"number\",\n        \"std\": null,\n        \"min\": 0.04058496778642928,\n        \"max\": 0.04058496778642928,\n        \"num_unique_values\": 1,\n        \"samples\": [\n          0.04058496778642928\n        ],\n        \"semantic_type\": \"\",\n        \"description\": \"\"\n      }\n    }\n  ]\n}"
            }
          },
          "metadata": {},
          "execution_count": 39
        }
      ]
    },
    {
      "cell_type": "markdown",
      "source": [
        "# **UAS 2022**"
      ],
      "metadata": {
        "id": "8dP4oFW8-RM6"
      }
    },
    {
      "cell_type": "markdown",
      "source": [
        "## **4. REGRESI, CI REGRESI, HT REGRESI**"
      ],
      "metadata": {
        "id": "qp9Wq3BR-VpL"
      }
    },
    {
      "cell_type": "code",
      "source": [
        "import numpy as np\n",
        "# No1. Daya Listrik Data Center (Contoh Soal)\n",
        "\n",
        "# Masukkan data yang ingin di regresi linear\n",
        "x = np.array([104, 103, 98, 103, 92, 108])  # Variabel independen\n",
        "y = np.array([113, 112, 101, 100, 88, 111])  # Variabel dependen\n",
        "\n",
        "# Jumlah data\n",
        "n = len(x)\n",
        "\n",
        "# Menghitung rata-rata\n",
        "x_mean = np.mean(x)\n",
        "y_mean = np.mean(y)\n",
        "\n",
        "# Menghitung Sxx, Syy, dan Sxy\n",
        "Sxx = np.sum((x - x_mean)**2)\n",
        "Syy = np.sum((y - y_mean)**2)\n",
        "Sxy = np.sum((x - x_mean) * (y - y_mean))\n",
        "\n",
        "# Menghitung kemiringan (B1) dan intersep (B0)\n",
        "B1 = Sxy / Sxx\n",
        "B0 = y_mean - B1 * x_mean\n",
        "\n",
        "# Fungsi prediksi\n",
        "def predict(x_values):\n",
        "    return B0 + B1 * x_values\n",
        "\n",
        "# Hasil regresi\n",
        "y_pred = predict(x)\n",
        "\n",
        "# Menghitung R-squared\n",
        "ss_total = Syy  # Total sum of squares\n",
        "sse = np.sum((y - y_pred)**2)  # Residual sum of squares\n",
        "r_squared = 1 - (sse / ss_total)\n",
        "s2 = (sse/(n-2)) # MSE atau s^2\n",
        "r = Sxy / np.sqrt(Sxx * Syy)\n",
        "# Evaluasi model\n",
        "\n",
        "\n",
        "# Menampilkan hasil\n",
        "print(\"Jawaban Hasil regresi:\")\n",
        "print(f\"a. Sxx: {Sxx}\")\n",
        "print(f\"b. Sxy: {Sxy}\")\n",
        "print(f\"c. Syy: {Syy}\")\n",
        "print(f\"d. Slope (B1): {B1:.4f}\")\n",
        "print(f\"e. Intercept (B0): {B0:.4f}\")\n",
        "# Menampilkan persamaan regresi\n",
        "print(f\"f. Persamaan regresi: y = {B0:.2f} + {B1:.2f}x\")\n",
        "print(f\"g. SSE: {sse:.4f}\")\n",
        "print(f\"h. MSE atau s^2: {s2:.4f}\")\n",
        "print(f\"i. R-squared: {r_squared:.4f}\")\n",
        "print(f\"j. Korelasi Linear Sampel (r) : {r:.4f}\")"
      ],
      "metadata": {
        "colab": {
          "base_uri": "https://localhost:8080/"
        },
        "id": "A9D4zhsR-aRx",
        "outputId": "a1539da1-46d5-46cd-950e-5c1a529a6db5"
      },
      "execution_count": null,
      "outputs": [
        {
          "output_type": "stream",
          "name": "stdout",
          "text": [
            "Jawaban Hasil regresi:\n",
            "a. Sxx: 155.33333333333334\n",
            "b. Sxy: 236.66666666666669\n",
            "c. Syy: 474.8333333333333\n",
            "d. Slope (B1): 1.5236\n",
            "e. Intercept (B0): -50.2253\n",
            "f. Persamaan regresi: y = -50.23 + 1.52x\n",
            "g. SSE: 114.2468\n",
            "h. MSE atau s^2: 28.5617\n",
            "i. R-squared: 0.7594\n",
            "j. Korelasi Linear Sampel (r) : 0.8714\n"
          ]
        }
      ]
    },
    {
      "cell_type": "markdown",
      "source": [
        "### **interpretasi (Baca sendiri mf)**\n",
        "a. Sxx: 155.33\n",
        "Makna:\n",
        "𝑆\n",
        "𝑥\n",
        "𝑥\n",
        "S\n",
        "xx\n",
        "​\n",
        "  adalah jumlah kuadrat deviasi dari variabel independen (x) terhadap rata-ratanya. Ini digunakan dalam perhitungan slope (kemiringan) regresi. Semakin besar nilai\n",
        "𝑆\n",
        "𝑥\n",
        "𝑥\n",
        "S\n",
        "xx\n",
        "​\n",
        " , semakin besar variabilitas dari nilai x dalam data Anda.\n",
        "\n",
        "b. Sxy: 236.67\n",
        "Makna:\n",
        "𝑆\n",
        "𝑥\n",
        "𝑦\n",
        "S\n",
        "xy\n",
        "​\n",
        "  adalah jumlah produk dari deviasi variabel independen (x) dan dependen (y) terhadap rata-ratanya. Ini mengukur seberapa banyak variabel y berubah sehubungan dengan variabel x. Semakin besar nilai\n",
        "𝑆\n",
        "𝑥\n",
        "𝑦\n",
        "S\n",
        "xy\n",
        "​\n",
        " , semakin kuat hubungan antara x dan y.\n",
        "\n",
        "c. Syy: 474.83\n",
        "Makna:\n",
        "𝑆\n",
        "𝑦\n",
        "𝑦\n",
        "S\n",
        "yy\n",
        "​\n",
        "  adalah jumlah kuadrat deviasi dari variabel dependen (y) terhadap rata-ratanya. Ini memberikan informasi tentang variabilitas y. Nilai ini penting untuk menghitung Mean Squared Error (MSE) dan R-squared.\n",
        "\n",
        "d. Slope (B1): 1.52\n",
        "Makna: Kemiringan atau slope (\n",
        "𝐵\n",
        "1\n",
        "B\n",
        "1\n",
        "​\n",
        " ) dari garis regresi adalah 1.52. Ini berarti bahwa untuk setiap peningkatan 1 unit pada x, nilai y diperkirakan meningkat sebesar 1.52 unit. Ini menunjukkan hubungan positif antara x dan y.\n",
        "\n",
        "e. Intercept (B0): -50.23\n",
        "Makna: Intercept atau titik potong pada sumbu y (\n",
        "𝐵\n",
        "0\n",
        "B\n",
        "0\n",
        "​\n",
        " ) adalah -50.23. Ini adalah nilai y saat x sama dengan 0. Dalam konteks model regresi, meskipun intercept bisa jadi tidak memiliki arti praktis (tergantung pada rentang nilai x), ia tetap penting untuk membentuk garis regresi.\n",
        "\n",
        "f. Persamaan regresi: y = -50.23 + 1.52x\n",
        "Makna: Ini adalah persamaan regresi yang menunjukkan hubungan antara variabel dependen (y) dan variabel independen (x). Berdasarkan persamaan ini, kita dapat memperkirakan nilai y untuk berbagai nilai x.\n",
        "\n",
        "g. SSE: 114.25\n",
        "Makna: Sum of Squared Errors (SSE) adalah total dari kuadrat perbedaan antara nilai yang diprediksi dan nilai aktual dari y. Nilai SSE yang lebih kecil menunjukkan bahwa model regresi lebih baik dalam memprediksi data.\n",
        "\n",
        "h. MSE atau s²: 28.56\n",
        "Makna: Mean Squared Error (MSE) adalah rata-rata dari SSE. Ini memberikan ukuran seberapa baik model regresi memperkirakan nilai y. Nilai yang lebih kecil dari MSE menunjukkan bahwa prediksi model lebih dekat dengan nilai aktual.\n",
        "\n",
        "i. R-squared: 0.76\n",
        "Makna: R-squared adalah ukuran seberapa banyak variasi dalam variabel dependen (y) dapat dijelaskan oleh variabel independen (x) dalam model regresi. Nilai R-squared antara 0 dan 1. Dalam hal ini, nilai 0.76 menunjukkan bahwa 76% variasi dalam y dapat dijelaskan oleh x, yang menunjukkan bahwa model cukup baik.\n",
        "\n",
        "j. Korelasi Linear Sampel (r): 0.87\n",
        "Makna: Nilai korelasi linear\n",
        "𝑟\n",
        "r adalah 0.87, yang menunjukkan adanya hubungan positif yang kuat antara x dan y. Nilai mendekati 1 menunjukkan hubungan yang kuat, sedangkan nilai mendekati -1 menunjukkan hubungan negatif. Dalam hal ini, 0.87 mengindikasikan bahwa ketika x meningkat, y juga cenderung meningkat secara signifikan."
      ],
      "metadata": {
        "id": "7-KQKWy__4MZ"
      }
    },
    {
      "cell_type": "markdown",
      "source": [
        "### **CI REGRESI (GRADIEN/Slope)**"
      ],
      "metadata": {
        "id": "DY--R1S4GCsS"
      }
    },
    {
      "cell_type": "code",
      "source": [
        "import numpy as np\n",
        "import scipy.stats as st\n",
        "\n",
        "# Hitung Standard Error dari Slope\n",
        "SE_B1 = np.sqrt(s2 / Sxx)\n",
        "\n",
        "# Tentukan jumlah data (n) dan derajat kebebasan\n",
        "df = n - 2  # Derajat kebebasan\n",
        "\n",
        "# Tentukan nilai kritis t untuk 5% dan 1% tingkat signifikansi\n",
        "alpha_05 = 0.05\n",
        "alpha_01 = 0.01\n",
        "\n",
        "t_critical_05 = st.t.ppf(1 - alpha_05 / 2, df)  # Dua sisi untuk 5%\n",
        "t_critical_01 = st.t.ppf(1 - alpha_01 / 2, df)  # Dua sisi untuk 1%\n",
        "\n",
        "# Hitung Interval Kepercayaan untuk Slope\n",
        "CI_B1_05 = (B1 - t_critical_05 * SE_B1, B1 + t_critical_05 * SE_B1)\n",
        "CI_B1_01 = (B1 - t_critical_01 * SE_B1, B1 + t_critical_01 * SE_B1)\n",
        "\n",
        "# Output hasil\n",
        "print(f\"Interval Kepercayaan 95% untuk slope: {CI_B1_05[0]:.4f} hingga {CI_B1_05[1]:.4f}\")\n",
        "print(f\"Interval Kepercayaan 99% untuk slope: {CI_B1_01[0]:.4f} hingga {CI_B1_01[1]:.4f}\")\n"
      ],
      "metadata": {
        "colab": {
          "base_uri": "https://localhost:8080/"
        },
        "id": "2SGhyMkcAjRB",
        "outputId": "65ca2125-4bb6-4d83-e6df-83ee8c4276fe"
      },
      "execution_count": null,
      "outputs": [
        {
          "output_type": "stream",
          "name": "stdout",
          "text": [
            "Interval Kepercayaan 95% untuk slope: 0.3331 hingga 2.7142\n",
            "Interval Kepercayaan 99% untuk slope: -0.4507 hingga 3.4979\n"
          ]
        }
      ]
    },
    {
      "cell_type": "markdown",
      "source": [
        "### **CI HYPOTHESIS TEST**"
      ],
      "metadata": {
        "id": "zMCUdmD2IHBj"
      }
    },
    {
      "cell_type": "code",
      "source": [
        "import numpy as np\n",
        "import scipy.stats as st\n",
        "\n",
        "# Data\n",
        "# Masukkan data yang ingin di regresi linear\n",
        "x = np.array([104, 103, 98, 103, 92, 108])  # Variabel independen\n",
        "y = np.array([113, 112, 101, 100, 88, 111])  # Variabel dependen\n",
        "n = len(x)\n",
        "\n",
        "# Statistik dasar\n",
        "x_mean = np.mean(x)\n",
        "y_mean = np.mean(y)\n",
        "\n",
        "# Hitung Sxx dan Sxy\n",
        "Sxx = np.sum((x - x_mean)**2)\n",
        "Sxy = np.sum((x - x_mean) * (y - y_mean))\n",
        "\n",
        "# Koefisien regresi\n",
        "B1 = Sxy / Sxx  # Gradien (slope)\n",
        "B0 = y_mean - B1 * x_mean  # Intercept\n",
        "\n",
        "# Standard Error (SE) untuk gradien\n",
        "y_pred = B0 + B1 * x\n",
        "residuals = y - y_pred\n",
        "SE_B1 = np.sqrt(np.sum(residuals**2) / (n - 2)) / np.sqrt(Sxx)\n",
        "\n",
        "# t-statistik\n",
        "t_stat = B1 / SE_B1\n",
        "\n",
        "# Nilai kritis dan p-value\n",
        "alpha_5 = 0.05\n",
        "alpha_1 = 0.01\n",
        "df = n - 2  # Degree of freedom\n",
        "t_crit_5 = st.t.ppf(1 - alpha_5 / 2, df)  # Nilai kritis untuk 5%\n",
        "t_crit_1 = st.t.ppf(1 - alpha_1 / 2, df)  # Nilai kritis untuk 1%\n",
        "p_value = 2 * (1 - st.t.cdf(abs(t_stat), df))  # p-value\n",
        "\n",
        "# Hasil\n",
        "print(\"HIPOTESIS 0 MENYATAKAN = 0. H1 MENYATAKAN != 0, SEHINGGA KITA MEMAKAI TESTING 2 ARAH.\")\n",
        "print(f\"Gradien (B1): {B1:.4f}\")\n",
        "print(f\"Standard Error (SE_B1): {SE_B1:.4f}\")\n",
        "print(f\"t-statistik: {t_stat:.4f}\")\n",
        "print(f\"Nilai kritis (5%): ±{t_crit_5:.4f}\")\n",
        "print(f\"Nilai kritis (1%): ±{t_crit_1:.4f}\")\n",
        "print(f\"p-value: {p_value:.4f}\")\n",
        "\n",
        "# Uji dua arah\n",
        "print(\"=== Uji Dua Arah ===\")\n",
        "print(f\"Nilai kritis (5%): t < {-t_crit_5:.4f} atau t > {t_crit_5:.4f}\")\n",
        "print(f\"Nilai kritis (1%): t < {-t_crit_1:.4f} atau t > {t_crit_1:.4f}\")\n",
        "if abs(t_stat) > t_crit_5:\n",
        "    print(f\"Hasil signifikan pada tingkat signifikansi 5% (tolak H0). t = {t_stat:.4f}\")\n",
        "else:\n",
        "    print(f\"Hasil tidak signifikan pada tingkat signifikansi 5% (gagal tolak H0). t = {t_stat:.4f}\")\n",
        "\n",
        "if abs(t_stat) > t_crit_1:\n",
        "    print(f\"Hasil signifikan pada tingkat signifikansi 1% (tolak H0). t = {t_stat:.4f}\")\n",
        "else:\n",
        "    print(f\"Hasil tidak signifikan pada tingkat signifikansi 1% (gagal tolak H0). t = {t_stat:.4f}\")\n",
        "\n",
        "# Uji satu arah (positif)\n",
        "t_crit_one_tail_5 = st.t.ppf(1 - alpha_5, df)  # Nilai kritis untuk 5% satu arah\n",
        "t_crit_one_tail_1 = st.t.ppf(1 - alpha_1, df)  # Nilai kritis untuk 1% satu arah\n",
        "\n",
        "print(\"\\n=== Uji Satu Arah (positif) ===\")\n",
        "print(f\"Nilai kritis (5%): t > {t_crit_one_tail_5:.4f}\")\n",
        "print(f\"Nilai kritis (1%): t > {t_crit_one_tail_1:.4f}\")\n",
        "if t_stat > t_crit_one_tail_5:\n",
        "    print(f\"Hasil signifikan pada tingkat signifikansi 5% (tolak H0). t = {t_stat:.4f}\")\n",
        "else:\n",
        "    print(f\"Hasil tidak signifikan pada tingkat signifikansi 5% (gagal tolak H0). t = {t_stat:.4f}\")\n",
        "\n",
        "if t_stat > t_crit_one_tail_1:\n",
        "    print(f\"Hasil signifikan pada tingkat signifikansi 1% (tolak H0). t = {t_stat:.4f}\")\n",
        "else:\n",
        "    print(f\"Hasil tidak signifikan pada tingkat signifikansi 1% (gagal tolak H0). t = {t_stat:.4f}\")\n"
      ],
      "metadata": {
        "colab": {
          "base_uri": "https://localhost:8080/"
        },
        "id": "FALtZY6fGsrr",
        "outputId": "0fd7ac90-49d9-4166-931e-6d79482d9c43"
      },
      "execution_count": null,
      "outputs": [
        {
          "output_type": "stream",
          "name": "stdout",
          "text": [
            "HIPOTESIS 0 MENYATAKAN = 0. H1 MENYATAKAN != 0, SEHINGGA KITA MEMAKAI TESTING 2 ARAH.\n",
            "Gradien (B1): 1.5236\n",
            "Standard Error (SE_B1): 0.4288\n",
            "t-statistik: 3.5531\n",
            "Nilai kritis (5%): ±2.7764\n",
            "Nilai kritis (1%): ±4.6041\n",
            "p-value: 0.0237\n",
            "=== Uji Dua Arah ===\n",
            "Nilai kritis (5%): t < -2.7764 atau t > 2.7764\n",
            "Nilai kritis (1%): t < -4.6041 atau t > 4.6041\n",
            "Hasil signifikan pada tingkat signifikansi 5% (tolak H0). t = 3.5531\n",
            "Hasil tidak signifikan pada tingkat signifikansi 1% (gagal tolak H0). t = 3.5531\n",
            "\n",
            "=== Uji Satu Arah (positif) ===\n",
            "Nilai kritis (5%): t > 2.1318\n",
            "Nilai kritis (1%): t > 3.7469\n",
            "Hasil signifikan pada tingkat signifikansi 5% (tolak H0). t = 3.5531\n",
            "Hasil tidak signifikan pada tingkat signifikansi 1% (gagal tolak H0). t = 3.5531\n"
          ]
        }
      ]
    },
    {
      "cell_type": "markdown",
      "source": [
        "# **UAS 2023**"
      ],
      "metadata": {
        "id": "wPcBPFs3Ouqb"
      }
    },
    {
      "cell_type": "code",
      "source": [
        "# LIBRARY\n",
        "# PS. Ini library yang dipakai untuk keperluan tools\n",
        "import pandas as pd\n",
        "import numpy as np\n",
        "from tabulate import tabulate\n",
        "from math import sqrt\n",
        "import matplotlib.pyplot as plt\n",
        "import seaborn as sns\n",
        "from statsmodels.graphics.mosaicplot import mosaic\n",
        "from wordcloud import WordCloud\n",
        "import plotly.express as px\n",
        "import scipy.stats as st\n",
        "from scipy.stats import chi2"
      ],
      "metadata": {
        "id": "Fal9uvSDO5uX"
      },
      "execution_count": null,
      "outputs": []
    },
    {
      "cell_type": "code",
      "source": [
        "# Memasukkan Data dan pembacaan untuk file di google colab\n",
        "from google.colab import files # LINE INI DIHAPUS JIKA PAKAI JUPITER\n",
        "upload_file = files.upload() # LINE INI DIHAPUS JIKA PAKAI JUPITER\n",
        "file_path = \"DATASET.xlsx\"\n",
        "df = pd.read_excel(file_path) # data frame (pembacaan terhadap file)\n",
        "data = pd.read_excel(file_path, header=None)\n",
        "print(tabulate(df.head(), headers='keys', tablefmt='fancy_grid'))"
      ],
      "metadata": {
        "colab": {
          "base_uri": "https://localhost:8080/",
          "height": 318
        },
        "id": "RdI2y0ihO8og",
        "outputId": "06660d17-28eb-4ae8-e581-52f8450bb198"
      },
      "execution_count": null,
      "outputs": [
        {
          "output_type": "display_data",
          "data": {
            "text/plain": [
              "<IPython.core.display.HTML object>"
            ],
            "text/html": [
              "\n",
              "     <input type=\"file\" id=\"files-32d3b739-9d8c-4b83-9933-af04ada00100\" name=\"files[]\" multiple disabled\n",
              "        style=\"border:none\" />\n",
              "     <output id=\"result-32d3b739-9d8c-4b83-9933-af04ada00100\">\n",
              "      Upload widget is only available when the cell has been executed in the\n",
              "      current browser session. Please rerun this cell to enable.\n",
              "      </output>\n",
              "      <script>// Copyright 2017 Google LLC\n",
              "//\n",
              "// Licensed under the Apache License, Version 2.0 (the \"License\");\n",
              "// you may not use this file except in compliance with the License.\n",
              "// You may obtain a copy of the License at\n",
              "//\n",
              "//      http://www.apache.org/licenses/LICENSE-2.0\n",
              "//\n",
              "// Unless required by applicable law or agreed to in writing, software\n",
              "// distributed under the License is distributed on an \"AS IS\" BASIS,\n",
              "// WITHOUT WARRANTIES OR CONDITIONS OF ANY KIND, either express or implied.\n",
              "// See the License for the specific language governing permissions and\n",
              "// limitations under the License.\n",
              "\n",
              "/**\n",
              " * @fileoverview Helpers for google.colab Python module.\n",
              " */\n",
              "(function(scope) {\n",
              "function span(text, styleAttributes = {}) {\n",
              "  const element = document.createElement('span');\n",
              "  element.textContent = text;\n",
              "  for (const key of Object.keys(styleAttributes)) {\n",
              "    element.style[key] = styleAttributes[key];\n",
              "  }\n",
              "  return element;\n",
              "}\n",
              "\n",
              "// Max number of bytes which will be uploaded at a time.\n",
              "const MAX_PAYLOAD_SIZE = 100 * 1024;\n",
              "\n",
              "function _uploadFiles(inputId, outputId) {\n",
              "  const steps = uploadFilesStep(inputId, outputId);\n",
              "  const outputElement = document.getElementById(outputId);\n",
              "  // Cache steps on the outputElement to make it available for the next call\n",
              "  // to uploadFilesContinue from Python.\n",
              "  outputElement.steps = steps;\n",
              "\n",
              "  return _uploadFilesContinue(outputId);\n",
              "}\n",
              "\n",
              "// This is roughly an async generator (not supported in the browser yet),\n",
              "// where there are multiple asynchronous steps and the Python side is going\n",
              "// to poll for completion of each step.\n",
              "// This uses a Promise to block the python side on completion of each step,\n",
              "// then passes the result of the previous step as the input to the next step.\n",
              "function _uploadFilesContinue(outputId) {\n",
              "  const outputElement = document.getElementById(outputId);\n",
              "  const steps = outputElement.steps;\n",
              "\n",
              "  const next = steps.next(outputElement.lastPromiseValue);\n",
              "  return Promise.resolve(next.value.promise).then((value) => {\n",
              "    // Cache the last promise value to make it available to the next\n",
              "    // step of the generator.\n",
              "    outputElement.lastPromiseValue = value;\n",
              "    return next.value.response;\n",
              "  });\n",
              "}\n",
              "\n",
              "/**\n",
              " * Generator function which is called between each async step of the upload\n",
              " * process.\n",
              " * @param {string} inputId Element ID of the input file picker element.\n",
              " * @param {string} outputId Element ID of the output display.\n",
              " * @return {!Iterable<!Object>} Iterable of next steps.\n",
              " */\n",
              "function* uploadFilesStep(inputId, outputId) {\n",
              "  const inputElement = document.getElementById(inputId);\n",
              "  inputElement.disabled = false;\n",
              "\n",
              "  const outputElement = document.getElementById(outputId);\n",
              "  outputElement.innerHTML = '';\n",
              "\n",
              "  const pickedPromise = new Promise((resolve) => {\n",
              "    inputElement.addEventListener('change', (e) => {\n",
              "      resolve(e.target.files);\n",
              "    });\n",
              "  });\n",
              "\n",
              "  const cancel = document.createElement('button');\n",
              "  inputElement.parentElement.appendChild(cancel);\n",
              "  cancel.textContent = 'Cancel upload';\n",
              "  const cancelPromise = new Promise((resolve) => {\n",
              "    cancel.onclick = () => {\n",
              "      resolve(null);\n",
              "    };\n",
              "  });\n",
              "\n",
              "  // Wait for the user to pick the files.\n",
              "  const files = yield {\n",
              "    promise: Promise.race([pickedPromise, cancelPromise]),\n",
              "    response: {\n",
              "      action: 'starting',\n",
              "    }\n",
              "  };\n",
              "\n",
              "  cancel.remove();\n",
              "\n",
              "  // Disable the input element since further picks are not allowed.\n",
              "  inputElement.disabled = true;\n",
              "\n",
              "  if (!files) {\n",
              "    return {\n",
              "      response: {\n",
              "        action: 'complete',\n",
              "      }\n",
              "    };\n",
              "  }\n",
              "\n",
              "  for (const file of files) {\n",
              "    const li = document.createElement('li');\n",
              "    li.append(span(file.name, {fontWeight: 'bold'}));\n",
              "    li.append(span(\n",
              "        `(${file.type || 'n/a'}) - ${file.size} bytes, ` +\n",
              "        `last modified: ${\n",
              "            file.lastModifiedDate ? file.lastModifiedDate.toLocaleDateString() :\n",
              "                                    'n/a'} - `));\n",
              "    const percent = span('0% done');\n",
              "    li.appendChild(percent);\n",
              "\n",
              "    outputElement.appendChild(li);\n",
              "\n",
              "    const fileDataPromise = new Promise((resolve) => {\n",
              "      const reader = new FileReader();\n",
              "      reader.onload = (e) => {\n",
              "        resolve(e.target.result);\n",
              "      };\n",
              "      reader.readAsArrayBuffer(file);\n",
              "    });\n",
              "    // Wait for the data to be ready.\n",
              "    let fileData = yield {\n",
              "      promise: fileDataPromise,\n",
              "      response: {\n",
              "        action: 'continue',\n",
              "      }\n",
              "    };\n",
              "\n",
              "    // Use a chunked sending to avoid message size limits. See b/62115660.\n",
              "    let position = 0;\n",
              "    do {\n",
              "      const length = Math.min(fileData.byteLength - position, MAX_PAYLOAD_SIZE);\n",
              "      const chunk = new Uint8Array(fileData, position, length);\n",
              "      position += length;\n",
              "\n",
              "      const base64 = btoa(String.fromCharCode.apply(null, chunk));\n",
              "      yield {\n",
              "        response: {\n",
              "          action: 'append',\n",
              "          file: file.name,\n",
              "          data: base64,\n",
              "        },\n",
              "      };\n",
              "\n",
              "      let percentDone = fileData.byteLength === 0 ?\n",
              "          100 :\n",
              "          Math.round((position / fileData.byteLength) * 100);\n",
              "      percent.textContent = `${percentDone}% done`;\n",
              "\n",
              "    } while (position < fileData.byteLength);\n",
              "  }\n",
              "\n",
              "  // All done.\n",
              "  yield {\n",
              "    response: {\n",
              "      action: 'complete',\n",
              "    }\n",
              "  };\n",
              "}\n",
              "\n",
              "scope.google = scope.google || {};\n",
              "scope.google.colab = scope.google.colab || {};\n",
              "scope.google.colab._files = {\n",
              "  _uploadFiles,\n",
              "  _uploadFilesContinue,\n",
              "};\n",
              "})(self);\n",
              "</script> "
            ]
          },
          "metadata": {}
        },
        {
          "output_type": "stream",
          "name": "stdout",
          "text": [
            "Saving DATASET.xlsx to DATASET.xlsx\n",
            "╒════╤═══════════════╤═══════════╤═════════════════╤═════════════════╤═══════════╤═══════╤════════════════════════════╤═══════╤═══════════╕\n",
            "│    │   Pregnancies │   Glucose │   BloodPressure │   SkinThickness │   Insulin │   BMI │   DiabetesPedigreeFunction │   Age │   Outcome │\n",
            "╞════╪═══════════════╪═══════════╪═════════════════╪═════════════════╪═══════════╪═══════╪════════════════════════════╪═══════╪═══════════╡\n",
            "│  0 │             6 │       148 │              72 │              35 │         0 │  33.6 │                      0.627 │    50 │         1 │\n",
            "├────┼───────────────┼───────────┼─────────────────┼─────────────────┼───────────┼───────┼────────────────────────────┼───────┼───────────┤\n",
            "│  1 │             1 │        85 │              66 │              29 │         0 │  26.6 │                      0.351 │    31 │         0 │\n",
            "├────┼───────────────┼───────────┼─────────────────┼─────────────────┼───────────┼───────┼────────────────────────────┼───────┼───────────┤\n",
            "│  2 │             8 │       183 │              64 │               0 │         0 │  23.3 │                      0.672 │    32 │         1 │\n",
            "├────┼───────────────┼───────────┼─────────────────┼─────────────────┼───────────┼───────┼────────────────────────────┼───────┼───────────┤\n",
            "│  3 │             1 │        89 │              66 │              23 │        94 │  28.1 │                      0.167 │    21 │         0 │\n",
            "├────┼───────────────┼───────────┼─────────────────┼─────────────────┼───────────┼───────┼────────────────────────────┼───────┼───────────┤\n",
            "│  4 │             0 │       137 │              40 │              35 │       168 │  43.1 │                      2.288 │    33 │         1 │\n",
            "╘════╧═══════════════╧═══════════╧═════════════════╧═════════════════╧═══════════╧═══════╧════════════════════════════╧═══════╧═══════════╛\n"
          ]
        }
      ]
    },
    {
      "cell_type": "markdown",
      "source": [
        "## **SOAL 1**"
      ],
      "metadata": {
        "id": "iaba-MDkdRtv"
      }
    },
    {
      "cell_type": "markdown",
      "source": [
        "### **CI MEAN ONE SAMPLE SIGMA KNOWN**"
      ],
      "metadata": {
        "id": "-x3QeIXoQFO_"
      }
    },
    {
      "cell_type": "code",
      "source": [
        "x = df['BloodPressure']\n",
        "series = x[df['Outcome'] == 1]\n",
        "xbar = series.mean() # sample mean\n",
        "n = len(series) # sample size\n",
        "sigma = 10 # population std. deviation (known in this case)\n",
        "cl = 0.91 # confidence level\n",
        "a = 1 - cl # alpha --> P(error)\n",
        "# cari z alpha/2 --> nilai z dimana P(Z > z) = a/2\n",
        "z = st.norm.ppf(1 - a/2)\n",
        "lb = xbar - z * sigma / (n ** (1/2))\n",
        "ub = xbar + z * sigma / (n ** (1/2))\n",
        "\n",
        "print(f'91% confidence interval for mean is ({lb:.4f}, {ub:.4f})')"
      ],
      "metadata": {
        "colab": {
          "base_uri": "https://localhost:8080/"
        },
        "id": "1aJJmLkWQPu2",
        "outputId": "8b952d61-bdbd-4bd6-df1d-b5040407ef7a"
      },
      "execution_count": null,
      "outputs": [
        {
          "output_type": "stream",
          "name": "stdout",
          "text": [
            "91% confidence interval for mean is (69.7890, 71.8603)\n"
          ]
        }
      ]
    },
    {
      "cell_type": "code",
      "source": [
        "x = df['BloodPressure']\n",
        "series = x[df['Outcome'] == 0]\n",
        "xbar = series.mean() # sample mean\n",
        "n = len(series) # sample size\n",
        "sigma = 10 # population std. deviation (known in this case)\n",
        "cl = 0.91 # confidence level\n",
        "a = 1 - cl # alpha --> P(error)\n",
        "# cari z alpha/2 --> nilai z dimana P(Z > z) = a/2\n",
        "z = st.norm.ppf(1 - a/2)\n",
        "lb = xbar - z * sigma / (n ** (1/2))\n",
        "ub = xbar + z * sigma / (n ** (1/2))\n",
        "\n",
        "print(f'91% confidence interval for mean is ({lb:.4f}, {ub:.4f})')"
      ],
      "metadata": {
        "colab": {
          "base_uri": "https://localhost:8080/"
        },
        "id": "ZN7OC6NOVv86",
        "outputId": "37f0c428-9c79-4e39-e65a-6479768ac20a"
      },
      "execution_count": null,
      "outputs": [
        {
          "output_type": "stream",
          "name": "stdout",
          "text": [
            "91% confidence interval for mean is (67.4258, 68.9422)\n"
          ]
        }
      ]
    },
    {
      "cell_type": "markdown",
      "source": [
        "### **CI MEAN ONE SAMPLE SIGMA UNKNOWN**"
      ],
      "metadata": {
        "id": "N7YDIrAZT7Dx"
      }
    },
    {
      "cell_type": "code",
      "source": [
        "import numpy as np\n",
        "import scipy.stats as st\n",
        "\n",
        "x = df['BloodPressure']\n",
        "series = x[df['Outcome'] == 1]\n",
        "# Menghitung statistik dasar\n",
        "xbar = np.mean(series)  # Rata-rata sampel\n",
        "n = len(series)         # Ukuran sampel\n",
        "s = np.std(series, ddof=1)  # Simpangan baku (sample standard deviation)\n",
        "\n",
        "# Confidence level dan alpha\n",
        "cl = 0.91 #95% CI\n",
        "alpha = 1 - cl\n",
        "\n",
        "# Nilai t_alpha/2 dari distribusi t\n",
        "t = st.t.ppf(1 - alpha/2, df=n-1)  # Degree of freedom = n-1\n",
        "print(t)\n",
        "# Menghitung margin of error\n",
        "margin_of_error = t * s / np.sqrt(n)\n",
        "\n",
        "# Menghitung batas bawah dan atas confidence interval\n",
        "lb = xbar - margin_of_error\n",
        "ub = xbar + margin_of_error\n",
        "\n",
        "# Menampilkan hasil\n",
        "print(f'Rata-rata sampel: {xbar:.4f}')\n",
        "print(f'91% confidence interval untuk rata-rata adalah: {lb:.2f} < mean < {ub:.2f}')\n"
      ],
      "metadata": {
        "colab": {
          "base_uri": "https://localhost:8080/"
        },
        "id": "EIEb-D0WTrbW",
        "outputId": "6acaaa88-94dd-4588-94c7-1ab68bbd8202"
      },
      "execution_count": null,
      "outputs": [
        {
          "output_type": "stream",
          "name": "stdout",
          "text": [
            "1.7015705192482675\n",
            "Rata-rata sampel: 70.8246\n",
            "95% confidence interval untuk rata-rata adalah: 68.59 < mean < 73.06\n"
          ]
        }
      ]
    },
    {
      "cell_type": "code",
      "source": [
        "import numpy as np\n",
        "import scipy.stats as st\n",
        "\n",
        "x = df['BloodPressure']\n",
        "series = x[df['Outcome'] == 0]\n",
        "# Menghitung statistik dasar\n",
        "xbar = np.mean(series)  # Rata-rata sampel\n",
        "n = len(series)         # Ukuran sampel\n",
        "s = np.std(series, ddof=1)  # Simpangan baku (sample standard deviation)\n",
        "\n",
        "# Confidence level dan alpha\n",
        "cl = 0.91 #95% CI\n",
        "alpha = 1 - cl\n",
        "\n",
        "# Nilai t_alpha/2 dari distribusi t\n",
        "t = st.t.ppf(1 - alpha/2, df=n-1)  # Degree of freedom = n-1\n",
        "print(t)\n",
        "# Menghitung margin of error\n",
        "margin_of_error = t * s / np.sqrt(n)\n",
        "\n",
        "# Menghitung batas bawah dan atas confidence interval\n",
        "lb = xbar - margin_of_error\n",
        "ub = xbar + margin_of_error\n",
        "\n",
        "# Menampilkan hasil\n",
        "print(f'Rata-rata sampel: {xbar:.4f}')\n",
        "print(f'91% confidence interval untuk rata-rata adalah: {lb:.2f} < mean < {ub:.2f}')"
      ],
      "metadata": {
        "colab": {
          "base_uri": "https://localhost:8080/"
        },
        "id": "j_3gFKjQWFmk",
        "outputId": "e61248b9-971b-4c0f-9c19-12473b7535c5"
      },
      "execution_count": null,
      "outputs": [
        {
          "output_type": "stream",
          "name": "stdout",
          "text": [
            "1.698695007785788\n",
            "Rata-rata sampel: 68.1840\n",
            "91% confidence interval untuk rata-rata adalah: 66.81 < mean < 69.56\n"
          ]
        }
      ]
    },
    {
      "cell_type": "markdown",
      "source": [
        "### **CI VARIANCE**"
      ],
      "metadata": {
        "id": "UjC97jduVJHb"
      }
    },
    {
      "cell_type": "code",
      "source": [
        "import numpy as np\n",
        "import scipy.stats as st\n",
        "\n",
        "# Data sampel\n",
        "x = df['BloodPressure']\n",
        "series = x[df['Outcome'] == 1]\n",
        "\n",
        "# Statistik dasar\n",
        "n = len(series)                  # Ukuran sampel\n",
        "s = np.std(series, ddof=1)       # Standard deviation (ddof=1 untuk sample std. dev.)\n",
        "cl = 0.91                       # Confidence level 95%\n",
        "alpha = 1 - cl                   # Signifikansi\n",
        "\n",
        "# Hitung nilai chi-square kritis\n",
        "chi2_a = st.chi2.ppf(1 - alpha/2, df=n-1)  # Nilai chi-square untuk batas atas\n",
        "chi2_b = st.chi2.ppf(alpha/2, df=n-1)      # Nilai chi-square untuk batas bawah\n",
        "print(chi2_a)\n",
        "print(chi2_b)\n",
        "# Confidence interval untuk variance\n",
        "lb = (n - 1) * s**2 / chi2_a  # Batas bawah\n",
        "ub = (n - 1) * s**2 / chi2_b  # Batas atas\n",
        "\n",
        "# Output hasil\n",
        "print(f\"Variance sampel: {s**2:.4f}\")\n",
        "print(f\"91% confidence interval untuk variance adalah: {lb:.4f} < variance < {ub:.4f}\")\n"
      ],
      "metadata": {
        "colab": {
          "base_uri": "https://localhost:8080/"
        },
        "id": "EJS5GCYjVLSA",
        "outputId": "acc0116f-c5f1-4048-baac-dbe7e9899483"
      },
      "execution_count": null,
      "outputs": [
        {
          "output_type": "stream",
          "name": "stdout",
          "text": [
            "307.3934320888571\n",
            "229.10465995854645\n",
            "Variance sampel: 461.8980\n",
            "91% confidence interval untuk variance adalah: 401.2017 < variance < 538.2988\n"
          ]
        }
      ]
    },
    {
      "cell_type": "code",
      "source": [
        "import numpy as np\n",
        "import scipy.stats as st\n",
        "\n",
        "# Data sampel\n",
        "x = df['BloodPressure']\n",
        "series = x[df['Outcome'] == 0]\n",
        "\n",
        "# Statistik dasar\n",
        "n = len(series)                  # Ukuran sampel\n",
        "s = np.std(series, ddof=1)       # Standard deviation (ddof=1 untuk sample std. dev.)\n",
        "cl = 0.90                    # Confidence level 95%\n",
        "alpha = 1 - cl                   # Signifikansi\n",
        "\n",
        "# Hitung nilai chi-square kritis\n",
        "chi2_a = st.chi2.ppf(1 - alpha/2, df=n-1)  # Nilai chi-square untuk batas atas\n",
        "chi2_b = st.chi2.ppf(alpha/2, df=n-1)      # Nilai chi-square untuk batas bawah\n",
        "print(chi2_a)\n",
        "print(chi2_b)\n",
        "# Confidence interval untuk variance\n",
        "lb = (n - 1) * s**2 / chi2_a  # Batas bawah\n",
        "ub = (n - 1) * s**2 / chi2_b  # Batas atas\n",
        "\n",
        "# Output hasil\n",
        "print(f\"Variance sampel: {s**2:.4f}\")\n",
        "print(f\"91% confidence interval untuk variance adalah: {lb:.4f} < variance < {ub:.4f}\")\n"
      ],
      "metadata": {
        "colab": {
          "base_uri": "https://localhost:8080/"
        },
        "id": "TQlqFWNHWWH4",
        "outputId": "7f8d97eb-f922-4381-b0f8-6cd663b523a8"
      },
      "execution_count": null,
      "outputs": [
        {
          "output_type": "stream",
          "name": "stdout",
          "text": [
            "552.0747427318581\n",
            "448.19882158627\n",
            "Variance sampel: 326.2747\n",
            "91% confidence interval untuk variance adalah: 294.9077 < variance < 363.2564\n"
          ]
        }
      ]
    },
    {
      "cell_type": "markdown",
      "source": [
        "### **MEAN DIFF SIGMA KNOWN**"
      ],
      "metadata": {
        "id": "LaMYRvbIW8pE"
      }
    },
    {
      "cell_type": "code",
      "source": [
        "x = df['BloodPressure']\n",
        "series1 = x[df['Outcome'] == 1]\n",
        "xbar1 = series1.mean()\n",
        "n1 = len(series1)\n",
        "sigma1 = 10\n",
        "\n",
        "series0 = x[df['Outcome'] == 0]\n",
        "xbar2 = series0.mean()\n",
        "n2 = len(series0)\n",
        "sigma2 = 10\n",
        "\n",
        "cl = 0.90\n",
        "a = 1 - cl\n",
        "z = st.norm.ppf(1 - a/2)\n",
        "\n",
        "margin = z * (sigma1 ** 2 / n1 + sigma2 ** 2 / n2) ** (1/2)\n",
        "\n",
        "lb = xbar1 - xbar2 - margin\n",
        "ub = xbar1 - xbar2 + margin\n",
        "print(f'90% confidence interval for mean difference is ({lb:.4f}, {ub:.4f})')"
      ],
      "metadata": {
        "colab": {
          "base_uri": "https://localhost:8080/"
        },
        "id": "wfkQEygbXCKp",
        "outputId": "02a1acab-4747-4f9d-abd5-f9ab3e26d811"
      },
      "execution_count": null,
      "outputs": [
        {
          "output_type": "stream",
          "name": "stdout",
          "text": [
            "90% confidence interval for mean difference is (1.3954, 3.8859)\n"
          ]
        }
      ]
    },
    {
      "cell_type": "markdown",
      "source": [
        "### **MEAN DIFF SIGMA UNKNOWN**"
      ],
      "metadata": {
        "id": "2cXfN2BBbULv"
      }
    },
    {
      "cell_type": "code",
      "source": [
        "import numpy as np\n",
        "import scipy.stats as st\n",
        "\n",
        "\n",
        "x = df['BloodPressure']\n",
        "series1 = x[df['Outcome'] == 1]\n",
        "xbar1 = series1.mean()\n",
        "n1 = len(series1)\n",
        "\n",
        "series0 = x[df['Outcome'] == 0]\n",
        "xbar2 = series0.mean()\n",
        "n2 = len(series0)\n",
        "\n",
        "# Statistik dasar\n",
        "s1 = np.std(series1, ddof=1)  # Simpangan baku data1 (sample std. dev.)\n",
        "s2 = np.std(series0, ddof=1)  # Simpangan baku data2 (sample std. dev.)\n",
        "\n",
        "# Confidence level\n",
        "cl = 0.90\n",
        "alpha = 1 - cl\n",
        "\n",
        "# Hitung derajat kebebasan menggunakan Welch's formula\n",
        "term1 = s1 ** 2 / n1\n",
        "term2 = s2 ** 2 / n2\n",
        "v = (term1 + term2) ** 2 / ((term1 ** 2) / (n1 - 1) + (term2 ** 2) / (n2 - 1))\n",
        "\n",
        "# Hitung nilai t kritis\n",
        "t = st.t.ppf(1 - alpha / 2, df=v)\n",
        "\n",
        "# Hitung margin of error\n",
        "margin = t * np.sqrt(term1 + term2)\n",
        "\n",
        "# Confidence interval\n",
        "lb = (xbar1 - xbar2) - margin\n",
        "ub = (xbar1 - xbar2) + margin\n",
        "\n",
        "# Output hasil\n",
        "print(f\"95% confidence interval mean difference between data1 and data2: ({lb:.4f} < Mean data 1 - Mean data 2 < {ub:.4f})\")\n"
      ],
      "metadata": {
        "colab": {
          "base_uri": "https://localhost:8080/"
        },
        "id": "l-NZ0mOGbXQ5",
        "outputId": "7cb107bf-fe37-4f3f-f47c-0cfd7feb0d7c"
      },
      "execution_count": null,
      "outputs": [
        {
          "output_type": "stream",
          "name": "stdout",
          "text": [
            "95% confidence interval mean difference between data1 and data2: (0.1002 < Mean data 1 - Mean data 2 < 5.1811)\n"
          ]
        }
      ]
    },
    {
      "cell_type": "markdown",
      "source": [
        "### **CI VAR RATIO**"
      ],
      "metadata": {
        "id": "RbhD7_9LcHDW"
      }
    },
    {
      "cell_type": "code",
      "source": [
        "import numpy as np\n",
        "import scipy.stats as st\n",
        "\n",
        "# Data sampel\n",
        "x = df['BloodPressure']\n",
        "sample1 = x[df['Outcome'] == 1]\n",
        "sample2 = x[df['Outcome'] == 0]\n",
        "\n",
        "# Hitung varians dan derajat kebebasan\n",
        "var1 = np.var(sample1, ddof=1)  # Varians sampel 1\n",
        "df1 = len(sample1) - 1          # Degree of freedom untuk sampel 1\n",
        "\n",
        "var2 = np.var(sample2, ddof=1)  # Varians sampel 2\n",
        "df2 = len(sample2) - 1          # Degree of freedom untuk sampel 2\n",
        "\n",
        "# Hitung nilai F alpha/2 dan 1 - alpha/2\n",
        "cl = 0.90\n",
        "alpha = 1 - cl\n",
        "f_alpha_2 = st.f.ppf(1 - alpha / 2, df1, df2)  # F alpha/2\n",
        "f_1_minus_alpha_2 = st.f.ppf(alpha / 2, df1, df2)  # F 1-alpha/2\n",
        "print(f_alpha_2)\n",
        "print(f_1_minus_alpha_2)\n",
        "# Confidence interval untuk rasio varians\n",
        "lb = var1 / var2 / f_alpha_2\n",
        "ub = var1 / var2 / f_1_minus_alpha_2\n",
        "\n",
        "# Output hasil\n",
        "print(f\"95% confidence interval for the variance ratio (sample1 / sample2): ({lb} / {ub})\")\n"
      ],
      "metadata": {
        "colab": {
          "base_uri": "https://localhost:8080/"
        },
        "id": "O_sou9WzcJb3",
        "outputId": "100fefad-694a-4367-ae9b-b6012907c53c"
      },
      "execution_count": null,
      "outputs": [
        {
          "output_type": "stream",
          "name": "stdout",
          "text": [
            "1.1899386620508938\n",
            "0.8357903151302793\n",
            "95% confidence interval for the variance ratio (sample1 / sample2): (1.1897017109631882 / 1.6938124749178587)\n"
          ]
        }
      ]
    },
    {
      "cell_type": "markdown",
      "source": [
        "## **SOAL 2**"
      ],
      "metadata": {
        "id": "j0lCL9j7dfvG"
      }
    },
    {
      "cell_type": "markdown",
      "source": [
        "### **CI PROPORSI ONE SAMPLE**"
      ],
      "metadata": {
        "id": "jNlR8VQrofKU"
      }
    },
    {
      "cell_type": "code",
      "source": [
        "# -------------------------------------------------------\n",
        "# Confidence Interval Proporsi One Sample\n",
        "# -------------------------------------------------------\n",
        "\n",
        "n = 10804  # Ukuran sampel\n",
        "x1 = 5313 #Yang mau dicari proporsi 95% confidence intervalnya\n",
        "# FUNGSI (khusus mencari confidence interval dari satu sampel)\n",
        "def confidence_interval_one_sample(x, n):\n",
        "    p = x / n  # Proporsi sampel\n",
        "    cl = 0.98  # Confidence level\n",
        "    alpha = 1 - cl  # alpha --> P(error)\n",
        "    Z = st.norm.ppf(1 - alpha / 2)\n",
        "    # Margin of error\n",
        "    margin_error = Z * np.sqrt((p * (1 - p)) / n)\n",
        "    # Interval kepercayaan\n",
        "    batas_bawah = p - margin_error\n",
        "    batas_atas = p + margin_error\n",
        "    return batas_bawah, batas_atas\n",
        "# Panggil Fungsi\n",
        "batas_bawah, batas_atas = confidence_interval_one_sample(x1, n)\n",
        "# OUTPUT\n",
        "print(f\"98% confidence interval adalah : ({batas_bawah:.4f}, {batas_atas:.4f})\")\n",
        "lb_percent = batas_bawah*100\n",
        "ub_percent = batas_atas*100\n",
        "print(f'CI nya adalah: {lb_percent:.2f}% < p < {ub_percent:.2f}%')\n",
        "\n",
        "\n",
        "\n",
        "'''\n",
        "\n",
        "Gunakan data pada sheet \"space\".\n",
        "Gunakan. (titik) sebagai separator desimal pada saat input jawaban. Apabila menggunakan, (koma) akan berpotensi disalahkan oleh mesin korektor.\n",
        "Data tersebut merupakan data yang disintesis berdasarkan simulasi misi luar angkasa yang didesain untuk merepresentasikan pola data pada misi luar angkasa yang sebenarnya.\n",
        "Tentukan confidence interval (98)% untuk mean biaya misi luar angkasa (kolom \"Mission Cost (billion USD)\") pada misi dengan tipe \"Colonization\" (kolom \"Mission Type\" = \"Colonization\")!\n",
        "(a)...<μspace-colonization-mission-cost < (b)....\n",
        "(asumsikan variansi populasi untuk variabel tersebut = σ2 = 10 untuk soal a dan b)\n",
        "Tentukan confidence interval (98) % untuk mean biaya misi luar angkasa (kolom \"Mission Cost (billion USD)\") pada misi dengan tipe \"Colonization\" (kolom \"Mission Type\" = \"Colonization\")!\n",
        "(C)...<μspace-colonization-mission-cost <(d)....\n",
        "(asumsikan variansi populasi untuk variabel tersebut tidak diketahui untuk soal c dan d)\n",
        "Tentukan confidence interval (98) % untuk variansi biaya misi luar angkasa (kolom \"Mission Cost (billion USD)\") pada misi dengan tipe target \"Exoplanet\" (kolom \"Target Type\" = \"Exoplanet\")!\n",
        "(e)...<σ2 space-exoplanet-mission-cost < (f)....\n",
        "'''"
      ],
      "metadata": {
        "colab": {
          "base_uri": "https://localhost:8080/",
          "height": 250
        },
        "id": "HMGhPDLKoGjz",
        "outputId": "6cf08f26-30b5-4eab-eb01-80619a747469"
      },
      "execution_count": 10,
      "outputs": [
        {
          "output_type": "stream",
          "name": "stdout",
          "text": [
            "98% confidence interval adalah : (0.4806, 0.5030)\n",
            "CI nya adalah: 48.06% < p < 50.30%\n"
          ]
        },
        {
          "output_type": "execute_result",
          "data": {
            "text/plain": [
              "'\\n\\nGunakan data pada sheet \"space\".\\nGunakan. (titik) sebagai separator desimal pada saat input jawaban. Apabila menggunakan, (koma) akan berpotensi disalahkan oleh mesin korektor.\\nData tersebut merupakan data yang disintesis berdasarkan simulasi misi luar angkasa yang didesain untuk merepresentasikan pola data pada misi luar angkasa yang sebenarnya.\\nTentukan confidence interval (98)% untuk mean biaya misi luar angkasa (kolom \"Mission Cost (billion USD)\") pada misi dengan tipe \"Colonization\" (kolom \"Mission Type\" = \"Colonization\")!\\n(a)...<μspace-colonization-mission-cost < (b)....\\n(asumsikan variansi populasi untuk variabel tersebut = σ2 = 10 untuk soal a dan b)\\nTentukan confidence interval (98) % untuk mean biaya misi luar angkasa (kolom \"Mission Cost (billion USD)\") pada misi dengan tipe \"Colonization\" (kolom \"Mission Type\" = \"Colonization\")!\\n(C)...<μspace-colonization-mission-cost <(d)....\\n(asumsikan variansi populasi untuk variabel tersebut tidak diketahui untuk soal c dan d)\\nTentukan confidence interval (98) % untuk variansi biaya misi luar angkasa (kolom \"Mission Cost (billion USD)\") pada misi dengan tipe target \"Exoplanet\" (kolom \"Target Type\" = \"Exoplanet\")!\\n(e)...<σ2 space-exoplanet-mission-cost < (f)....\\n'"
            ],
            "application/vnd.google.colaboratory.intrinsic+json": {
              "type": "string"
            }
          },
          "metadata": {},
          "execution_count": 10
        }
      ]
    },
    {
      "cell_type": "code",
      "source": [
        "# import dataset b dan ditampilkan headernya\n",
        "\n",
        "import pandas as pd\n",
        "from scipy import stats as st\n",
        "from google.colab import files\n",
        "\n",
        "# Upload the file (remove if using Jupyter Notebook)\n",
        "upload_file = files.upload()\n",
        "file_path = \"Dataset-b.xlsx\"\n",
        "\n",
        "# Read the excel file\n",
        "df_space = pd.read_excel(file_path, sheet_name=\"space\")\n",
        "\n",
        "# Filter for Colonization missions\n",
        "colonization_missions = df_space[df_space[\"Mission Type\"] == \"Colonization\"]\n",
        "\n",
        "# Calculate the mean mission cost for colonization missions\n",
        "mean_cost = colonization_missions[\"Mission Cost (billion USD)\"].mean()\n",
        "n = len(colonization_missions)\n",
        "\n",
        "# (a) and (b) - Confidence Interval for Mean (sigma known)\n",
        "sigma = 10\n",
        "cl = 0.98\n",
        "alpha = 1 - cl\n",
        "z = st.norm.ppf(1 - alpha / 2)\n",
        "\n",
        "lb_a = mean_cost - z * sigma / (n ** (1/2))\n",
        "ub_b = mean_cost + z * sigma / (n ** (1/2))\n",
        "print(f\"({lb_a:.4f}) < μspace-colonization-mission-cost < ({ub_b:.4f}) (sigma known)\")\n",
        "\n",
        "\n",
        "# (c) and (d) - Confidence Interval for Mean (sigma unknown)\n",
        "s = colonization_missions[\"Mission Cost (billion USD)\"].std(ddof=1)\n",
        "t = st.t.ppf(1 - alpha / 2, df=n - 1)\n",
        "lb_c = mean_cost - t * s / (n ** (1/2))\n",
        "ub_d = mean_cost + t * s / (n ** (1/2))\n",
        "print(f\"({lb_c:.4f}) < μspace-colonization-mission-cost < ({ub_d:.4f}) (sigma unknown)\")\n",
        "\n",
        "\n",
        "# (e) and (f) - Confidence Interval for Variance\n",
        "exoplanet_missions = df_space[df_space[\"Target Type\"] == \"Exoplanet\"]\n",
        "sample_variance = exoplanet_missions[\"Mission Cost (billion USD)\"].var(ddof=1)\n",
        "n_exo = len(exoplanet_missions)\n",
        "chi2_a = st.chi2.ppf(alpha / 2, df=n_exo - 1)\n",
        "chi2_b = st.chi2.ppf(1 - alpha / 2, df=n_exo - 1)\n",
        "lb_e = (n_exo - 1) * sample_variance / chi2_b\n",
        "ub_f = (n_exo - 1) * sample_variance / chi2_a\n",
        "print(f\"({lb_e:.4f}) < σ2 space-exoplanet-mission-cost < ({ub_f:.4f})\")"
      ],
      "metadata": {
        "colab": {
          "base_uri": "https://localhost:8080/",
          "height": 112
        },
        "id": "IlLhIfofH_9l",
        "outputId": "7450889b-5e7d-4b0d-a237-4521bcec2631"
      },
      "execution_count": 38,
      "outputs": [
        {
          "output_type": "display_data",
          "data": {
            "text/plain": [
              "<IPython.core.display.HTML object>"
            ],
            "text/html": [
              "\n",
              "     <input type=\"file\" id=\"files-e32e4847-fa91-4949-adef-fe2321314e49\" name=\"files[]\" multiple disabled\n",
              "        style=\"border:none\" />\n",
              "     <output id=\"result-e32e4847-fa91-4949-adef-fe2321314e49\">\n",
              "      Upload widget is only available when the cell has been executed in the\n",
              "      current browser session. Please rerun this cell to enable.\n",
              "      </output>\n",
              "      <script>// Copyright 2017 Google LLC\n",
              "//\n",
              "// Licensed under the Apache License, Version 2.0 (the \"License\");\n",
              "// you may not use this file except in compliance with the License.\n",
              "// You may obtain a copy of the License at\n",
              "//\n",
              "//      http://www.apache.org/licenses/LICENSE-2.0\n",
              "//\n",
              "// Unless required by applicable law or agreed to in writing, software\n",
              "// distributed under the License is distributed on an \"AS IS\" BASIS,\n",
              "// WITHOUT WARRANTIES OR CONDITIONS OF ANY KIND, either express or implied.\n",
              "// See the License for the specific language governing permissions and\n",
              "// limitations under the License.\n",
              "\n",
              "/**\n",
              " * @fileoverview Helpers for google.colab Python module.\n",
              " */\n",
              "(function(scope) {\n",
              "function span(text, styleAttributes = {}) {\n",
              "  const element = document.createElement('span');\n",
              "  element.textContent = text;\n",
              "  for (const key of Object.keys(styleAttributes)) {\n",
              "    element.style[key] = styleAttributes[key];\n",
              "  }\n",
              "  return element;\n",
              "}\n",
              "\n",
              "// Max number of bytes which will be uploaded at a time.\n",
              "const MAX_PAYLOAD_SIZE = 100 * 1024;\n",
              "\n",
              "function _uploadFiles(inputId, outputId) {\n",
              "  const steps = uploadFilesStep(inputId, outputId);\n",
              "  const outputElement = document.getElementById(outputId);\n",
              "  // Cache steps on the outputElement to make it available for the next call\n",
              "  // to uploadFilesContinue from Python.\n",
              "  outputElement.steps = steps;\n",
              "\n",
              "  return _uploadFilesContinue(outputId);\n",
              "}\n",
              "\n",
              "// This is roughly an async generator (not supported in the browser yet),\n",
              "// where there are multiple asynchronous steps and the Python side is going\n",
              "// to poll for completion of each step.\n",
              "// This uses a Promise to block the python side on completion of each step,\n",
              "// then passes the result of the previous step as the input to the next step.\n",
              "function _uploadFilesContinue(outputId) {\n",
              "  const outputElement = document.getElementById(outputId);\n",
              "  const steps = outputElement.steps;\n",
              "\n",
              "  const next = steps.next(outputElement.lastPromiseValue);\n",
              "  return Promise.resolve(next.value.promise).then((value) => {\n",
              "    // Cache the last promise value to make it available to the next\n",
              "    // step of the generator.\n",
              "    outputElement.lastPromiseValue = value;\n",
              "    return next.value.response;\n",
              "  });\n",
              "}\n",
              "\n",
              "/**\n",
              " * Generator function which is called between each async step of the upload\n",
              " * process.\n",
              " * @param {string} inputId Element ID of the input file picker element.\n",
              " * @param {string} outputId Element ID of the output display.\n",
              " * @return {!Iterable<!Object>} Iterable of next steps.\n",
              " */\n",
              "function* uploadFilesStep(inputId, outputId) {\n",
              "  const inputElement = document.getElementById(inputId);\n",
              "  inputElement.disabled = false;\n",
              "\n",
              "  const outputElement = document.getElementById(outputId);\n",
              "  outputElement.innerHTML = '';\n",
              "\n",
              "  const pickedPromise = new Promise((resolve) => {\n",
              "    inputElement.addEventListener('change', (e) => {\n",
              "      resolve(e.target.files);\n",
              "    });\n",
              "  });\n",
              "\n",
              "  const cancel = document.createElement('button');\n",
              "  inputElement.parentElement.appendChild(cancel);\n",
              "  cancel.textContent = 'Cancel upload';\n",
              "  const cancelPromise = new Promise((resolve) => {\n",
              "    cancel.onclick = () => {\n",
              "      resolve(null);\n",
              "    };\n",
              "  });\n",
              "\n",
              "  // Wait for the user to pick the files.\n",
              "  const files = yield {\n",
              "    promise: Promise.race([pickedPromise, cancelPromise]),\n",
              "    response: {\n",
              "      action: 'starting',\n",
              "    }\n",
              "  };\n",
              "\n",
              "  cancel.remove();\n",
              "\n",
              "  // Disable the input element since further picks are not allowed.\n",
              "  inputElement.disabled = true;\n",
              "\n",
              "  if (!files) {\n",
              "    return {\n",
              "      response: {\n",
              "        action: 'complete',\n",
              "      }\n",
              "    };\n",
              "  }\n",
              "\n",
              "  for (const file of files) {\n",
              "    const li = document.createElement('li');\n",
              "    li.append(span(file.name, {fontWeight: 'bold'}));\n",
              "    li.append(span(\n",
              "        `(${file.type || 'n/a'}) - ${file.size} bytes, ` +\n",
              "        `last modified: ${\n",
              "            file.lastModifiedDate ? file.lastModifiedDate.toLocaleDateString() :\n",
              "                                    'n/a'} - `));\n",
              "    const percent = span('0% done');\n",
              "    li.appendChild(percent);\n",
              "\n",
              "    outputElement.appendChild(li);\n",
              "\n",
              "    const fileDataPromise = new Promise((resolve) => {\n",
              "      const reader = new FileReader();\n",
              "      reader.onload = (e) => {\n",
              "        resolve(e.target.result);\n",
              "      };\n",
              "      reader.readAsArrayBuffer(file);\n",
              "    });\n",
              "    // Wait for the data to be ready.\n",
              "    let fileData = yield {\n",
              "      promise: fileDataPromise,\n",
              "      response: {\n",
              "        action: 'continue',\n",
              "      }\n",
              "    };\n",
              "\n",
              "    // Use a chunked sending to avoid message size limits. See b/62115660.\n",
              "    let position = 0;\n",
              "    do {\n",
              "      const length = Math.min(fileData.byteLength - position, MAX_PAYLOAD_SIZE);\n",
              "      const chunk = new Uint8Array(fileData, position, length);\n",
              "      position += length;\n",
              "\n",
              "      const base64 = btoa(String.fromCharCode.apply(null, chunk));\n",
              "      yield {\n",
              "        response: {\n",
              "          action: 'append',\n",
              "          file: file.name,\n",
              "          data: base64,\n",
              "        },\n",
              "      };\n",
              "\n",
              "      let percentDone = fileData.byteLength === 0 ?\n",
              "          100 :\n",
              "          Math.round((position / fileData.byteLength) * 100);\n",
              "      percent.textContent = `${percentDone}% done`;\n",
              "\n",
              "    } while (position < fileData.byteLength);\n",
              "  }\n",
              "\n",
              "  // All done.\n",
              "  yield {\n",
              "    response: {\n",
              "      action: 'complete',\n",
              "    }\n",
              "  };\n",
              "}\n",
              "\n",
              "scope.google = scope.google || {};\n",
              "scope.google.colab = scope.google.colab || {};\n",
              "scope.google.colab._files = {\n",
              "  _uploadFiles,\n",
              "  _uploadFilesContinue,\n",
              "};\n",
              "})(self);\n",
              "</script> "
            ]
          },
          "metadata": {}
        },
        {
          "output_type": "stream",
          "name": "stdout",
          "text": [
            "(264.6840) < μspace-colonization-mission-cost < (268.8455) (sigma known)\n",
            "(237.4696) < μspace-colonization-mission-cost < (296.0599) (sigma unknown)\n",
            "(14991.5648) < σ2 space-exoplanet-mission-cost < (29898.8771)\n"
          ]
        }
      ]
    },
    {
      "cell_type": "code",
      "source": [
        "# Hitung derajat kebebasan menggunakan Welch's formula\n",
        "# term1 = s1 ** 2 / n1\n",
        "# term2 = s2 ** 2 / n2\n",
        "# v = (term1 + term2) ** 2 / ((term1 ** 2) / (n1 - 1) + (term2 ** 2) / (n2 - 1))\n",
        "# Tentukan confidence interval (98)% untuk selisih mean jarak dari Bumi (kolom \"Distance from Earth (light-years)\") misi dengan target “Star” dan target \"Asteroid\" (kolom \"Target Type\")!\n",
        "# (8)....<μstar_distance - Pasteroid _distance < (h)....\n",
        "# Tentukan confidence interval (98)% untuk rasio variansi jarak dari Bumi (kolom \"Distance from Earth\") misi dengan target \"Star\" dan target \"Asteroid\" (kolom \"Target Type\")!\n",
        "# (i).....<\n",
        "# star_distance\n",
        "# dasteroid distance\n",
        "\n",
        "# Assuming df_space is already loaded as in the provided code.\n",
        "\n",
        "# Filter data for missions targeting \"Star\" and \"Asteroid\"\n",
        "star_missions = df_space[df_space[\"Target Type\"] == \"Star\"]\n",
        "asteroid_missions = df_space[df_space[\"Target Type\"] == \"Asteroid\"]\n",
        "\n",
        "# Calculate necessary statistics\n",
        "star_distance_mean = star_missions[\"Distance from Earth (light-years)\"].mean()\n",
        "asteroid_distance_mean = asteroid_missions[\"Distance from Earth (light-years)\"].mean()\n",
        "star_distance_std = star_missions[\"Distance from Earth (light-years)\"].std(ddof=1)\n",
        "asteroid_distance_std = asteroid_missions[\"Distance from Earth (light-years)\"].std(ddof=1)\n",
        "n_star = len(star_missions)\n",
        "n_asteroid = len(asteroid_missions)\n",
        "\n",
        "# Calculate degrees of freedom using Welch's formula\n",
        "term1 = star_distance_std**2 / n_star\n",
        "term2 = asteroid_distance_std**2 / n_asteroid\n",
        "v = (term1 + term2)**2 / ((term1**2) / (n_star - 1) + (term2**2) / (n_asteroid - 1))\n",
        "\n",
        "# Calculate t-critical value for a 98% confidence interval (two-tailed)\n",
        "alpha = 0.02\n",
        "t_critical = st.t.ppf(1 - alpha/2, df=v)\n",
        "\n",
        "# Calculate margin of error for difference in means\n",
        "margin_of_error_mean = t_critical * np.sqrt(term1 + term2)\n",
        "\n",
        "# Calculate confidence interval for the difference in means\n",
        "lb_mean = star_distance_mean - asteroid_distance_mean - margin_of_error_mean\n",
        "ub_mean = star_distance_mean - asteroid_distance_mean + margin_of_error_mean\n",
        "\n",
        "print(f\"98% Confidence Interval for difference in means: ({lb_mean:.4f}) < μstar_distance - μasteroid_distance < ({ub_mean:.4f})\")\n",
        "\n",
        "# Calculate F-critical values for a 98% confidence interval (two-tailed)\n",
        "f_critical_lower = st.f.ppf(alpha / 2, n_star - 1, n_asteroid - 1)\n",
        "f_critical_upper = st.f.ppf(1 - alpha / 2, n_star - 1, n_asteroid - 1)\n",
        "\n",
        "# Calculate confidence interval for the variance ratio\n",
        "lb_variance = (star_distance_std**2 / asteroid_distance_std**2) / f_critical_upper\n",
        "ub_variance = (star_distance_std**2 / asteroid_distance_std**2) / f_critical_lower\n",
        "\n",
        "print(f\"98% Confidence Interval for variance ratio: ({lb_variance:.4f}) < (σstar_distance**2 / σasteroid_distance**2) < ({ub_variance:.4f})\")"
      ],
      "metadata": {
        "colab": {
          "base_uri": "https://localhost:8080/"
        },
        "id": "Km3mm5ttI94G",
        "outputId": "b2951c09-48ba-4491-c9d2-cd794fc7d3d4"
      },
      "execution_count": 40,
      "outputs": [
        {
          "output_type": "stream",
          "name": "stdout",
          "text": [
            "98% Confidence Interval for difference in means: (-6.5038) < μstar_distance - μasteroid_distance < (3.2170)\n",
            "98% Confidence Interval for variance ratio: (0.6367) < (σstar_distance**2 / σasteroid_distance**2) < (1.6298)\n"
          ]
        }
      ]
    },
    {
      "cell_type": "code",
      "source": [
        "# -------------------------------------------------------\n",
        "# Confidence Interval Proporsi One Sample\n",
        "# -------------------------------------------------------\n",
        "\n",
        "n = 10804  # Ukuran sampel\n",
        "x1 = 2460 #Yang mau dicari proporsi 95% confidence intervalnya\n",
        "# FUNGSI (khusus mencari confidence interval dari satu sampel)\n",
        "def confidence_interval_one_sample(x, n):\n",
        "    p = x / n  # Proporsi sampel\n",
        "    cl = 0.90  # Confidence level\n",
        "    alpha = 1 - cl  # alpha --> P(error)\n",
        "    Z = st.norm.ppf(1 - alpha / 2)\n",
        "    # Margin of error\n",
        "    margin_error = Z * np.sqrt((p * (1 - p)) / n)\n",
        "    # Interval kepercayaan\n",
        "    batas_bawah = p - margin_error\n",
        "    batas_atas = p + margin_error\n",
        "    return batas_bawah, batas_atas\n",
        "# Panggil Fungsi\n",
        "batas_bawah, batas_atas = confidence_interval_one_sample(x1, n)\n",
        "# OUTPUT\n",
        "print(f\"90% confidence interval adalah : ({batas_bawah:.4f}, {batas_atas:.4f})\")\n",
        "lb_percent = batas_bawah*100\n",
        "ub_percent = batas_atas*100\n",
        "print(f'CI nya adalah: {lb_percent:.2f}% < p < {ub_percent:.2f}%')"
      ],
      "metadata": {
        "colab": {
          "base_uri": "https://localhost:8080/"
        },
        "id": "dtIVSe25opCv",
        "outputId": "3ba47289-0e10-4794-de0a-ac9c391153b1"
      },
      "execution_count": null,
      "outputs": [
        {
          "output_type": "stream",
          "name": "stdout",
          "text": [
            "90% confidence interval adalah : (0.2211, 0.2343)\n",
            "CI nya adalah: 22.11% < p < 23.43%\n"
          ]
        }
      ]
    },
    {
      "cell_type": "code",
      "source": [
        "# -------------------------------------------------------\n",
        "# Confidence Interval Proporsi One Sample\n",
        "# -------------------------------------------------------\n",
        "\n",
        "n = 10804  # Ukuran sampel\n",
        "x1 = 805 #Yang mau dicari proporsi 95% confidence intervalnya\n",
        "# FUNGSI (khusus mencari confidence interval dari satu sampel)\n",
        "def confidence_interval_one_sample(x, n):\n",
        "    p = x / n  # Proporsi sampel\n",
        "    cl = 0.90  # Confidence level\n",
        "    alpha = 1 - cl  # alpha --> P(error)\n",
        "    Z = st.norm.ppf(1 - alpha / 2)\n",
        "    # Margin of error\n",
        "    margin_error = Z * np.sqrt((p * (1 - p)) / n)\n",
        "    # Interval kepercayaan\n",
        "    batas_bawah = p - margin_error\n",
        "    batas_atas = p + margin_error\n",
        "    return batas_bawah, batas_atas\n",
        "# Panggil Fungsi\n",
        "batas_bawah, batas_atas = confidence_interval_one_sample(x1, n)\n",
        "# OUTPUT\n",
        "print(f\"90% confidence interval adalah : ({batas_bawah:.4f}, {batas_atas:.4f})\")\n",
        "lb_percent = batas_bawah*100\n",
        "ub_percent = batas_atas*100\n",
        "print(f'CI nya adalah: {lb_percent:.2f}% < p < {ub_percent:.2f}%')"
      ],
      "metadata": {
        "colab": {
          "base_uri": "https://localhost:8080/"
        },
        "id": "VJwfxDLKosMd",
        "outputId": "435a983b-6c77-4e38-cc0a-1c9114fd8193"
      },
      "execution_count": null,
      "outputs": [
        {
          "output_type": "stream",
          "name": "stdout",
          "text": [
            "90% confidence interval adalah : (0.0704, 0.0787)\n",
            "CI nya adalah: 7.04% < p < 7.87%\n"
          ]
        }
      ]
    },
    {
      "cell_type": "markdown",
      "source": [
        "### **HYPOTHESIS TESTING PROPORSI ONE SAMPLE | H1 : P1 > P0**"
      ],
      "metadata": {
        "id": "wwx_tre5ok5m"
      }
    },
    {
      "cell_type": "code",
      "source": [
        "# -----------------------------------------------------------------------------------------------\n",
        "# Hipothesys Testing Untuk Banyak (Proporsi) Satu Sampel NOMOR 3D\n",
        "# -----------------------------------------------------------------------------------------------\n",
        "\n",
        "# Deklarasi kategori/variabel\n",
        "x = 3315\n",
        "n = 10804\n",
        "p0 = 0.70\n",
        "# FUNGSI melakukan tes hipotesis terhadap 1 sampel.\n",
        "def one_sample_z_test_hypo(x, n, p0):\n",
        "    p_hat = x / n  # Proporsi sampel\n",
        "    z = (n * p_hat - n * p0) / sqrt(n * p0 * (1 - p0))\n",
        "    alpha = 0.9\n",
        "    z_alpha = st.norm.ppf(1 - alpha)\n",
        "    pval = 1 - st.norm.cdf(z)  # Untuk uji arah kanan (right-tailed)\n",
        "    print(f\"Nilai p0 ditentukan sebesar {p0}\")\n",
        "    print(f\"Nilai H0 adalah sama dengan p0. H0 = {p0}\")\n",
        "    print(f\"Nilai H1 tidak sama dengan p0. H1 != {p0}\")\n",
        "    print('\\nANALISIS')\n",
        "    print(f\"Nilai x adalah : {x:.2f}\" )\n",
        "    print(f\"Nilai z adalah : {z:.2f}\")\n",
        "    print(f'Crit region    : z > {z_alpha}')\n",
        "    # Periksa apakah z berada dalam daerah kritis\n",
        "    if z > z_alpha:\n",
        "        print('Kesimpulan     : z berada di dalam daerah crit region (daerah kritis), sehingga DAPAT menolak/reject H0. Kesimpulan H1.')\n",
        "    else:\n",
        "        print('Kesimpulan     : z berada di luar daerah crit region (daerah kritis), sehingga TIDAK menolak/reject H0')\n",
        "    print(f\"Nilai p-value  : {pval:.4f}\")\n",
        "# Pemanggilan fungsi\n",
        "one_sample_z_test_hypo (x,n,p0)"
      ],
      "metadata": {
        "colab": {
          "base_uri": "https://localhost:8080/"
        },
        "id": "HCMwmqmspO1C",
        "outputId": "b83face3-b1e3-4f1d-d6f6-c564a43a2b51"
      },
      "execution_count": null,
      "outputs": [
        {
          "output_type": "stream",
          "name": "stdout",
          "text": [
            "Nilai p0 ditentukan sebesar 0.25\n",
            "Nilai H0 adalah sama dengan p0. H0 = 0.25\n",
            "Nilai H1 tidak sama dengan p0. H1 != 0.25\n",
            "\n",
            "ANALISIS\n",
            "Nilai x adalah : 3315.00\n",
            "Nilai z adalah : 13.64\n",
            "Crit region    : z > 2.3263478740408408\n",
            "Kesimpulan     : z berada di dalam daerah crit region (daerah kritis), sehingga DAPAT menolak/reject H0. Kesimpulan H1.\n",
            "Nilai p-value  : 0.0000\n"
          ]
        }
      ]
    },
    {
      "cell_type": "markdown",
      "source": [
        "### **HYPOTESIS TESTING PROPORSI ONE SAMPLE H1: P1 != p0**"
      ],
      "metadata": {
        "id": "Tw2Qu1sMp8I1"
      }
    },
    {
      "cell_type": "code",
      "source": [
        "# -----------------------------------------------------------------------------------------------\n",
        "# Hipothesys Testing Untuk Banyak (Proporsi) Satu Sampel NOMOR 3E\n",
        "# -----------------------------------------------------------------------------------------------\n",
        "\n",
        "# Deklarasi kategori/variabel\n",
        "x = 2063\n",
        "n = 10804\n",
        "p0 = 0.5\n",
        "# FUNGSI melakukan tes hipotesis terhadap 1 sampel.\n",
        "def one_sample_z_test_hypo(x, n, p0):\n",
        "    p_hat = x / n  # Proporsi sampel\n",
        "    z = (n * p_hat - n * p0) / sqrt(n * p0 * (1 - p0))\n",
        "    alpha = 0.01\n",
        "    p_value = 2 * (1 - norm.cdf(abs(z)))\n",
        "    print(f\"Nilai z adalah: {z}\")\n",
        "    print(f\"Nilai p value adalah: {p_value:.4f}\")\n",
        "    z_alpha_per_2 = st.norm.ppf(1 - alpha / 2)\n",
        "    print(f'crit region : z < - {z_alpha_per_2}, z > {z_alpha_per_2}')\n",
        "    if Z < -z_alpha_per_2 or Z > z_alpha_per_2 :\n",
        "      decision = \"Di dalam daerah kritis. Tolak H0.\"\n",
        "    else:\n",
        "      decision = \"Di luar daerah kritis. Gagal menolak H0.\"\n",
        "# Pemanggilan fungsi\n",
        "one_sample_z_test_hypo (x,n,p0)\n",
        "print(decision)"
      ],
      "metadata": {
        "colab": {
          "base_uri": "https://localhost:8080/"
        },
        "id": "0ovLwQjxqIKl",
        "outputId": "37e394ba-ad4a-44f0-fb44-c55cd7cc56d3"
      },
      "execution_count": null,
      "outputs": [
        {
          "output_type": "stream",
          "name": "stdout",
          "text": [
            "Nilai z adalah: -64.24718843474565\n",
            "Nilai p value adalah: 0.0000\n",
            "crit region : z < - 2.5758293035489004, z > 2.5758293035489004\n",
            "Di dalam daerah kritis. Tolak H0.\n"
          ]
        }
      ]
    },
    {
      "cell_type": "markdown",
      "source": [
        "## **SOAL 3**"
      ],
      "metadata": {
        "id": "-rzQRwlOs3Z2"
      }
    },
    {
      "cell_type": "markdown",
      "source": [
        "### **CI PROPORSI DIFF**"
      ],
      "metadata": {
        "id": "xk917kb0tfl8"
      }
    },
    {
      "cell_type": "code",
      "source": [
        "# ------------------------------------------------------------------------------------------------------------\n",
        "# Confidence Interval TWO SAMPLE TOOLS\n",
        "# ------------------------------------------------------------------------------------------------------------\n",
        "\n",
        "# Data (Ini Masukkan Persentase yang ingin dimasukkan)\n",
        "xa = 6972 # INI SAMPEL YANG PERTAMA\n",
        "xb = 4626# INII SAMPEL YANG KEDUA\n",
        "n1 = n2 = 10804  # BANYAK DATA\n",
        "# Fungsi untuk Two Sample Confidence Interval\n",
        "def two_sample_ci(x1, x2, n1, n2):\n",
        "    p1 = x1 / n1  # proporsi sampel A\n",
        "    p2 = x2 / n2  # proporsi sampel B\n",
        "    cl = 0.90 # GANT SESUAI SOAL*******\n",
        "    a = 1 - cl\n",
        "    z = st.norm.ppf(1 - a / 2)\n",
        "    # Margin error\n",
        "    margin = z * sqrt(p1 * (1 - p1) / n1 + p2 * (1 - p2) / n2)\n",
        "    # Confidence Interval FORMAT PROPORSI SAMPEL 1 - SAMPEL 2\n",
        "    lb = p1 - p2 - margin\n",
        "    ub = p1 - p2 + margin\n",
        "    lb_percent = lb * 100\n",
        "    ub_percent = ub * 100\n",
        "    print(z)\n",
        "    return lb_percent, ub_percent\n",
        "# Pemanggilan Fungsi\n",
        "lb_percent, ub_percent = two_sample_ci(xa, xb, n1, n2)\n",
        "# Output\n",
        "print(f'CI nya adalah: {lb_percent:.2f}% < p1-p2 < {ub_percent:.2f}%')\n"
      ],
      "metadata": {
        "colab": {
          "base_uri": "https://localhost:8080/"
        },
        "id": "OASpyeuRtki8",
        "outputId": "8dee150a-0537-4778-f36a-c3091155577f"
      },
      "execution_count": null,
      "outputs": [
        {
          "output_type": "stream",
          "name": "stdout",
          "text": [
            "1.6448536269514722\n",
            "CI nya adalah: 20.63% < p1-p2 < 22.80%\n"
          ]
        }
      ]
    },
    {
      "cell_type": "code",
      "source": [
        "\n",
        "# (a)... <Pshopee Ptokopedia <(b)...\n",
        "# Selisih proporsi pengguna gojek dan grab:\n",
        "# (c)... <Pgojek - Pgrab < (d)...\n",
        "# Lakukan uji hipotesis:\n",
        "# HO: Proporsi pengguna shopee = proporsi pengguna tokopedia H1: Proporsi pengguna shopee > proporsi pengguna tokopedia Tingkat signifikansi = α = (9)%\n",
        "# e. Tentukan critical region dari uji hipotesis:\n",
        "# z >...\n",
        "# f. Tentukan kesimpulan dari uji hipotesis! (apabila HO gagal ditolak jawab 0, apabila HO ditolak jawab 1)\n",
        "# g. Apakah nilai p-value lebih kecil dari nilai a? (apabila TIDAK jawab 0, apabila YA jawab 1)\n",
        "# Lakukan uji hipotesis:\n",
        "# HO: Proporsi pengguna gojek = proporsi pengguna grab\n",
        "# H1: Proporsi pengguna gojek proporsi pengguna grab Tingkat signifikansi = α = (8 + 1)%\n",
        "# h. Tentukan critical region dari uji hipotesis:\n",
        "# z <... (i), z> ... (ii)\n",
        "# i. Tentukan kesimpulan dari uji hipotesis! (apabila HO gagal ditolak jawab 0, apabila HO ditolak jawab 1)\n",
        "# j. Apakah nilai p-value lebih kecil dari a? (apabila TIDAK jawab 0, apabila YA jawab 1)\n",
        "\n",
        "import pandas as pd\n",
        "import numpy as np\n",
        "from scipy import stats as st\n",
        "from math import sqrt\n",
        "\n",
        "# Upload the file\n",
        "from google.colab import files\n",
        "uploaded = files.upload()\n",
        "\n",
        "# Read the excel file\n",
        "df = pd.read_excel(\"Dataset-b.xlsx\", sheet_name=\"ecommerce\")\n",
        "\n",
        "# Data extraction\n",
        "n = 9183\n",
        "shopee = 7401\n",
        "tokopedia = 4610\n",
        "gojek = 4849\n",
        "grab = 2397\n",
        "\n",
        "# Calculate proportions\n",
        "p_shopee = shopee / n\n",
        "p_tokopedia = tokopedia / n\n",
        "p_gojek = gojek / n\n",
        "p_grab = grab / n\n",
        "\n",
        "# (a) and (b) - Confidence Interval for the difference between Shopee and Tokopedia proportions\n",
        "cl = 0.98\n",
        "alpha = 1 - cl\n",
        "z_critical = st.norm.ppf(1 - alpha/2)\n",
        "\n",
        "diff_p = p_shopee - p_tokopedia\n",
        "std_err = sqrt((p_shopee*(1-p_shopee))/n + (p_tokopedia*(1-p_tokopedia))/n)\n",
        "margin_error = z_critical * std_err\n",
        "lb_a = diff_p - margin_error\n",
        "ub_b = diff_p + margin_error\n",
        "print(f\"(a) {lb_a:.4f} < Pshopee - Ptokopedia < (b) {ub_b:.4f}\")\n",
        "\n",
        "# (c) and (d) - Confidence Interval for the difference between Gojek and Grab proportions\n",
        "diff_p_gojek_grab = p_gojek - p_grab\n",
        "std_err_gojek_grab = sqrt((p_gojek * (1 - p_gojek)) / n + (p_grab * (1 - p_grab)) / n)\n",
        "margin_error_gojek_grab = z_critical * std_err_gojek_grab\n",
        "\n",
        "lb_c = diff_p_gojek_grab - margin_error_gojek_grab\n",
        "ub_d = diff_p_gojek_grab + margin_error_gojek_grab\n",
        "print(f\"(c) {lb_c:.4f} < Pgojek - Pgrab < (d) {ub_d:.4f}\")\n",
        "\n",
        "# Hypothesis Testing: Shopee vs Tokopedia\n",
        "# H0: Pshopee = Ptokopedia\n",
        "# H1: Pshopee > Ptokopedia\n",
        "alpha_shopee_tokopedia = 0.09\n",
        "p_pooled = (shopee + tokopedia) / (2*n)\n",
        "z_statistic = (p_shopee - p_tokopedia) / sqrt(p_pooled * (1 - p_pooled) * (2/n))\n",
        "\n",
        "z_critical_shopee_tokopedia = st.norm.ppf(1 - alpha_shopee_tokopedia)\n",
        "\n",
        "# (e) Critical Region\n",
        "print(f\"(e) z > {z_critical_shopee_tokopedia:.4f}\")\n",
        "\n",
        "# (f) Conclusion\n",
        "if z_statistic > z_critical_shopee_tokopedia:\n",
        "    conclusion_shopee_tokopedia = 1\n",
        "else:\n",
        "    conclusion_shopee_tokopedia = 0\n",
        "print(f\"(f) {conclusion_shopee_tokopedia}\")\n",
        "\n",
        "# (g) p-value\n",
        "p_value_shopee_tokopedia = 1 - st.norm.cdf(z_statistic)\n",
        "if p_value_shopee_tokopedia < alpha_shopee_tokopedia:\n",
        "    pvalue_result = 1\n",
        "else:\n",
        "    pvalue_result = 0\n",
        "print(f\"(g) {pvalue_result}\")\n",
        "\n",
        "# Hypothesis Testing: Gojek vs Grab\n",
        "# H0: Pgojek = Pgrab\n",
        "# H1: Pgojek != Pgrab\n",
        "alpha_gojek_grab = 0.09\n",
        "p_pooled_gojek_grab = (gojek + grab) / (2 * n)\n",
        "z_statistic_gojek_grab = (p_gojek - p_grab) / sqrt(p_pooled_gojek_grab * (1 - p_pooled_gojek_grab) * (2/n))\n",
        "z_critical_gojek_grab = st.norm.ppf(1-alpha_gojek_grab/2)\n",
        "\n",
        "print(f\"(h) z < {-z_critical_gojek_grab:.4f} (i), z > {z_critical_gojek_grab:.4f} (ii)\")\n",
        "\n",
        "if abs(z_statistic_gojek_grab) > z_critical_gojek_grab:\n",
        "    conclusion_gojek_grab = 1\n",
        "else:\n",
        "    conclusion_gojek_grab = 0\n",
        "\n",
        "print(f\"(i) {conclusion_gojek_grab}\")\n",
        "\n",
        "p_value_gojek_grab = 2 * (1- st.norm.cdf(abs(z_statistic_gojek_grab)))\n",
        "\n",
        "if p_value_gojek_grab < alpha_gojek_grab:\n",
        "    pvalue_result_gojek_grab = 1\n",
        "else:\n",
        "    pvalue_result_gojek_grab = 0\n",
        "\n",
        "print(f\"(j) {pvalue_result_gojek_grab}\")\n",
        "\n",
        "# NO .2 UJIAN LETS GO"
      ],
      "metadata": {
        "colab": {
          "base_uri": "https://localhost:8080/",
          "height": 236
        },
        "id": "kEiIU_mrOrvA",
        "outputId": "0d45c042-42d9-49d7-d503-99906795505a"
      },
      "execution_count": 26,
      "outputs": [
        {
          "output_type": "display_data",
          "data": {
            "text/plain": [
              "<IPython.core.display.HTML object>"
            ],
            "text/html": [
              "\n",
              "     <input type=\"file\" id=\"files-defe82be-d268-42a6-9ae0-c228a299803b\" name=\"files[]\" multiple disabled\n",
              "        style=\"border:none\" />\n",
              "     <output id=\"result-defe82be-d268-42a6-9ae0-c228a299803b\">\n",
              "      Upload widget is only available when the cell has been executed in the\n",
              "      current browser session. Please rerun this cell to enable.\n",
              "      </output>\n",
              "      <script>// Copyright 2017 Google LLC\n",
              "//\n",
              "// Licensed under the Apache License, Version 2.0 (the \"License\");\n",
              "// you may not use this file except in compliance with the License.\n",
              "// You may obtain a copy of the License at\n",
              "//\n",
              "//      http://www.apache.org/licenses/LICENSE-2.0\n",
              "//\n",
              "// Unless required by applicable law or agreed to in writing, software\n",
              "// distributed under the License is distributed on an \"AS IS\" BASIS,\n",
              "// WITHOUT WARRANTIES OR CONDITIONS OF ANY KIND, either express or implied.\n",
              "// See the License for the specific language governing permissions and\n",
              "// limitations under the License.\n",
              "\n",
              "/**\n",
              " * @fileoverview Helpers for google.colab Python module.\n",
              " */\n",
              "(function(scope) {\n",
              "function span(text, styleAttributes = {}) {\n",
              "  const element = document.createElement('span');\n",
              "  element.textContent = text;\n",
              "  for (const key of Object.keys(styleAttributes)) {\n",
              "    element.style[key] = styleAttributes[key];\n",
              "  }\n",
              "  return element;\n",
              "}\n",
              "\n",
              "// Max number of bytes which will be uploaded at a time.\n",
              "const MAX_PAYLOAD_SIZE = 100 * 1024;\n",
              "\n",
              "function _uploadFiles(inputId, outputId) {\n",
              "  const steps = uploadFilesStep(inputId, outputId);\n",
              "  const outputElement = document.getElementById(outputId);\n",
              "  // Cache steps on the outputElement to make it available for the next call\n",
              "  // to uploadFilesContinue from Python.\n",
              "  outputElement.steps = steps;\n",
              "\n",
              "  return _uploadFilesContinue(outputId);\n",
              "}\n",
              "\n",
              "// This is roughly an async generator (not supported in the browser yet),\n",
              "// where there are multiple asynchronous steps and the Python side is going\n",
              "// to poll for completion of each step.\n",
              "// This uses a Promise to block the python side on completion of each step,\n",
              "// then passes the result of the previous step as the input to the next step.\n",
              "function _uploadFilesContinue(outputId) {\n",
              "  const outputElement = document.getElementById(outputId);\n",
              "  const steps = outputElement.steps;\n",
              "\n",
              "  const next = steps.next(outputElement.lastPromiseValue);\n",
              "  return Promise.resolve(next.value.promise).then((value) => {\n",
              "    // Cache the last promise value to make it available to the next\n",
              "    // step of the generator.\n",
              "    outputElement.lastPromiseValue = value;\n",
              "    return next.value.response;\n",
              "  });\n",
              "}\n",
              "\n",
              "/**\n",
              " * Generator function which is called between each async step of the upload\n",
              " * process.\n",
              " * @param {string} inputId Element ID of the input file picker element.\n",
              " * @param {string} outputId Element ID of the output display.\n",
              " * @return {!Iterable<!Object>} Iterable of next steps.\n",
              " */\n",
              "function* uploadFilesStep(inputId, outputId) {\n",
              "  const inputElement = document.getElementById(inputId);\n",
              "  inputElement.disabled = false;\n",
              "\n",
              "  const outputElement = document.getElementById(outputId);\n",
              "  outputElement.innerHTML = '';\n",
              "\n",
              "  const pickedPromise = new Promise((resolve) => {\n",
              "    inputElement.addEventListener('change', (e) => {\n",
              "      resolve(e.target.files);\n",
              "    });\n",
              "  });\n",
              "\n",
              "  const cancel = document.createElement('button');\n",
              "  inputElement.parentElement.appendChild(cancel);\n",
              "  cancel.textContent = 'Cancel upload';\n",
              "  const cancelPromise = new Promise((resolve) => {\n",
              "    cancel.onclick = () => {\n",
              "      resolve(null);\n",
              "    };\n",
              "  });\n",
              "\n",
              "  // Wait for the user to pick the files.\n",
              "  const files = yield {\n",
              "    promise: Promise.race([pickedPromise, cancelPromise]),\n",
              "    response: {\n",
              "      action: 'starting',\n",
              "    }\n",
              "  };\n",
              "\n",
              "  cancel.remove();\n",
              "\n",
              "  // Disable the input element since further picks are not allowed.\n",
              "  inputElement.disabled = true;\n",
              "\n",
              "  if (!files) {\n",
              "    return {\n",
              "      response: {\n",
              "        action: 'complete',\n",
              "      }\n",
              "    };\n",
              "  }\n",
              "\n",
              "  for (const file of files) {\n",
              "    const li = document.createElement('li');\n",
              "    li.append(span(file.name, {fontWeight: 'bold'}));\n",
              "    li.append(span(\n",
              "        `(${file.type || 'n/a'}) - ${file.size} bytes, ` +\n",
              "        `last modified: ${\n",
              "            file.lastModifiedDate ? file.lastModifiedDate.toLocaleDateString() :\n",
              "                                    'n/a'} - `));\n",
              "    const percent = span('0% done');\n",
              "    li.appendChild(percent);\n",
              "\n",
              "    outputElement.appendChild(li);\n",
              "\n",
              "    const fileDataPromise = new Promise((resolve) => {\n",
              "      const reader = new FileReader();\n",
              "      reader.onload = (e) => {\n",
              "        resolve(e.target.result);\n",
              "      };\n",
              "      reader.readAsArrayBuffer(file);\n",
              "    });\n",
              "    // Wait for the data to be ready.\n",
              "    let fileData = yield {\n",
              "      promise: fileDataPromise,\n",
              "      response: {\n",
              "        action: 'continue',\n",
              "      }\n",
              "    };\n",
              "\n",
              "    // Use a chunked sending to avoid message size limits. See b/62115660.\n",
              "    let position = 0;\n",
              "    do {\n",
              "      const length = Math.min(fileData.byteLength - position, MAX_PAYLOAD_SIZE);\n",
              "      const chunk = new Uint8Array(fileData, position, length);\n",
              "      position += length;\n",
              "\n",
              "      const base64 = btoa(String.fromCharCode.apply(null, chunk));\n",
              "      yield {\n",
              "        response: {\n",
              "          action: 'append',\n",
              "          file: file.name,\n",
              "          data: base64,\n",
              "        },\n",
              "      };\n",
              "\n",
              "      let percentDone = fileData.byteLength === 0 ?\n",
              "          100 :\n",
              "          Math.round((position / fileData.byteLength) * 100);\n",
              "      percent.textContent = `${percentDone}% done`;\n",
              "\n",
              "    } while (position < fileData.byteLength);\n",
              "  }\n",
              "\n",
              "  // All done.\n",
              "  yield {\n",
              "    response: {\n",
              "      action: 'complete',\n",
              "    }\n",
              "  };\n",
              "}\n",
              "\n",
              "scope.google = scope.google || {};\n",
              "scope.google.colab = scope.google.colab || {};\n",
              "scope.google.colab._files = {\n",
              "  _uploadFiles,\n",
              "  _uploadFilesContinue,\n",
              "};\n",
              "})(self);\n",
              "</script> "
            ]
          },
          "metadata": {}
        },
        {
          "output_type": "stream",
          "name": "stdout",
          "text": [
            "Saving Dataset-b.xlsx to Dataset-b (4).xlsx\n",
            "(a) 0.2885 < Pshopee - Ptokopedia < (b) 0.3194\n",
            "(c) 0.2509 < Pgojek - Pgrab < (d) 0.2832\n",
            "(e) z > 1.3408\n",
            "(f) 1\n",
            "(g) 1\n",
            "(h) z < -1.6954 (i), z > 1.6954 (ii)\n",
            "(i) 1\n",
            "(j) 1\n"
          ]
        }
      ]
    },
    {
      "cell_type": "markdown",
      "source": [
        "### **HYPOTHESIS TESTING FOR PROPORSI DIFF (POOLED)**"
      ],
      "metadata": {
        "id": "LTQGkd5DujDF"
      }
    },
    {
      "cell_type": "code",
      "source": [
        "import numpy as np\n",
        "from scipy import stats\n",
        "\n",
        "# Data sampel\n",
        "p1 = 4361/10804\n",
        "p2 = 2858/10804\n",
        "n1 = 10804\n",
        "n2 = 10804\n",
        "\n",
        "# Hitung x (jumlah keberhasilan)\n",
        "x1 = p1 * n1\n",
        "x2 = p2 * n2\n",
        "\n",
        "# Hitung proporsi gabungan\n",
        "p = (x1 + x2) / (n1 + n2)\n",
        "\n",
        "# Hitung nilai Z\n",
        "Z = (p1 - p2) / np.sqrt(p * (1 - p) * (1/n1 + 1/n2))\n",
        "print(f\"Nilai Z     : {Z:.4f}\")\n",
        "\n",
        "# Tentukan nilai kritis untuk uji satu arah pada alpha = 0.01\n",
        "alpha = 0.01\n",
        "print(\"H0 : Proporsi Kedua Sampel Sama\")\n",
        "z_alpha = stats.norm.ppf(alpha)  # Menggunakan ppf(alpha) untuk uji satu arah\n",
        "pval = st.norm.cdf(Z) # Arah kiri\n",
        "print(f'Critical region : z < {z_alpha:.2f}')  # Menggunakan 'z <' untuk H1: P1 < P2\n",
        "\n",
        "if Z < z_alpha:\n",
        "    decision = \"Di dalam daerah kritis. Tolak H0.\"\n",
        "else:\n",
        "    decision = \"Di luar daerah kritis. Gagal menolak H0.\"\n",
        "\n",
        "print(f\"Keputusan : {decision}\")\n",
        "print(f\"P Value: {pval}\")"
      ],
      "metadata": {
        "colab": {
          "base_uri": "https://localhost:8080/"
        },
        "id": "DDnQLTft1773",
        "outputId": "e4bd986d-12d2-44d2-8044-298a6139576a"
      },
      "execution_count": null,
      "outputs": [
        {
          "output_type": "stream",
          "name": "stdout",
          "text": [
            "Nilai Z     : 21.6777\n",
            "H0 : Proporsi Kedua Sampel Sama\n",
            "Critical region : z < -2.33\n",
            "Keputusan : Di luar daerah kritis. Gagal menolak H0.\n",
            "P Value: 1.0\n"
          ]
        }
      ]
    },
    {
      "cell_type": "markdown",
      "source": [
        "**READ ME : UNPOOLED VER, sebenarnya valid dipakai tapi kurang signifikan dibanding pooled hanya ketika d0=0. Cari aman pakai pooled saat d0=0.**"
      ],
      "metadata": {
        "id": "4qRxeufH9GbV"
      }
    },
    {
      "cell_type": "code",
      "source": [
        "alpha = 0.01\n",
        "\n",
        "# Calculate the proportion Data\n",
        "p_hat_1 = 4361 / 10804\n",
        "p_hat_2 = 2858 / 10804\n",
        "\n",
        "# Calculate the difference in proportions\n",
        "proportion_diff = p_hat_1 - p_hat_2\n",
        "\n",
        "# Sample sizes\n",
        "n1 = 10804\n",
        "n2 = 10804\n",
        "\n",
        "# Calculate the difference in proportions\n",
        "\n",
        "# Given hypothesized difference\n",
        "d_0 = 0\n",
        "\n",
        "se_proportion_diff = np.sqrt(\n",
        "    (p_hat_1 * (1 - p_hat_1) / n1) + (p_hat_2 * (1 - p_hat_2) / n2)\n",
        ")\n",
        "\n",
        "# Calculate the test statistic (Z-score)\n",
        "z_score_prop_diff = (proportion_diff - d_0) / se_proportion_diff\n",
        "\n",
        "# Calculate the one-tailed p-value\n",
        "p_value_prop_diff = norm.cdf(z_score_prop_diff)\n",
        "\n",
        "z_crit = norm.ppf(1 - alpha)\n",
        "crit1 = z_crit\n",
        "\n",
        "# Output the results\n",
        "print(\"Z-Score for Proportion Difference:\", z_score_prop_diff)\n",
        "print(f\"Critical region: z < -{crit1}\")\n",
        "print(\"P-Value for Proportion Difference:\", p_value_prop_diff)"
      ],
      "metadata": {
        "colab": {
          "base_uri": "https://localhost:8080/"
        },
        "id": "mMQan3H6xTQ-",
        "outputId": "edf2755c-23e1-4133-e0fb-92487eda3b07"
      },
      "execution_count": null,
      "outputs": [
        {
          "output_type": "stream",
          "name": "stdout",
          "text": [
            "Z-Score for Proportion Difference: 21.91729567438033\n",
            "Critical region: z < -2.3263478740408408\n",
            "P-Value for Proportion Difference: 1.0\n"
          ]
        }
      ]
    },
    {
      "cell_type": "markdown",
      "source": [
        "# **TAMBAHAN KUIS | LATIHAN**"
      ],
      "metadata": {
        "id": "k1qhhYDGEJw4"
      }
    },
    {
      "cell_type": "markdown",
      "source": [
        "### **regresi biasa**"
      ],
      "metadata": {
        "id": "sDOu9Ep8M5Hj"
      }
    },
    {
      "cell_type": "code",
      "source": [
        "import numpy as np\n",
        "# No1. Daya Listrik Data Center (Contoh Soal)\n",
        "\n",
        "# Masukkan data yang ingin di regresi linear\n",
        "x = np.array([315, 250, 197, 258, 93, 164])  # Variabel independen\n",
        "y = np.array([1600, 1100, 1003, 1000, 460, 805])  # Variabel dependen\n",
        "\n",
        "# Jumlah data\n",
        "n = len(x)\n",
        "\n",
        "# Menghitung rata-rata\n",
        "x_mean = np.mean(x)\n",
        "y_mean = np.mean(y)\n",
        "\n",
        "# Menghitung Sxx, Syy, dan Sxy\n",
        "Sxx = np.sum((x - x_mean)**2)\n",
        "Syy = np.sum((y - y_mean)**2)\n",
        "Sxy = np.sum((x - x_mean) * (y - y_mean))\n",
        "\n",
        "# Menghitung kemiringan (B1) dan intersep (B0)\n",
        "B1 = Sxy / Sxx\n",
        "B0 = y_mean - B1 * x_mean\n",
        "\n",
        "# Fungsi prediksi\n",
        "def predict(x_values):\n",
        "    return B0 + B1 * x_values\n",
        "\n",
        "# Hasil regresi\n",
        "y_pred = predict(x)\n",
        "\n",
        "# Menghitung R-squared\n",
        "ss_total = Syy  # Total sum of squares\n",
        "sse = np.sum((y - y_pred)**2)  # Residual sum of squares\n",
        "r_squared = 1 - (sse / ss_total)\n",
        "s2 = (sse/(n-2)) # MSE atau s^2\n",
        "r = Sxy / np.sqrt(Sxx * Syy)\n",
        "# Evaluasi model\n",
        "\n",
        "\n",
        "# Menampilkan hasil\n",
        "print(\"Jawaban Hasil regresi:\")\n",
        "print(f\"a. Sxx: {Sxx}\")\n",
        "print(f\"b. Sxy: {Sxy}\")\n",
        "print(f\"c. Syy: {Syy}\")\n",
        "print(f\"d. Slope (B1): {B1:.4f}\")\n",
        "print(f\"e. Intercept (B0): {B0:.4f}\")\n",
        "# Menampilkan persamaan regresi\n",
        "print(f\"f. Persamaan regresi: y = {B0:.2f} + {B1:.2f}x\")\n",
        "print(f\"g. SSE: {sse:.4f}\")\n",
        "print(f\"h. MSE atau s^2: {s2:.4f}\")\n",
        "print(f\"i. R-squared: {r_squared:.4f}\")\n",
        "print(f\"j. Korelasi Linear Sampel (r) : {r:.4f}\")"
      ],
      "metadata": {
        "colab": {
          "base_uri": "https://localhost:8080/"
        },
        "id": "XeFhjTsrE4cD",
        "outputId": "9f61fc3f-8571-4fbb-ab2f-5d46947230df"
      },
      "execution_count": null,
      "outputs": [
        {
          "output_type": "stream",
          "name": "stdout",
          "text": [
            "Jawaban Hasil regresi:\n",
            "a. Sxx: 30854.833333333336\n",
            "b. Sxy: 139201.6666666667\n",
            "c. Syy: 699463.3333333333\n",
            "d. Slope (B1): 4.5115\n",
            "e. Intercept (B0): 34.4685\n",
            "f. Persamaan regresi: y = 34.47 + 4.51x\n",
            "g. SSE: 71454.6258\n",
            "h. MSE atau s^2: 17863.6565\n",
            "i. R-squared: 0.8978\n",
            "j. Korelasi Linear Sampel (r) : 0.9475\n"
          ]
        }
      ]
    },
    {
      "cell_type": "code",
      "source": [
        "# No.6\n",
        "# Buatlah persamaan regresi dengan jumlah rak aktif (kolom = \"rak_aktif\") sebagai nilai x dan kebutuhan luas ruangan sebagai nilai y (kolom = \"luas_ruangan\").\n",
        "# Fungsi regresi untuk prediksi nilai y = f(x) = b1x + bo\n",
        "# a. Tentukan kemiringan dari persamaan regresinya! (b1)\n",
        "# b. Tentukan nilai perpotongan dari persamaan regresinya! (bo)\n",
        "# c. Tentukan nilai SSE (sum of squares of error) dari persamaan regresi linear yang dihasilkan! (hint: error = actual y-predicted y)\n",
        "# d. Tentukan R2 dari persamaan regresi linear yang dihasilkan!\n",
        "# e. Tentukan koefisien korelasi Pearson/linear sampel (r) antara x dan y!\"\n",
        "\n",
        "import pandas as pd\n",
        "import numpy as np\n",
        "\n",
        "# Create a DataFrame from the provided data\n",
        "data = {'Lokasi': ['Batam', 'Pekanbaru', 'Jakarta', 'Surabaya', 'Balikpapan', 'Makassar'],\n",
        "        'rak_aktif': [31, 20, 19, 21, 9, 16],\n",
        "        'luas_ruang': [90, 50, 55, 66, 25, 45]}\n",
        "df_no6 = pd.DataFrame(data)\n",
        "\n",
        "# Calculate the regression coefficients\n",
        "x = df_no6['rak_aktif']\n",
        "y = df_no6['luas_ruang']\n",
        "n = len(x)\n",
        "x_mean = np.mean(x)\n",
        "y_mean = np.mean(y)\n",
        "\n",
        "Sxx = np.sum((x - x_mean)**2)\n",
        "Syy = np.sum((y - y_mean)**2)\n",
        "Sxy = np.sum((x - x_mean) * (y - y_mean))\n",
        "\n",
        "b1 = Sxy / Sxx\n",
        "b0 = y_mean - b1 * x_mean\n",
        "\n",
        "# Predict y values\n",
        "y_pred = b0 + b1 * x\n",
        "\n",
        "# Calculate SSE\n",
        "sse = np.sum((y - y_pred)**2)\n",
        "\n",
        "# Calculate R-squared\n",
        "sst = Syy\n",
        "r_squared = 1 - (sse / sst)\n",
        "\n",
        "# Calculate Pearson correlation coefficient\n",
        "r = Sxy / np.sqrt(Sxx * Syy)\n",
        "\n",
        "# Print the results\n",
        "print(f\"a. Kemiringan (b1): {b1:.4f}\")\n",
        "print(f\"b. Nilai perpotongan (b0): {b0:.4f}\")\n",
        "print(f\"c. SSE: {sse:.4f}\")\n",
        "print(f\"d. R-squared: {r_squared:.4f}\")\n",
        "print(f\"e. Koefisien korelasi Pearson (r): {r:.4f}\")"
      ],
      "metadata": {
        "colab": {
          "base_uri": "https://localhost:8080/"
        },
        "id": "gnJCTi7sSvJ0",
        "outputId": "f5fb2e0a-0594-49ed-f36a-612ac907e8fe"
      },
      "execution_count": 34,
      "outputs": [
        {
          "output_type": "stream",
          "name": "stdout",
          "text": [
            "a. Kemiringan (b1): 2.9793\n",
            "b. Nilai perpotongan (b0): -2.4326\n",
            "c. SSE: 86.7228\n",
            "d. R-squared: 0.9634\n",
            "e. Koefisien korelasi Pearson (r): 0.9815\n"
          ]
        }
      ]
    },
    {
      "cell_type": "markdown",
      "source": [
        "### **95% dan 99% ci dari titik potong (intercept) persamaan regresi terhadap sumbu y**"
      ],
      "metadata": {
        "id": "f0_0vKZpM9mU"
      }
    },
    {
      "cell_type": "code",
      "source": [
        "import numpy as np\n",
        "import scipy.stats as st\n",
        "\n",
        "# Data diberikan\n",
        "Sxx = 30854.833333333336\n",
        "B0 = 34.4685\n",
        "B1 = 4.5115\n",
        "s2 = 17863.6565\n",
        "n = 10  # Jumlah sampel\n",
        "mean_x = 5.5  # Misal rata-rata x diketahui\n",
        "\n",
        "# Hitung SE untuk intercept\n",
        "SE_B0 = np.sqrt(s2 * (1/n + (mean_x**2 / Sxx)))\n",
        "\n",
        "# Derajat kebebasan\n",
        "df = n - 2\n",
        "\n",
        "# Nilai kritis t\n",
        "t_crit_95 = st.t.ppf(1 - 0.05 / 2, df)\n",
        "t_crit_99 = st.t.ppf(1 - 0.01 / 2, df)\n",
        "\n",
        "# Confidence Interval untuk intercept\n",
        "CI_B0_95 = (B0 - t_crit_95 * SE_B0, B0 + t_crit_95 * SE_B0)\n",
        "CI_B0_99 = (B0 - t_crit_99 * SE_B0, B0 + t_crit_99 * SE_B0)\n",
        "\n",
        "# Output hasil\n",
        "print(f\"Standard Error of Intercept: {SE_B0:.4f}\")\n",
        "print(f\"95% Confidence Interval for Intercept: {CI_B0_95[0]:.4f} to {CI_B0_95[1]:.4f}\")\n",
        "print(f\"99% Confidence Interval for Intercept: {CI_B0_99[0]:.4f} to {CI_B0_99[1]:.4f}\")\n"
      ],
      "metadata": {
        "colab": {
          "base_uri": "https://localhost:8080/"
        },
        "id": "W6ULLmhINVgs",
        "outputId": "937e5b22-c3d4-469c-ea00-8f8aadaf500a"
      },
      "execution_count": null,
      "outputs": [
        {
          "output_type": "stream",
          "name": "stdout",
          "text": [
            "Standard Error of Intercept: 42.4721\n",
            "95% Confidence Interval for Intercept: -63.4723 to 132.4093\n",
            "99% Confidence Interval for Intercept: -108.0418 to 176.9788\n"
          ]
        }
      ]
    },
    {
      "cell_type": "markdown",
      "source": [
        "### **95% and 99% CI for Slope (Tambahan)**"
      ],
      "metadata": {
        "id": "dC6zJLY4QVAB"
      }
    },
    {
      "cell_type": "code",
      "source": [
        "import numpy as np\n",
        "import scipy.stats as st\n",
        "\n",
        "# Data\n",
        "df = n-2 # Derajat kebebasan\n",
        "s2 = 17863.6565  # MSE atau s^2\n",
        "Sxx = 30854.8333\n",
        "B1 = 4.5115\n",
        "\n",
        "# Standard Error for Slope\n",
        "SE_B1 = np.sqrt(s2 / Sxx)\n",
        "\n",
        "# Nilai t kritis untuk tingkat kepercayaan 95% dan 99%\n",
        "t_critical_95 = st.t.ppf(1 - 0.05 / 2, df)\n",
        "t_critical_99 = st.t.ppf(1 - 0.01 / 2, df)\n",
        "\n",
        "# Interval Kepercayaan\n",
        "CI_B1_95 = (B1 - t_critical_95 * SE_B1, B1 + t_critical_95 * SE_B1)\n",
        "CI_B1_99 = (B1 - t_critical_99 * SE_B1, B1 + t_critical_99 * SE_B1)\n",
        "\n",
        "# Output\n",
        "print(f\"Standard Error of Slope: {SE_B1:.4f}\")\n",
        "print(f\"95% Confidence Interval for Slope: {CI_B1_95[0]:.4f} to {CI_B1_95[1]:.4f}\")\n",
        "print(f\"99% Confidence Interval for Slope: {CI_B1_99[0]:.4f} to {CI_B1_99[1]:.4f}\")"
      ],
      "metadata": {
        "colab": {
          "base_uri": "https://localhost:8080/"
        },
        "id": "SbWOe9JjPf5B",
        "outputId": "0c632c76-825c-414a-e2eb-696afab28540"
      },
      "execution_count": null,
      "outputs": [
        {
          "output_type": "stream",
          "name": "stdout",
          "text": [
            "Standard Error of Slope: 0.7609\n",
            "95% Confidence Interval for Slope: 2.3989 to 6.6241\n",
            "99% Confidence Interval for Slope: 1.0083 to 8.0147\n"
          ]
        }
      ]
    },
    {
      "cell_type": "markdown",
      "source": [
        "### HYPOTESIS TESTING FOR GRADIENT 0 OR NOT 0"
      ],
      "metadata": {
        "id": "s-6I90WpVE6S"
      }
    },
    {
      "cell_type": "code",
      "source": [
        "import numpy as np\n",
        "import scipy.stats as st\n",
        "\n",
        "# Data\n",
        "# Masukkan data yang ingin di regresi linear\n",
        "x = np.array([315, 250, 197, 258, 93, 164])  # Variabel independen\n",
        "y = np.array([1600, 1100, 1003, 1000, 460, 805])  # Variabel dependen\n",
        "n = len(x)\n",
        "\n",
        "# Statistik dasar\n",
        "x_mean = np.mean(x)\n",
        "y_mean = np.mean(y)\n",
        "\n",
        "# Hitung Sxx dan Sxy\n",
        "Sxx = np.sum((x - x_mean)**2)\n",
        "Sxy = np.sum((x - x_mean) * (y - y_mean))\n",
        "\n",
        "# Koefisien regresi\n",
        "B1 = Sxy / Sxx  # Gradien (slope)\n",
        "B0 = y_mean - B1 * x_mean  # Intercept\n",
        "\n",
        "# Standard Error (SE) untuk gradien\n",
        "y_pred = B0 + B1 * x\n",
        "residuals = y - y_pred\n",
        "SE_B1 = np.sqrt(np.sum(residuals**2) / (n - 2)) / np.sqrt(Sxx)\n",
        "\n",
        "# t-statistik\n",
        "t_stat = B1 / SE_B1\n",
        "\n",
        "# Nilai kritis dan p-value\n",
        "alpha_5 = 0.05\n",
        "alpha_1 = 0.01\n",
        "df = n - 2  # Degree of freedom\n",
        "t_crit_5 = st.t.ppf(1 - alpha_5 / 2, df)  # Nilai kritis untuk 5%\n",
        "t_crit_1 = st.t.ppf(1 - alpha_1 / 2, df)  # Nilai kritis untuk 1%\n",
        "p_value = 2 * (1 - st.t.cdf(abs(t_stat), df))  # p-value\n",
        "\n",
        "# Hasil\n",
        "print(\"HIPOTESIS 0 MENYATAKAN = 0. H1 MENYATAKAN != 0, SEHINGGA KITA MEMAKAI TESTING 2 ARAH.\")\n",
        "print(f\"Gradien (B1): {B1:.4f}\")\n",
        "print(f\"Standard Error (SE_B1): {SE_B1:.4f}\")\n",
        "print(f\"t-statistik: {t_stat:.4f}\")\n",
        "print(f\"Nilai kritis (5%): ±{t_crit_5:.4f}\")\n",
        "print(f\"Nilai kritis (1%): ±{t_crit_1:.4f}\")\n",
        "print(f\"p-value: {p_value:.4f}\")\n",
        "\n",
        "# Uji dua arah\n",
        "print(\"=== Uji Dua Arah ===\")\n",
        "print(f\"Nilai kritis (5%): t < {-t_crit_5:.4f} atau t > {t_crit_5:.4f}\")\n",
        "print(f\"Nilai kritis (1%): t < {-t_crit_1:.4f} atau t > {t_crit_1:.4f}\")\n",
        "if abs(t_stat) > t_crit_5:\n",
        "    print(f\"Hasil signifikan pada tingkat signifikansi 5% (tolak H0). t = {t_stat:.4f}\")\n",
        "else:\n",
        "    print(f\"Hasil tidak signifikan pada tingkat signifikansi 5% (gagal tolak H0). t = {t_stat:.4f}\")\n",
        "\n",
        "if abs(t_stat) > t_crit_1:\n",
        "    print(f\"Hasil signifikan pada tingkat signifikansi 1% (tolak H0). t = {t_stat:.4f}\")\n",
        "else:\n",
        "    print(f\"Hasil tidak signifikan pada tingkat signifikansi 1% (gagal tolak H0). t = {t_stat:.4f}\")\n",
        "\n",
        "# Uji satu arah (positif)\n",
        "t_crit_one_tail_5 = st.t.ppf(1 - alpha_5, df)  # Nilai kritis untuk 5% satu arah\n",
        "t_crit_one_tail_1 = st.t.ppf(1 - alpha_1, df)  # Nilai kritis untuk 1% satu arah\n",
        "\n",
        "print(\"\\n=== Uji Satu Arah (positif) ===\")\n",
        "print(f\"Nilai kritis (5%): t > {t_crit_one_tail_5:.4f}\")\n",
        "print(f\"Nilai kritis (1%): t > {t_crit_one_tail_1:.4f}\")\n",
        "if t_stat > t_crit_one_tail_5:\n",
        "    print(f\"Hasil signifikan pada tingkat signifikansi 5% (tolak H0). t = {t_stat:.4f}\")\n",
        "else:\n",
        "    print(f\"Hasil tidak signifikan pada tingkat signifikansi 5% (gagal tolak H0). t = {t_stat:.4f}\")\n",
        "\n",
        "if t_stat > t_crit_one_tail_1:\n",
        "    print(f\"Hasil signifikan pada tingkat signifikansi 1% (tolak H0). t = {t_stat:.4f}\")\n",
        "else:\n",
        "    print(f\"Hasil tidak signifikan pada tingkat signifikansi 1% (gagal tolak H0). t = {t_stat:.4f}\")\n"
      ],
      "metadata": {
        "colab": {
          "base_uri": "https://localhost:8080/"
        },
        "id": "w8fr-DTlVbLB",
        "outputId": "515d4beb-9dd0-4be5-aec0-b4b40415c699"
      },
      "execution_count": null,
      "outputs": [
        {
          "output_type": "stream",
          "name": "stdout",
          "text": [
            "HIPOTESIS 0 MENYATAKAN = 0. H1 MENYATAKAN != 0, SEHINGGA KITA MEMAKAI TESTING 2 ARAH.\n",
            "Gradien (B1): 4.5115\n",
            "Standard Error (SE_B1): 0.7609\n",
            "t-statistik: 5.9292\n",
            "Nilai kritis (5%): ±2.7764\n",
            "Nilai kritis (1%): ±4.6041\n",
            "p-value: 0.0041\n",
            "=== Uji Dua Arah ===\n",
            "Nilai kritis (5%): t < -2.7764 atau t > 2.7764\n",
            "Nilai kritis (1%): t < -4.6041 atau t > 4.6041\n",
            "Hasil signifikan pada tingkat signifikansi 5% (tolak H0). t = 5.9292\n",
            "Hasil signifikan pada tingkat signifikansi 1% (tolak H0). t = 5.9292\n",
            "\n",
            "=== Uji Satu Arah (positif) ===\n",
            "Nilai kritis (5%): t > 2.1318\n",
            "Nilai kritis (1%): t > 3.7469\n",
            "Hasil signifikan pada tingkat signifikansi 5% (tolak H0). t = 5.9292\n",
            "Hasil signifikan pada tingkat signifikansi 1% (tolak H0). t = 5.9292\n"
          ]
        }
      ]
    },
    {
      "cell_type": "markdown",
      "source": [
        "# **ADDS : CARA IMPORT FILE EXCEL BEDA SHEET**"
      ],
      "metadata": {
        "id": "MDKZYrSfXI0r"
      }
    },
    {
      "cell_type": "markdown",
      "source": [
        "### cara 1"
      ],
      "metadata": {
        "id": "9TI7APLpXSfw"
      }
    },
    {
      "cell_type": "code",
      "source": [
        "# Mengimpor pustaka yang dibutuhkan\n",
        "import pandas as pd\n",
        "from tabulate import tabulate  # Impor tabulate untuk format tabel\n",
        "\n",
        "# Path file Excel dan nama sheet\n",
        "file_path = \"13223104.xlsx\"\n",
        "sheet_name = \"Sheet1\"\n",
        "sheet_name2 = \"Sheet2\"\n",
        "\n",
        "# Membaca data dari file Excel\n",
        "df = pd.read_excel(file_path, sheet_name=sheet_name)  # Data dengan header\n",
        "data = pd.read_excel(file_path, header=None)  # Data tanpa header (opsional)\n",
        "data2 = pd.read_excel(file_path, sheet_name=sheet_name2)  # Data dengan header\n",
        "\n",
        "# Menampilkan 5 baris pertama dengan tabulate\n",
        "print(tabulate(df.head(), headers='keys', tablefmt='fancy_grid'))\n",
        "\n",
        "print(tabulate(data.head(), headers='keys', tablefmt='fancy_grid'))\n",
        "\n",
        "print(tabulate(data2.head(), headers='keys', tablefmt='fancy_grid'))"
      ],
      "metadata": {
        "id": "0EEO7K1QXQrt"
      },
      "execution_count": null,
      "outputs": []
    }
  ]
}